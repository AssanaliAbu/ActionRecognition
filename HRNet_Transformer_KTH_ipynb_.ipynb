{
  "cells": [
    {
      "cell_type": "markdown",
      "metadata": {
        "id": "SomPcIvmaI7Z"
      },
      "source": [
        "# Transformer model on JHMDB dataset"
      ]
    },
    {
      "cell_type": "markdown",
      "source": [
        "Change the project path to the appropriate project folder path"
      ],
      "metadata": {
        "id": "pIUKSDpbqmj1"
      }
    },
    {
      "cell_type": "code",
      "source": [
        " !pip install tensorflow==2.7"
      ],
      "metadata": {
        "colab": {
          "base_uri": "https://localhost:8080/"
        },
        "id": "O2T2RycpCoir",
        "outputId": "7a6084aa-ee64-4dc8-d252-c7f4ca1416d1"
      },
      "execution_count": null,
      "outputs": [
        {
          "output_type": "stream",
          "name": "stdout",
          "text": [
            "Looking in indexes: https://pypi.org/simple, https://us-python.pkg.dev/colab-wheels/public/simple/\n",
            "Requirement already satisfied: tensorflow==2.7 in /usr/local/lib/python3.9/dist-packages (2.7.0)\n",
            "Requirement already satisfied: astunparse>=1.6.0 in /usr/local/lib/python3.9/dist-packages (from tensorflow==2.7) (1.6.3)\n",
            "Requirement already satisfied: tensorboard~=2.6 in /usr/local/lib/python3.9/dist-packages (from tensorflow==2.7) (2.12.1)\n",
            "Requirement already satisfied: gast<0.5.0,>=0.2.1 in /usr/local/lib/python3.9/dist-packages (from tensorflow==2.7) (0.4.0)\n",
            "Requirement already satisfied: six>=1.12.0 in /usr/local/lib/python3.9/dist-packages (from tensorflow==2.7) (1.16.0)\n",
            "Requirement already satisfied: absl-py>=0.4.0 in /usr/local/lib/python3.9/dist-packages (from tensorflow==2.7) (1.4.0)\n",
            "Requirement already satisfied: keras-preprocessing>=1.1.1 in /usr/local/lib/python3.9/dist-packages (from tensorflow==2.7) (1.1.2)\n",
            "Requirement already satisfied: termcolor>=1.1.0 in /usr/local/lib/python3.9/dist-packages (from tensorflow==2.7) (2.2.0)\n",
            "Requirement already satisfied: google-pasta>=0.1.1 in /usr/local/lib/python3.9/dist-packages (from tensorflow==2.7) (0.2.0)\n",
            "Requirement already satisfied: numpy>=1.14.5 in /usr/local/lib/python3.9/dist-packages (from tensorflow==2.7) (1.22.4)\n",
            "Requirement already satisfied: keras<2.8,>=2.7.0rc0 in /usr/local/lib/python3.9/dist-packages (from tensorflow==2.7) (2.7.0)\n",
            "Requirement already satisfied: h5py>=2.9.0 in /usr/local/lib/python3.9/dist-packages (from tensorflow==2.7) (3.8.0)\n",
            "Requirement already satisfied: typing-extensions>=3.6.6 in /usr/local/lib/python3.9/dist-packages (from tensorflow==2.7) (4.5.0)\n",
            "Requirement already satisfied: opt-einsum>=2.3.2 in /usr/local/lib/python3.9/dist-packages (from tensorflow==2.7) (3.3.0)\n",
            "Requirement already satisfied: tensorflow-io-gcs-filesystem>=0.21.0 in /usr/local/lib/python3.9/dist-packages (from tensorflow==2.7) (0.32.0)\n",
            "Requirement already satisfied: tensorflow-estimator<2.8,~=2.7.0rc0 in /usr/local/lib/python3.9/dist-packages (from tensorflow==2.7) (2.7.0)\n",
            "Requirement already satisfied: flatbuffers<3.0,>=1.12 in /usr/local/lib/python3.9/dist-packages (from tensorflow==2.7) (2.0.7)\n",
            "Requirement already satisfied: wheel<1.0,>=0.32.0 in /usr/local/lib/python3.9/dist-packages (from tensorflow==2.7) (0.40.0)\n",
            "Requirement already satisfied: protobuf>=3.9.2 in /usr/local/lib/python3.9/dist-packages (from tensorflow==2.7) (3.20.3)\n",
            "Requirement already satisfied: grpcio<2.0,>=1.24.3 in /usr/local/lib/python3.9/dist-packages (from tensorflow==2.7) (1.53.0)\n",
            "Requirement already satisfied: libclang>=9.0.1 in /usr/local/lib/python3.9/dist-packages (from tensorflow==2.7) (16.0.0)\n",
            "Requirement already satisfied: wrapt>=1.11.0 in /usr/local/lib/python3.9/dist-packages (from tensorflow==2.7) (1.14.1)\n",
            "Requirement already satisfied: google-auth-oauthlib<1.1,>=0.5 in /usr/local/lib/python3.9/dist-packages (from tensorboard~=2.6->tensorflow==2.7) (1.0.0)\n",
            "Requirement already satisfied: tensorboard-plugin-wit>=1.6.0 in /usr/local/lib/python3.9/dist-packages (from tensorboard~=2.6->tensorflow==2.7) (1.8.1)\n",
            "Requirement already satisfied: tensorboard-data-server<0.8.0,>=0.7.0 in /usr/local/lib/python3.9/dist-packages (from tensorboard~=2.6->tensorflow==2.7) (0.7.0)\n",
            "Requirement already satisfied: werkzeug>=1.0.1 in /usr/local/lib/python3.9/dist-packages (from tensorboard~=2.6->tensorflow==2.7) (2.2.3)\n",
            "Requirement already satisfied: markdown>=2.6.8 in /usr/local/lib/python3.9/dist-packages (from tensorboard~=2.6->tensorflow==2.7) (3.4.3)\n",
            "Requirement already satisfied: setuptools>=41.0.0 in /usr/local/lib/python3.9/dist-packages (from tensorboard~=2.6->tensorflow==2.7) (67.6.1)\n",
            "Requirement already satisfied: requests<3,>=2.21.0 in /usr/local/lib/python3.9/dist-packages (from tensorboard~=2.6->tensorflow==2.7) (2.27.1)\n",
            "Requirement already satisfied: google-auth<3,>=1.6.3 in /usr/local/lib/python3.9/dist-packages (from tensorboard~=2.6->tensorflow==2.7) (2.17.2)\n",
            "Requirement already satisfied: rsa<5,>=3.1.4 in /usr/local/lib/python3.9/dist-packages (from google-auth<3,>=1.6.3->tensorboard~=2.6->tensorflow==2.7) (4.9)\n",
            "Requirement already satisfied: pyasn1-modules>=0.2.1 in /usr/local/lib/python3.9/dist-packages (from google-auth<3,>=1.6.3->tensorboard~=2.6->tensorflow==2.7) (0.2.8)\n",
            "Requirement already satisfied: cachetools<6.0,>=2.0.0 in /usr/local/lib/python3.9/dist-packages (from google-auth<3,>=1.6.3->tensorboard~=2.6->tensorflow==2.7) (5.3.0)\n",
            "Requirement already satisfied: requests-oauthlib>=0.7.0 in /usr/local/lib/python3.9/dist-packages (from google-auth-oauthlib<1.1,>=0.5->tensorboard~=2.6->tensorflow==2.7) (1.3.1)\n",
            "Requirement already satisfied: importlib-metadata>=4.4 in /usr/local/lib/python3.9/dist-packages (from markdown>=2.6.8->tensorboard~=2.6->tensorflow==2.7) (6.3.0)\n",
            "Requirement already satisfied: certifi>=2017.4.17 in /usr/local/lib/python3.9/dist-packages (from requests<3,>=2.21.0->tensorboard~=2.6->tensorflow==2.7) (2022.12.7)\n",
            "Requirement already satisfied: idna<4,>=2.5 in /usr/local/lib/python3.9/dist-packages (from requests<3,>=2.21.0->tensorboard~=2.6->tensorflow==2.7) (3.4)\n",
            "Requirement already satisfied: urllib3<1.27,>=1.21.1 in /usr/local/lib/python3.9/dist-packages (from requests<3,>=2.21.0->tensorboard~=2.6->tensorflow==2.7) (1.26.15)\n",
            "Requirement already satisfied: charset-normalizer~=2.0.0 in /usr/local/lib/python3.9/dist-packages (from requests<3,>=2.21.0->tensorboard~=2.6->tensorflow==2.7) (2.0.12)\n",
            "Requirement already satisfied: MarkupSafe>=2.1.1 in /usr/local/lib/python3.9/dist-packages (from werkzeug>=1.0.1->tensorboard~=2.6->tensorflow==2.7) (2.1.2)\n",
            "Requirement already satisfied: zipp>=0.5 in /usr/local/lib/python3.9/dist-packages (from importlib-metadata>=4.4->markdown>=2.6.8->tensorboard~=2.6->tensorflow==2.7) (3.15.0)\n",
            "Requirement already satisfied: pyasn1<0.5.0,>=0.4.6 in /usr/local/lib/python3.9/dist-packages (from pyasn1-modules>=0.2.1->google-auth<3,>=1.6.3->tensorboard~=2.6->tensorflow==2.7) (0.4.8)\n",
            "Requirement already satisfied: oauthlib>=3.0.0 in /usr/local/lib/python3.9/dist-packages (from requests-oauthlib>=0.7.0->google-auth-oauthlib<1.1,>=0.5->tensorboard~=2.6->tensorflow==2.7) (3.2.2)\n"
          ]
        }
      ]
    },
    {
      "cell_type": "code",
      "source": [
        "path = 'drive/MyDrive/HumanActionRecognition/'"
      ],
      "metadata": {
        "id": "mAxaQBxHbPNX"
      },
      "execution_count": null,
      "outputs": []
    },
    {
      "cell_type": "markdown",
      "source": [],
      "metadata": {
        "id": "GMeZGcn7BtwU"
      }
    },
    {
      "cell_type": "code",
      "source": [
        "from google.colab import drive\n",
        "drive.mount('/content/drive')"
      ],
      "metadata": {
        "colab": {
          "base_uri": "https://localhost:8080/"
        },
        "id": "fudwk14WbPbB",
        "outputId": "52cd544c-55c1-45f1-89d5-68237ee4e9dd"
      },
      "execution_count": null,
      "outputs": [
        {
          "output_type": "stream",
          "name": "stdout",
          "text": [
            "Drive already mounted at /content/drive; to attempt to forcibly remount, call drive.mount(\"/content/drive\", force_remount=True).\n"
          ]
        }
      ]
    },
    {
      "cell_type": "code",
      "source": [
        "!cp drive/MyDrive/HumanActionRecognition/Utils/tools/an_example_skeleton_of_standing.py ."
      ],
      "metadata": {
        "id": "DTMpHTE2eiOA"
      },
      "execution_count": null,
      "outputs": []
    },
    {
      "cell_type": "code",
      "source": [
        "!cp drive/MyDrive/HumanActionRecognition/Utils/utils/lib_plot.py ."
      ],
      "metadata": {
        "id": "f7W-7CkSeiWf"
      },
      "execution_count": null,
      "outputs": []
    },
    {
      "cell_type": "code",
      "source": [
        "!cp drive/MyDrive/HumanActionRecognition/Utils/utils/lib_commons.py ."
      ],
      "metadata": {
        "id": "yJp9lAfCeiZ7"
      },
      "execution_count": null,
      "outputs": []
    },
    {
      "cell_type": "code",
      "source": [
        "!pip install simplejson"
      ],
      "metadata": {
        "colab": {
          "base_uri": "https://localhost:8080/"
        },
        "id": "Lay3JRUmeieB",
        "outputId": "b6101de7-36b3-427b-c728-c2f25e1b5900"
      },
      "execution_count": null,
      "outputs": [
        {
          "output_type": "stream",
          "name": "stdout",
          "text": [
            "Looking in indexes: https://pypi.org/simple, https://us-python.pkg.dev/colab-wheels/public/simple/\n",
            "Requirement already satisfied: simplejson in /usr/local/lib/python3.9/dist-packages (3.19.1)\n"
          ]
        }
      ]
    },
    {
      "cell_type": "code",
      "execution_count": null,
      "metadata": {
        "id": "vwprds_-aI7p"
      },
      "outputs": [],
      "source": [
        "import numpy as np\n",
        "import matplotlib\n",
        "import matplotlib.pyplot as plt\n",
        "from sklearn import metrics\n",
        "import random\n",
        "from random import randint\n",
        "import time\n",
        "import os\n",
        "from scipy.spatial.distance import pdist\n",
        "import tensorflow as tf\n",
        "from tensorflow import keras\n",
        "from tensorflow.keras import layers\n",
        "import pandas as pd\n",
        "import imageio\n",
        "import os"
      ]
    },
    {
      "cell_type": "code",
      "execution_count": null,
      "metadata": {
        "id": "-hDDGHQiaI7s"
      },
      "outputs": [],
      "source": [
        "import cv2\n",
        "import simplejson\n",
        "from sklearn.preprocessing import OneHotEncoder\n",
        "from an_example_skeleton_of_standing import get_a_normalized_jhmdb_skeleton\n",
        "from collections import deque\n",
        "import pickle\n",
        "import sklearn.model_selection\n",
        "from sklearn.metrics import classification_report\n",
        "from matplotlib.colors import ListedColormap\n",
        "from sklearn.datasets import make_classification\n",
        "from sklearn.decomposition import PCA\n",
        "import lib_plot as lib_plot\n",
        "import lib_commons as lib_commons\n",
        "import math\n",
        "from keras.regularizers import l2\n",
        "from tensorflow.keras.layers import BatchNormalization\n"
      ]
    },
    {
      "cell_type": "code",
      "source": [
        "def draw(skeleton): # helper function to draw skeleton\n",
        "    x = skeleton[0::2]\n",
        "    y = skeleton[1::2]\n",
        "    plt.plot(x, y, \"r*\")\n",
        "    plt.axis(\"equal\")\n",
        "    plt.show()"
      ],
      "metadata": {
        "id": "GRovC4Jgh0Kh"
      },
      "execution_count": null,
      "outputs": []
    },
    {
      "cell_type": "markdown",
      "metadata": {
        "id": "TD_CgomQaI7w"
      },
      "source": [
        "\n",
        "#Data augmentation:"
      ]
    },
    {
      "cell_type": "markdown",
      "source": [
        "1. Flips original data along x-axis\n",
        "2. Adds Gaussian noise to original data with sigma 0.02\n",
        "3. Adds Gaussian noise to original data with sigma 0.04\n",
        "4. Rotates flipped data to 15°\n",
        "5. Rotates flipped data to -15°\n",
        "6. Rotates flipped data to 30°\n",
        "7. Rotates flipped data to -30°"
      ],
      "metadata": {
        "id": "ZoxuapC5P7bP"
      }
    },
    {
      "cell_type": "code",
      "source": [
        "def data_augment(x_df, y_df, size):\n",
        "    #flipping\n",
        "    x_copy = x_df.copy()\n",
        "    x_copy[x_copy.columns[::2]] = x_copy[x_copy.columns[::2]].apply(lambda x: -x)\n",
        "    x_flipped = pd.concat([x_df, x_copy], ignore_index=True)\n",
        "    y_copy = y_df.copy()\n",
        "    y_flipped = pd.concat([y_df, y_copy], ignore_index=True)\n",
        "    #noising\n",
        "    mu, sigma1 = 0, 0.02\n",
        "    noise = np.random.normal(mu, sigma1, [size,34])\n",
        "    x_noise = x_df + noise\n",
        "    x_noised = pd.concat([x_flipped, x_noise], ignore_index=True)\n",
        "    y_noised = pd.concat([y_flipped, y_copy], ignore_index=True)\n",
        "    #noising2\n",
        "    sigma2 = 0.04\n",
        "    noise2 = np.random.normal(mu, sigma2, [size,34])\n",
        "    x_noise2 = x_df + noise2\n",
        "    x_noised2 = pd.concat([x_noised, x_noise2], ignore_index=True)\n",
        "    y_noised2 = pd.concat([y_noised, y_copy], ignore_index=True)\n",
        "    # rotate1\n",
        "    x_rotate1 = x_flipped.apply(lambda x: rotate(x.to_numpy(), 15), axis=1, result_type='broadcast')\n",
        "    x_rotated = pd.concat([x_noised2, x_rotate1], ignore_index=True)\n",
        "    y_rotated = pd.concat([y_noised2, y_flipped], ignore_index=True)\n",
        "    #rotate2\n",
        "    x_rotate2 = x_flipped.apply(lambda x: rotate(x.to_numpy(), -15), axis=1, result_type='broadcast')\n",
        "    x_rotated2 = pd.concat([x_rotated, x_rotate2], ignore_index=True)\n",
        "    y_rotated2 = pd.concat([y_rotated, y_flipped], ignore_index=True)\n",
        "    #rotate3\n",
        "    x_rotate3 = x_flipped.apply(lambda x: rotate(x.to_numpy(), 30), axis=1, result_type='broadcast')\n",
        "    x_rotated3 = pd.concat([x_rotated2, x_rotate3], ignore_index=True)\n",
        "    y_rotated3 = pd.concat([y_rotated2, y_flipped], ignore_index=True)\n",
        "    # rotate4\n",
        "    x_rotate4 = x_flipped.apply(lambda x: rotate(x.to_numpy(), -30), axis=1, result_type='broadcast')\n",
        "    x_rotated4 = pd.concat([x_rotated3, x_rotate4], ignore_index=True)\n",
        "    y_rotated4 = pd.concat([y_rotated3, y_flipped], ignore_index=True)\n",
        "\n",
        "    return x_rotated4, y_rotated4"
      ],
      "metadata": {
        "id": "6XPVUWtah0U2"
      },
      "execution_count": null,
      "outputs": []
    },
    {
      "cell_type": "code",
      "source": [
        "def rotate_joint(joint: tuple, p: int) -> tuple:\n",
        "    x, y = joint\n",
        "    psi = np.deg2rad(p)\n",
        "\n",
        "    a = np.array([[np.cos(psi), -np.sin(psi)],\n",
        "                  [np.sin(psi), np.cos(psi)]])\n",
        "    b = np.array([x, y])\n",
        "    joint = np.matmul(a, b)\n",
        "    return joint\n",
        "\n",
        "def rotate(frame, p: int) -> np.array:\n",
        "    frame = frame.reshape(-1, 2)\n",
        "    rotated = np.array([rotate_joint(joint=joint, p=p) for joint in frame])\n",
        "    return rotated.reshape(-1)"
      ],
      "metadata": {
        "id": "vuA4PdGNAOmK"
      },
      "execution_count": null,
      "outputs": []
    },
    {
      "cell_type": "markdown",
      "metadata": {
        "id": "ZszNSH23aI8B"
      },
      "source": [
        "# Feature extraction"
      ]
    },
    {
      "cell_type": "code",
      "execution_count": null,
      "metadata": {
        "id": "kEkC2togaI7w"
      },
      "outputs": [],
      "source": [
        "WINDOW_SIZE = int(5) # number of frames in action-snippet used to extract features."
      ]
    },
    {
      "cell_type": "code",
      "execution_count": null,
      "metadata": {
        "id": "ENOSWP0HaI7w"
      },
      "outputs": [],
      "source": [
        "import numpy as np\n",
        "CLASSES = np.array(['0', '1', '2', '3', '4', '5'])"
      ]
    },
    {
      "cell_type": "code",
      "source": [
        "with open(\"/content/drive/MyDrive/HRNET/Train_cut\", \"rb\") as fp:   # Unpickling\n",
        "  train = pickle.load(fp)\n",
        "\n",
        "with open(\"/content/drive/MyDrive/HRNET/Val_cut\", \"rb\") as fp:   # Unpickling\n",
        "  val = pickle.load(fp)\n",
        "\n",
        "with open(\"/content/drive/MyDrive/HRNET/Test_cut\", \"rb\") as fp:   # Unpickling\n",
        "  test = pickle.load(fp)"
      ],
      "metadata": {
        "id": "HQD574BaDi2F"
      },
      "execution_count": null,
      "outputs": []
    },
    {
      "cell_type": "code",
      "source": [
        "train = train + val\n",
        "train_labels = train_labels + val_labels"
      ],
      "metadata": {
        "id": "6h0B71Z2ajsH"
      },
      "execution_count": null,
      "outputs": []
    },
    {
      "cell_type": "code",
      "source": [
        "def zoom(p, target_l=32, joints_num=17, joints_dim=2):\n",
        "    l = p.shape[0]\n",
        "    p_new = np.empty([target_l, joints_num, joints_dim])\n",
        "    for m in range(joints_num):\n",
        "        for n in range(joints_dim):\n",
        "            p[:, m, n] = medfilt(p[:, m, n], 3)\n",
        "            p_new[:, m, n] = inter.zoom(p[:, m, n], target_l / l)[:target_l]\n",
        "    return p_new\n"
      ],
      "metadata": {
        "id": "nBB8JdmR401q"
      },
      "execution_count": null,
      "outputs": []
    },
    {
      "cell_type": "code",
      "source": [
        "import numpy as np\n",
        "import pandas as pd\n",
        "from scipy.signal import medfilt\n",
        "import scipy.ndimage.interpolation as inter\n",
        "# Example data\n",
        "\n",
        "data = []\n",
        "for video in train:\n",
        "  video = zoom(video)\n",
        "  data.append(video)\n",
        "\n",
        "\n",
        "\n",
        "number_Of_videos = len(data)\n",
        "\n",
        "# Reshape and concatenate the data for each frame of each video\n",
        "frames = []\n",
        "for i in range(number_Of_videos):\n",
        "    for j in range(data[i].shape[0]):\n",
        "        reshaped_data = data[i][j].reshape((1, 17*2))\n",
        "        frames.append(pd.DataFrame(data=reshaped_data))\n",
        "\n",
        "# Concatenate the data frames into a single DataFrame\n",
        "df_train = pd.concat(frames, ignore_index=True)\n",
        "\n",
        "# Create column names for the DataFrame\n",
        "columns = [f'pos{i}_coord{j}' for i in range(17) for j in range(2)]\n",
        "df_train.columns = columns\n",
        "\n",
        "# Print the first 5 rows of the DataFrame\n",
        "print(df_train.head())"
      ],
      "metadata": {
        "colab": {
          "base_uri": "https://localhost:8080/"
        },
        "id": "s7PNOfEPDn8z",
        "outputId": "e1499069-c340-4df6-f5f5-48f45d497a0b"
      },
      "execution_count": null,
      "outputs": [
        {
          "output_type": "stream",
          "name": "stderr",
          "text": [
            "<ipython-input-12-a5f4382baad1>:7: DeprecationWarning: Please use `zoom` from the `scipy.ndimage` namespace, the `scipy.ndimage.interpolation` namespace is deprecated.\n",
            "  p_new[:, m, n] = inter.zoom(p[:, m, n], target_l / l)[:target_l]\n"
          ]
        },
        {
          "output_type": "stream",
          "name": "stdout",
          "text": [
            "   pos0_coord0  pos0_coord1  pos1_coord0  pos1_coord1  pos2_coord0  \\\n",
            "0    68.623947    31.277958    69.414825    28.905361    68.623947   \n",
            "1    68.616081    31.866560    69.393112    30.318384    68.616081   \n",
            "2    69.239861    35.147247    70.094208    32.918533    69.239861   \n",
            "3    70.962662    35.260166    72.524796    33.884529    70.962662   \n",
            "4    70.179230    34.632328    71.357422    33.125015    70.179230   \n",
            "\n",
            "   pos2_coord1  pos3_coord0  pos3_coord1  pos4_coord0  pos4_coord1  ...  \\\n",
            "0    28.905361    74.160019    28.905361    70.996552    28.114491  ...   \n",
            "1    30.382627    74.179459    31.033491    74.249107    29.485142  ...   \n",
            "2    33.619774    75.386406    32.029675    73.943153    31.475267  ...   \n",
            "3    33.785522    77.592522    33.087261    74.576385    33.182766  ...   \n",
            "4    33.152817    76.206680    32.983608    75.393326    32.696232  ...   \n",
            "\n",
            "   pos12_coord0  pos12_coord1  pos13_coord0  pos13_coord1  pos14_coord0  \\\n",
            "0     74.950897     59.749187     78.766083     77.148270     73.369156   \n",
            "1     77.401474     60.579002     81.021080     78.840714     73.352791   \n",
            "2     77.226212     61.017418     81.891556     80.229187     73.513306   \n",
            "3     76.685043     61.785965     80.781021     80.048592     74.014900   \n",
            "4     79.346382     61.478470     79.914757     79.533157     75.044548   \n",
            "\n",
            "   pos14_coord1  pos15_coord0  pos15_coord1  pos16_coord0  pos16_coord1  \n",
            "0     75.566528     84.808212     92.965622     76.532623     91.483307  \n",
            "1     76.359825     87.623985     94.874657     77.932663     92.237129  \n",
            "2     77.449303     87.369507     94.756241     78.333588     92.469353  \n",
            "3     79.282288     87.485092     95.144775     80.967262     92.371117  \n",
            "4     78.036980     85.220734     94.955307     81.391304     92.019035  \n",
            "\n",
            "[5 rows x 34 columns]\n"
          ]
        }
      ]
    },
    {
      "cell_type": "code",
      "source": [
        "train_videos = pickle.load(open(\"/content/drive/My Drive/KTH_Private/train.p\", \"rb\"))\n",
        "valid_videos = pickle.load(open(\"/content/drive/My Drive/KTH_Private/dev.p\", \"rb\"))\n",
        "test_videos = pickle.load(open(\"/content/drive/My Drive/KTH_Private/test.p\", \"rb\"))"
      ],
      "metadata": {
        "id": "4Rl5CmXBDuzk"
      },
      "execution_count": null,
      "outputs": []
    },
    {
      "cell_type": "code",
      "source": [
        "\n",
        "train_labels = []\n",
        "for video in train_videos:\n",
        "  train_labels.append(video['category'])\n",
        "print(len(train_labels))\n",
        "# train = train_poses\n",
        "\n",
        "\n",
        "val_labels = []\n",
        "for video in valid_videos:\n",
        "  val_labels.append(video['category'])\n",
        "print(len(val_labels))\n",
        "# val = val_poses\n",
        "\n",
        "test_labels = []\n",
        "for video in test_videos:\n",
        "  test_labels.append(video['category'])\n",
        "print(len(test_labels))"
      ],
      "metadata": {
        "colab": {
          "base_uri": "https://localhost:8080/"
        },
        "id": "udvn1_5xDzSc",
        "outputId": "d02b2142-df97-4a59-b2cd-31ed85b3889d"
      },
      "execution_count": null,
      "outputs": [
        {
          "output_type": "stream",
          "name": "stdout",
          "text": [
            "191\n",
            "192\n",
            "216\n"
          ]
        }
      ]
    },
    {
      "cell_type": "code",
      "source": [
        "new_train_labels = []\n",
        "for a in train_labels:\n",
        "  if a == 'boxing':\n",
        "    new_train_labels.append(0)\n",
        "  elif a == 'handclapping':\n",
        "    new_train_labels.append(1)\n",
        "  elif a == 'handwaving':\n",
        "    new_train_labels.append(2)\n",
        "  elif a == 'jogging':\n",
        "    new_train_labels.append(3)\n",
        "  elif a == 'running':\n",
        "    new_train_labels.append(4)\n",
        "  else:\n",
        "    new_train_labels.append(5)\n",
        "\n",
        "print(new_train_labels)"
      ],
      "metadata": {
        "colab": {
          "base_uri": "https://localhost:8080/"
        },
        "id": "wd4o4IAA9PWB",
        "outputId": "b44e742c-d15c-4e10-bbe3-f7906dd9ac29"
      },
      "execution_count": null,
      "outputs": [
        {
          "output_type": "stream",
          "name": "stdout",
          "text": [
            "[0, 0, 0, 0, 0, 0, 0, 0, 0, 0, 0, 0, 0, 0, 0, 0, 0, 0, 0, 0, 0, 0, 0, 0, 0, 0, 0, 0, 0, 0, 0, 0, 1, 1, 1, 1, 1, 1, 1, 1, 1, 1, 1, 1, 1, 1, 1, 1, 1, 1, 1, 1, 1, 1, 1, 1, 1, 1, 1, 1, 1, 1, 1, 2, 2, 2, 2, 2, 2, 2, 2, 2, 2, 2, 2, 2, 2, 2, 2, 2, 2, 2, 2, 2, 2, 2, 2, 2, 2, 2, 2, 2, 2, 2, 2, 3, 3, 3, 3, 3, 3, 3, 3, 3, 3, 3, 3, 3, 3, 3, 3, 3, 3, 3, 3, 3, 3, 3, 3, 3, 3, 3, 3, 3, 3, 3, 3, 4, 4, 4, 4, 4, 4, 4, 4, 4, 4, 4, 4, 4, 4, 4, 4, 4, 4, 4, 4, 4, 4, 4, 4, 4, 4, 4, 4, 4, 4, 4, 4, 5, 5, 5, 5, 5, 5, 5, 5, 5, 5, 5, 5, 5, 5, 5, 5, 5, 5, 5, 5, 5, 5, 5, 5, 5, 5, 5, 5, 5, 5, 5, 5, 0, 0, 0, 0, 0, 0, 0, 0, 0, 0, 0, 0, 0, 0, 0, 0, 0, 0, 0, 0, 0, 0, 0, 0, 0, 0, 0, 0, 0, 0, 0, 0, 1, 1, 1, 1, 1, 1, 1, 1, 1, 1, 1, 1, 1, 1, 1, 1, 1, 1, 1, 1, 1, 1, 1, 1, 1, 1, 1, 1, 1, 1, 1, 1, 2, 2, 2, 2, 2, 2, 2, 2, 2, 2, 2, 2, 2, 2, 2, 2, 2, 2, 2, 2, 2, 2, 2, 2, 2, 2, 2, 2, 2, 2, 2, 2, 3, 3, 3, 3, 3, 3, 3, 3, 3, 3, 3, 3, 3, 3, 3, 3, 3, 3, 3, 3, 3, 3, 3, 3, 3, 3, 3, 3, 3, 3, 3, 3, 4, 4, 4, 4, 4, 4, 4, 4, 4, 4, 4, 4, 4, 4, 4, 4, 4, 4, 4, 4, 4, 4, 4, 4, 4, 4, 4, 4, 4, 4, 4, 4, 5, 5, 5, 5, 5, 5, 5, 5, 5, 5, 5, 5, 5, 5, 5, 5, 5, 5, 5, 5, 5, 5, 5, 5, 5, 5, 5, 5, 5, 5, 5, 5]\n"
          ]
        }
      ]
    },
    {
      "cell_type": "code",
      "source": [
        "new_test_labels = []\n",
        "for a in test_labels:\n",
        "  if a == 'boxing':\n",
        "    new_test_labels.append(0)\n",
        "  elif a == 'handclapping':\n",
        "    new_test_labels.append(1)\n",
        "  elif a == 'handwaving':\n",
        "    new_test_labels.append(2)\n",
        "  elif a == 'jogging':\n",
        "    new_test_labels.append(3)\n",
        "  elif a == 'running':\n",
        "    new_test_labels.append(4)\n",
        "  else:\n",
        "    new_test_labels.append(5)\n",
        "\n",
        "print(new_test_labels)"
      ],
      "metadata": {
        "colab": {
          "base_uri": "https://localhost:8080/"
        },
        "id": "sdz3_Kmg98zg",
        "outputId": "f1e836c1-f5b0-4aac-db2d-286a5fbe123f"
      },
      "execution_count": null,
      "outputs": [
        {
          "output_type": "stream",
          "name": "stdout",
          "text": [
            "[0, 0, 0, 0, 0, 0, 0, 0, 0, 0, 0, 0, 0, 0, 0, 0, 0, 0, 0, 0, 0, 0, 0, 0, 0, 0, 0, 0, 0, 0, 0, 0, 0, 0, 0, 0, 1, 1, 1, 1, 1, 1, 1, 1, 1, 1, 1, 1, 1, 1, 1, 1, 1, 1, 1, 1, 1, 1, 1, 1, 1, 1, 1, 1, 1, 1, 1, 1, 1, 1, 1, 1, 2, 2, 2, 2, 2, 2, 2, 2, 2, 2, 2, 2, 2, 2, 2, 2, 2, 2, 2, 2, 2, 2, 2, 2, 2, 2, 2, 2, 2, 2, 2, 2, 2, 2, 2, 2, 3, 3, 3, 3, 3, 3, 3, 3, 3, 3, 3, 3, 3, 3, 3, 3, 3, 3, 3, 3, 3, 3, 3, 3, 3, 3, 3, 3, 3, 3, 3, 3, 3, 3, 3, 3, 4, 4, 4, 4, 4, 4, 4, 4, 4, 4, 4, 4, 4, 4, 4, 4, 4, 4, 4, 4, 4, 4, 4, 4, 4, 4, 4, 4, 4, 4, 4, 4, 4, 4, 4, 4, 5, 5, 5, 5, 5, 5, 5, 5, 5, 5, 5, 5, 5, 5, 5, 5, 5, 5, 5, 5, 5, 5, 5, 5, 5, 5, 5, 5, 5, 5, 5, 5, 5, 5, 5, 5]\n"
          ]
        }
      ]
    },
    {
      "cell_type": "code",
      "source": [
        "train_labels = new_train_labels\n",
        "test_labels = new_test_labels"
      ],
      "metadata": {
        "id": "pDnD80fQEOhl"
      },
      "execution_count": null,
      "outputs": []
    },
    {
      "cell_type": "code",
      "source": [
        "df_train_y = pd.DataFrame(train_labels)\n",
        "df_train_y.head()"
      ],
      "metadata": {
        "colab": {
          "base_uri": "https://localhost:8080/",
          "height": 206
        },
        "id": "J4V0ZNRCD_VD",
        "outputId": "73d0e15c-14c5-47cb-8be0-c53a24608703"
      },
      "execution_count": null,
      "outputs": [
        {
          "output_type": "execute_result",
          "data": {
            "text/plain": [
              "   0\n",
              "0  0\n",
              "1  0\n",
              "2  0\n",
              "3  0\n",
              "4  0"
            ],
            "text/html": [
              "\n",
              "  <div id=\"df-3603e2d1-b40b-4143-aacb-703f37a030f6\">\n",
              "    <div class=\"colab-df-container\">\n",
              "      <div>\n",
              "<style scoped>\n",
              "    .dataframe tbody tr th:only-of-type {\n",
              "        vertical-align: middle;\n",
              "    }\n",
              "\n",
              "    .dataframe tbody tr th {\n",
              "        vertical-align: top;\n",
              "    }\n",
              "\n",
              "    .dataframe thead th {\n",
              "        text-align: right;\n",
              "    }\n",
              "</style>\n",
              "<table border=\"1\" class=\"dataframe\">\n",
              "  <thead>\n",
              "    <tr style=\"text-align: right;\">\n",
              "      <th></th>\n",
              "      <th>0</th>\n",
              "    </tr>\n",
              "  </thead>\n",
              "  <tbody>\n",
              "    <tr>\n",
              "      <th>0</th>\n",
              "      <td>0</td>\n",
              "    </tr>\n",
              "    <tr>\n",
              "      <th>1</th>\n",
              "      <td>0</td>\n",
              "    </tr>\n",
              "    <tr>\n",
              "      <th>2</th>\n",
              "      <td>0</td>\n",
              "    </tr>\n",
              "    <tr>\n",
              "      <th>3</th>\n",
              "      <td>0</td>\n",
              "    </tr>\n",
              "    <tr>\n",
              "      <th>4</th>\n",
              "      <td>0</td>\n",
              "    </tr>\n",
              "  </tbody>\n",
              "</table>\n",
              "</div>\n",
              "      <button class=\"colab-df-convert\" onclick=\"convertToInteractive('df-3603e2d1-b40b-4143-aacb-703f37a030f6')\"\n",
              "              title=\"Convert this dataframe to an interactive table.\"\n",
              "              style=\"display:none;\">\n",
              "        \n",
              "  <svg xmlns=\"http://www.w3.org/2000/svg\" height=\"24px\"viewBox=\"0 0 24 24\"\n",
              "       width=\"24px\">\n",
              "    <path d=\"M0 0h24v24H0V0z\" fill=\"none\"/>\n",
              "    <path d=\"M18.56 5.44l.94 2.06.94-2.06 2.06-.94-2.06-.94-.94-2.06-.94 2.06-2.06.94zm-11 1L8.5 8.5l.94-2.06 2.06-.94-2.06-.94L8.5 2.5l-.94 2.06-2.06.94zm10 10l.94 2.06.94-2.06 2.06-.94-2.06-.94-.94-2.06-.94 2.06-2.06.94z\"/><path d=\"M17.41 7.96l-1.37-1.37c-.4-.4-.92-.59-1.43-.59-.52 0-1.04.2-1.43.59L10.3 9.45l-7.72 7.72c-.78.78-.78 2.05 0 2.83L4 21.41c.39.39.9.59 1.41.59.51 0 1.02-.2 1.41-.59l7.78-7.78 2.81-2.81c.8-.78.8-2.07 0-2.86zM5.41 20L4 18.59l7.72-7.72 1.47 1.35L5.41 20z\"/>\n",
              "  </svg>\n",
              "      </button>\n",
              "      \n",
              "  <style>\n",
              "    .colab-df-container {\n",
              "      display:flex;\n",
              "      flex-wrap:wrap;\n",
              "      gap: 12px;\n",
              "    }\n",
              "\n",
              "    .colab-df-convert {\n",
              "      background-color: #E8F0FE;\n",
              "      border: none;\n",
              "      border-radius: 50%;\n",
              "      cursor: pointer;\n",
              "      display: none;\n",
              "      fill: #1967D2;\n",
              "      height: 32px;\n",
              "      padding: 0 0 0 0;\n",
              "      width: 32px;\n",
              "    }\n",
              "\n",
              "    .colab-df-convert:hover {\n",
              "      background-color: #E2EBFA;\n",
              "      box-shadow: 0px 1px 2px rgba(60, 64, 67, 0.3), 0px 1px 3px 1px rgba(60, 64, 67, 0.15);\n",
              "      fill: #174EA6;\n",
              "    }\n",
              "\n",
              "    [theme=dark] .colab-df-convert {\n",
              "      background-color: #3B4455;\n",
              "      fill: #D2E3FC;\n",
              "    }\n",
              "\n",
              "    [theme=dark] .colab-df-convert:hover {\n",
              "      background-color: #434B5C;\n",
              "      box-shadow: 0px 1px 3px 1px rgba(0, 0, 0, 0.15);\n",
              "      filter: drop-shadow(0px 1px 2px rgba(0, 0, 0, 0.3));\n",
              "      fill: #FFFFFF;\n",
              "    }\n",
              "  </style>\n",
              "\n",
              "      <script>\n",
              "        const buttonEl =\n",
              "          document.querySelector('#df-3603e2d1-b40b-4143-aacb-703f37a030f6 button.colab-df-convert');\n",
              "        buttonEl.style.display =\n",
              "          google.colab.kernel.accessAllowed ? 'block' : 'none';\n",
              "\n",
              "        async function convertToInteractive(key) {\n",
              "          const element = document.querySelector('#df-3603e2d1-b40b-4143-aacb-703f37a030f6');\n",
              "          const dataTable =\n",
              "            await google.colab.kernel.invokeFunction('convertToInteractive',\n",
              "                                                     [key], {});\n",
              "          if (!dataTable) return;\n",
              "\n",
              "          const docLinkHtml = 'Like what you see? Visit the ' +\n",
              "            '<a target=\"_blank\" href=https://colab.research.google.com/notebooks/data_table.ipynb>data table notebook</a>'\n",
              "            + ' to learn more about interactive tables.';\n",
              "          element.innerHTML = '';\n",
              "          dataTable['output_type'] = 'display_data';\n",
              "          await google.colab.output.renderOutput(dataTable, element);\n",
              "          const docLink = document.createElement('div');\n",
              "          docLink.innerHTML = docLinkHtml;\n",
              "          element.appendChild(docLink);\n",
              "        }\n",
              "      </script>\n",
              "    </div>\n",
              "  </div>\n",
              "  "
            ]
          },
          "metadata": {},
          "execution_count": 114
        }
      ]
    },
    {
      "cell_type": "code",
      "source": [
        "# Example data\n",
        "data = []\n",
        "for video in test:\n",
        "  video = zoom(video)\n",
        "  data.append(video)\n",
        "\n",
        "\n",
        "number_Of_videos = len(data)\n",
        "\n",
        "# Reshape and concatenate the data for each frame of each video\n",
        "frames = []\n",
        "for i in range(number_Of_videos):\n",
        "    for j in range(data[i].shape[0]):\n",
        "        reshaped_data = data[i][j].reshape((1, 17*2))\n",
        "        frames.append(pd.DataFrame(data=reshaped_data))\n",
        "\n",
        "# Concatenate the data frames into a single DataFrame\n",
        "df_test = pd.concat(frames, ignore_index=True)\n",
        "\n",
        "# Create column names for the DataFrame\n",
        "columns = [f'pos{i}_coord{j}' for i in range(17) for j in range(2)]\n",
        "df_test.columns = columns\n",
        "\n",
        "# Print the first 5 rows of the DataFrame\n",
        "print(df_test.head())\n",
        "\n",
        "\n",
        "df_test_y = pd.DataFrame(test_labels)\n"
      ],
      "metadata": {
        "colab": {
          "base_uri": "https://localhost:8080/"
        },
        "id": "gpRmAJnXENfN",
        "outputId": "8faef890-19c7-448b-a143-85cb9cf9b693"
      },
      "execution_count": null,
      "outputs": [
        {
          "output_type": "stream",
          "name": "stderr",
          "text": [
            "<ipython-input-12-a5f4382baad1>:7: DeprecationWarning: Please use `zoom` from the `scipy.ndimage` namespace, the `scipy.ndimage.interpolation` namespace is deprecated.\n",
            "  p_new[:, m, n] = inter.zoom(p[:, m, n], target_l / l)[:target_l]\n"
          ]
        },
        {
          "output_type": "stream",
          "name": "stdout",
          "text": [
            "   pos0_coord0  pos0_coord1  pos1_coord0  pos1_coord1  pos2_coord0  \\\n",
            "0    74.373444    16.991039    75.350090    16.014393    74.373444   \n",
            "1    75.301651    16.795254    77.452248    15.889418    75.696960   \n",
            "2    76.670456    18.975433    77.775055    17.301794    76.982780   \n",
            "3    77.614990    20.613356    79.577797    18.709284    77.614594   \n",
            "4    78.542778    18.145918    80.453812    16.625309    78.960655   \n",
            "\n",
            "   pos2_coord1  pos3_coord0  pos3_coord1  pos4_coord0  pos4_coord1  ...  \\\n",
            "0    16.014393    80.233337    17.967686    82.186630    16.991039  ...   \n",
            "1    15.889311    82.080101    17.935841    82.462234    16.958937  ...   \n",
            "2    17.302341    82.100166    18.418417    83.019310    17.451359  ...   \n",
            "3    18.710180    84.402626    20.658073    84.610764    19.695131  ...   \n",
            "4    16.600689    84.800339    18.418045    84.332352    17.864376  ...   \n",
            "\n",
            "   pos12_coord0  pos12_coord1  pos13_coord0  pos13_coord1  pos14_coord0  \\\n",
            "0     83.750763     54.103687     85.116577     79.496567     83.750763   \n",
            "1     84.879974     54.239140     85.338303     79.478416     84.676933   \n",
            "2     86.694809     55.535023     86.977135     79.696625     85.986519   \n",
            "3     86.297783     56.174339     88.383713     79.757317     86.242096   \n",
            "4     85.601570     54.863735     88.170288     77.672363     86.493591   \n",
            "\n",
            "   pos14_coord1  pos15_coord0  pos15_coord1  pos16_coord0  pos16_coord1  \n",
            "0     77.017982     87.555756    101.959473     84.702011     93.169632  \n",
            "1     77.270088     88.160614    101.883827     85.287445     92.858139  \n",
            "2     77.446983     89.196709    101.711723     85.503891     92.104607  \n",
            "3     75.298409     90.112320    101.726570     87.274963     92.149582  \n",
            "4     75.095993     90.477753    100.729790     87.596695     91.251938  \n",
            "\n",
            "[5 rows x 34 columns]\n"
          ]
        }
      ]
    },
    {
      "cell_type": "code",
      "source": [
        "print(len(train_labels))"
      ],
      "metadata": {
        "colab": {
          "base_uri": "https://localhost:8080/"
        },
        "id": "1YdsI8D87hEO",
        "outputId": "81fccfac-47dc-4a7f-8110-960921c0e329"
      },
      "execution_count": null,
      "outputs": [
        {
          "output_type": "stream",
          "name": "stdout",
          "text": [
            "383\n"
          ]
        }
      ]
    },
    {
      "cell_type": "code",
      "source": [
        "LABELS = ['boxing' 'handclapping', 'handwaving', 'jogging', 'running', 'walking']"
      ],
      "metadata": {
        "id": "OB4WcGM-ARMB"
      },
      "execution_count": null,
      "outputs": []
    },
    {
      "cell_type": "code",
      "execution_count": null,
      "metadata": {
        "id": "LZ0RvCtPaI8B"
      },
      "outputs": [],
      "source": [
        "class Math():\n",
        "    ''' Some math operations '''\n",
        "    @staticmethod\n",
        "    def calc_dist(p1, p0):\n",
        "        return math.sqrt((p1[0]-p0[0])**2+(p1[1]-p0[1])**2)\n",
        "\n",
        "    @staticmethod\n",
        "    def pi2pi(x):\n",
        "        if x > PI:\n",
        "            x -= 2*PI\n",
        "        if x <= -PI:\n",
        "            x += 2*PI\n",
        "        return x\n",
        "\n",
        "    @staticmethod\n",
        "    def calc_relative_angle(x1, y1, x0, y0, base_angle):\n",
        "        # compute rotation from {base_angle} to {(x0,y0)->(x1,y1)}\n",
        "        if (y1 == y0) and (x1 == x0):\n",
        "            return 0\n",
        "        a1 = np.arctan2(y1-y0, x1-x0)\n",
        "        return Math.pi2pi(a1 - base_angle)\n",
        "\n",
        "    @staticmethod\n",
        "    def calc_relative_angle_v2(p1, p0, base_angle):\n",
        "        # compute rotation from {base_angle} to {p0->p1}\n",
        "        return Math.calc_relative_angle(p1[0], p1[1], p0[0], p0[1], base_angle)"
      ]
    },
    {
      "cell_type": "code",
      "execution_count": null,
      "metadata": {
        "id": "fiaCYDtLaI8C"
      },
      "outputs": [],
      "source": [
        "# -- Functions for processing features\n",
        "def get_joint(x, idx):\n",
        "    px = x[2*idx]\n",
        "    py = x[2*idx+1]\n",
        "    return px, py\n",
        "\n",
        "def set_joint(x, idx, px, py):\n",
        "    x[2*idx] = px\n",
        "    x[2*idx+1] = py\n",
        "    return\n",
        "\n",
        "def check_joint(x, idx):\n",
        "    return x[2*idx] != NaN\n",
        "\n",
        "class ProcFtr(object):\n",
        "\n",
        "    @staticmethod\n",
        "    def drop_arms_and_legs_randomly(x, thresh=0.3):\n",
        "        ''' Randomly drop one arm or one leg with a probability of thresh '''\n",
        "        x = x.copy()\n",
        "        N = len(ARMS_LEGS)\n",
        "        rand_num = np.random.random()\n",
        "        if rand_num < thresh:\n",
        "            joint_idx = int((rand_num / thresh)*N)\n",
        "            set_joint(x, joint_idx, NaN, NaN)\n",
        "        return x\n",
        "\n",
        "    @staticmethod\n",
        "    def has_neck_and_thigh(x):\n",
        "        ''' Check if a skeleton has a neck and at least one thigh '''\n",
        "        return check_joint(x, NECK) and (check_joint(x, L_THIGH) or check_joint(x, R_THIGH))\n",
        "\n",
        "    @staticmethod\n",
        "    def get_body_height(x):\n",
        "        ''' Compute height of the body, which is defined as:\n",
        "            the distance between `neck` and `thigh`.\n",
        "        '''\n",
        "        x0, y0 = get_joint(x, NECK)\n",
        "\n",
        "        # Get average thigh height\n",
        "        x11, y11 = get_joint(x, L_THIGH)\n",
        "        x12, y12 = get_joint(x, R_THIGH)\n",
        "        if y11 == NaN and y12 == NaN:  # Invalid data\n",
        "            return 1.0\n",
        "        if y11 == NaN:\n",
        "            x1, y1 = x12, y12\n",
        "        elif y12 == NaN:\n",
        "            x1, y1 = x11, y11\n",
        "        else:\n",
        "            x1, y1 = (x11 + x12) / 2, (y11 + y12) / 2\n",
        "\n",
        "        # Get body height\n",
        "        height = ((x0-x1)**2 + (y0-y1)**2)**(0.5)\n",
        "        return height\n",
        "\n",
        "    @staticmethod\n",
        "    def remove_body_offset(x):\n",
        "        ''' The origin is the neck.\n",
        "        TODO: Deal with empty data.\n",
        "        '''\n",
        "        x = x.copy()\n",
        "        px0, py0 = get_joint(x, NECK)\n",
        "        x[0::2] = x[0::2] - px0\n",
        "        x[1::2] = x[1::2] - py0\n",
        "        return x\n",
        "\n",
        "    @staticmethod\n",
        "    def joint_pos_2_angle_and_length(x):\n",
        "        ''' Change the representation of skeletons\n",
        "            From xy positions to angle and length.\n",
        "        '''\n",
        "        # ---------------------- Get joint positions ----------------------\n",
        "        class JointPosExtractor(object):\n",
        "            def __init__(self, x):\n",
        "                self.x = x\n",
        "                self.i = 0\n",
        "\n",
        "            def get_next_point(self):\n",
        "                p = [self.x[self.i], self.x[self.i+1]]\n",
        "                self.i += 2\n",
        "                return p\n",
        "        tmp = JointPosExtractor(x)\n",
        "\n",
        "        pneck = tmp.get_next_point()\n",
        "\n",
        "        prshoulder = tmp.get_next_point()\n",
        "        prelbow = tmp.get_next_point()\n",
        "        prwrist = tmp.get_next_point()\n",
        "\n",
        "        plshoulder = tmp.get_next_point()\n",
        "        plelbow = tmp.get_next_point()\n",
        "        plwrist = tmp.get_next_point()\n",
        "\n",
        "        prhip = tmp.get_next_point()\n",
        "        prknee = tmp.get_next_point()\n",
        "        prankle = tmp.get_next_point()\n",
        "\n",
        "        plhip = tmp.get_next_point()\n",
        "        plknee = tmp.get_next_point()\n",
        "        plankle = tmp.get_next_point()\n",
        "\n",
        "        # ---------------------- Get joint angels ----------------------\n",
        "        class Get12Angles(object):\n",
        "            def __init__(self):\n",
        "                self.j = 0\n",
        "                self.f_angles = np.zeros((12,))\n",
        "                self.x_lengths = np.zeros((12,))\n",
        "\n",
        "            def set_next_angle_len(self, next_joint, base_joint, base_angle):\n",
        "                angle = Math.calc_relative_angle_v2(\n",
        "                    next_joint, base_joint, base_angle)\n",
        "                dist = Math.calc_dist(next_joint, base_joint)\n",
        "                self.f_angles[self.j] = angle\n",
        "                self.x_lengths[self.j] = dist\n",
        "                self.j += 1\n",
        "\n",
        "        tmp2 = Get12Angles()\n",
        "        tmp2.set_next_angle_len(prshoulder, pneck, PI)  # r-shoulder\n",
        "        tmp2.set_next_angle_len(prelbow, prshoulder, PI/2)  # r-elbow\n",
        "        tmp2.set_next_angle_len(prwrist, prelbow, PI/2)  # r-wrist\n",
        "\n",
        "        tmp2.set_next_angle_len(plshoulder, pneck, 0)  # l-shoulder\n",
        "        tmp2.set_next_angle_len(plelbow, plshoulder, PI/2)  # l-elbow\n",
        "        tmp2.set_next_angle_len(plwrist, plelbow, PI/2)  # l-wrist\n",
        "\n",
        "        tmp2.set_next_angle_len(prhip, pneck, PI/2+PI/18)\n",
        "        tmp2.set_next_angle_len(prknee, prhip, PI/2)\n",
        "        tmp2.set_next_angle_len(prankle, prknee, PI/2)\n",
        "\n",
        "        tmp2.set_next_angle_len(plhip, pneck, PI/2-PI/18)\n",
        "        tmp2.set_next_angle_len(plknee, plhip, PI/2)\n",
        "        tmp2.set_next_angle_len(plankle, plknee, PI/2)\n",
        "\n",
        "        # Output\n",
        "        features_angles = tmp2.f_angles\n",
        "        features_lens = tmp2.x_lengths\n",
        "        return features_angles, features_lens"
      ]
    },
    {
      "cell_type": "markdown",
      "source": [
        "Feature generator class:\n",
        "1. Fills missing data with its relative position in previous frame\n",
        "2. Generates normalized skeleton joints feature\n",
        "3. Computes velocity of center feature\n",
        "4. Computes velocity of joints feature\n",
        "5. Computes euclidean distance of pairs of joints"
      ],
      "metadata": {
        "id": "bFPfomuYRber"
      }
    },
    {
      "cell_type": "code",
      "execution_count": null,
      "metadata": {
        "id": "OQ7w-OxCaI8D"
      },
      "outputs": [],
      "source": [
        "# -- The main class for extracting features\n",
        "class FeatureGenerator(object):\n",
        "    def __init__(self,\n",
        "                 window_size,\n",
        "                 is_adding_noise=False):\n",
        "        '''\n",
        "        Arguments:\n",
        "            window_size {int}: Number of adjacent frames for extracting features.\n",
        "            is_adding_noise {bool}: Is adding noise to the joint positions and scale.\n",
        "            noise_intensity {float}: The noise relative to the body height.\n",
        "        '''\n",
        "        self._window_size = window_size\n",
        "        self._is_adding_noise = is_adding_noise\n",
        "        self._noise_intensity = NOISE_INTENSITY\n",
        "        self.reset()\n",
        "\n",
        "    def reset(self):\n",
        "        ''' Reset the FeatureGenerator '''\n",
        "        self._x_deque = deque()\n",
        "        self._angles_deque = deque()\n",
        "        self._lens_deque = deque()\n",
        "        self._pre_x = None\n",
        "\n",
        "    def add_cur_skeleton(self, skeleton):\n",
        "        ''' Input a new skeleton, return the extracted feature.\n",
        "        Returns:\n",
        "            is_success {bool}: Return the feature only when\n",
        "                the historical input skeletons are more than self._window_size.\n",
        "            features {np.array}\n",
        "        '''\n",
        "        x = retrain_only_body_joints(skeleton)\n",
        "\n",
        "\n",
        "#         if not ProcFtr.has_neck_and_thigh(x):\n",
        "#             self.reset()\n",
        "#             print('False', x)\n",
        "#             return False, None\n",
        "#         else:\n",
        "        ''' The input skeleton has a neck and at least one thigh '''\n",
        "            # -- Preprocess x\n",
        "            # Fill zeros, compute angles/lens\n",
        "        # x = self._fill_invalid_data(x)\n",
        "        if self._is_adding_noise:\n",
        "                # Add noise druing training stage to augment data\n",
        "            x = self._add_noises(x, self._noise_intensity)\n",
        "        x = np.array(x)\n",
        "        # angles, lens = ProcFtr.joint_pos_2_angle_and_length(x) # deprecate\n",
        "\n",
        "            # Push to deque\n",
        "        self._x_deque.append(x)\n",
        "        # self._angles_deque.append(angles) # deprecate\n",
        "        # self._lens_deque.append(lens) # deprecate\n",
        "\n",
        "        self._maintain_deque_size()\n",
        "        self._pre_x = x.copy()\n",
        "\n",
        "            # -- Extract features\n",
        "        if len(self._x_deque) < self._window_size:\n",
        "            return False, None, None\n",
        "\n",
        "        else:\n",
        "                # -- Normalize all 1~t features\n",
        "            h_list = [ProcFtr.get_body_height(xi) for xi in self._x_deque]\n",
        "            mean_height = np.mean(h_list)\n",
        "            xnorm_list = [ProcFtr.remove_body_offset(xi)/mean_height\n",
        "                            for xi in self._x_deque]\n",
        "\n",
        "                # -- Get features of pose/angles/lens\n",
        "            f_poses = self._deque_features_to_1darray(xnorm_list)\n",
        "            # f_angles = self._deque_features_to_1darray(self._angles_deque) # deprecate\n",
        "            # f_lens = self._deque_features_to_1darray(\n",
        "            #         self._lens_deque) / mean_height # deprecate\n",
        "\n",
        "                #  Get features of motion\n",
        "\n",
        "            f_v_center = self._compute_v_center(\n",
        "                self._x_deque, step=1) / mean_height  # len = (t=4)*2 = 8\n",
        "            f_v_center = np.repeat(f_v_center, 10)  # repeat to add weight\n",
        "\n",
        "            f_v_joints = self._compute_v_all_joints(\n",
        "                xnorm_list, step=1)  # len = (t=(5-1)/step)*12*2 = 96\n",
        "            f_d_joints = self._compute_distance(xnorm_list)\n",
        "\n",
        "                # -- Output\n",
        "            features = np.concatenate((f_poses, f_v_joints, f_v_center))\n",
        "\n",
        "            distance = f_d_joints\n",
        "            return True, features.copy(), distance.copy()\n",
        "\n",
        "    def _maintain_deque_size(self):\n",
        "        if len(self._x_deque) > self._window_size:\n",
        "            self._x_deque.popleft()\n",
        "        if len(self._angles_deque) > self._window_size:\n",
        "            self._angles_deque.popleft()\n",
        "        if len(self._lens_deque) > self._window_size:\n",
        "            self._lens_deque.popleft()\n",
        "\n",
        "    def _compute_v_center(self, x_deque, step):\n",
        "        vel = []\n",
        "        for i in range(0, len(x_deque) - step, step):\n",
        "            dxdy = x_deque[i+step][0:2] - x_deque[i][0:2]\n",
        "            vel += dxdy.tolist()\n",
        "        return np.array(vel)\n",
        "\n",
        "    def _compute_v_all_joints(self, xnorm_list, step):\n",
        "        vel = []\n",
        "        for i in range(0, len(xnorm_list) - step, step):\n",
        "            dxdy = xnorm_list[i+step][:] - xnorm_list[i][:]\n",
        "            vel += dxdy.tolist()\n",
        "        return np.array(vel)\n",
        "\n",
        "    def _compute_distance(self, xnorm_list):\n",
        "        dist = []\n",
        "        for i in range(0, len(xnorm_list)):\n",
        "            x = np.reshape(xnorm_list[i], (17, 2))\n",
        "            dist_arr = pdist(x)\n",
        "            dist+= dist_arr.tolist()\n",
        "        #print('dist', len(dist))\n",
        "        return np.array(dist)\n",
        "\n",
        "    def _fill_invalid_data(self, x):\n",
        "        ''' Fill the NaN elements in x with\n",
        "            their relative-to-neck position in the preious x.\n",
        "        Argument:\n",
        "            x {np.array}: a skeleton that has a neck and at least a thigh.\n",
        "        '''\n",
        "        res = x.copy()\n",
        "\n",
        "        def get_px_py_px0_py0(x):\n",
        "            px = x[0::2]  # list of x\n",
        "            py = x[1::2]  # list of y\n",
        "            px0, py0 = get_joint(x, NECK)  # neck\n",
        "            return px, py, px0, py0\n",
        "        cur_px, cur_py, cur_px0, cur_py0 = get_px_py_px0_py0(x)\n",
        "        cur_height = ProcFtr.get_body_height(x)\n",
        "\n",
        "        is_lack_knee = check_joint(x, L_KNEE) or check_joint(x, R_KNEE)\n",
        "        is_lack_ankle = check_joint(x, L_ANKLE) or check_joint(x, R_ANKLE)\n",
        "        if (self._pre_x is None) or is_lack_knee or is_lack_ankle:\n",
        "            # If preious data is invalid or there is no knee or ankle,\n",
        "            # then fill the data based on the STAND_SKEL_NORMED.\n",
        "            for i in range(TOTAL_JOINTS*2):\n",
        "                if res[i] == NaN:\n",
        "                    res[i] = (cur_px0 if i % 2 == 0 else cur_py0) + \\\n",
        "                        cur_height * STAND_SKEL_NORMED[i]\n",
        "            return res\n",
        "\n",
        "        pre_px, pre_py, pre_px0, pre_py0 = get_px_py_px0_py0(self._pre_x)\n",
        "        pre_height = ProcFtr.get_body_height(self._pre_x)\n",
        "\n",
        "        scale = cur_height / pre_height\n",
        "\n",
        "        bad_idxs = np.nonzero(cur_px == NaN)[0]\n",
        "        if not len(bad_idxs):  # No invalid data\n",
        "            return res\n",
        "\n",
        "        cur_px[bad_idxs] = cur_px0 + (pre_px[bad_idxs] - pre_px0) * scale\n",
        "        cur_py[bad_idxs] = cur_py0 + (pre_py[bad_idxs] - pre_py0) * scale\n",
        "        res[::2] = cur_px\n",
        "        res[1::2] = cur_py\n",
        "        return res\n",
        "\n",
        "\n",
        "    def _add_noises(self, x, intensity):\n",
        "        ''' Add noise to x with a ratio relative to the body height '''\n",
        "        height = ProcFtr.get_body_height(x)\n",
        "        randoms = (np.random.random(x.shape, ) - 0.5) * 2 * intensity * height\n",
        "        x = [(xi + randoms[i] if xi != 0 else xi)\n",
        "             for i, xi in enumerate(x)]\n",
        "        return x\n",
        "\n",
        "    def _deque_features_to_1darray(self, deque_data):\n",
        "        features = []\n",
        "        for i in range(len(deque_data)):\n",
        "            next_feature = deque_data[i].tolist()\n",
        "            features += next_feature\n",
        "        features = np.array(features)\n",
        "        return features\n",
        "\n",
        "    def _deque_features_to_2darray(self, deque_data):\n",
        "        features = []\n",
        "        for i in range(len(deque_data)):\n",
        "            next_feature = deque_data[i].tolist()\n",
        "            features.append(next_feature)\n",
        "        features = np.array(features)\n",
        "        return features"
      ]
    },
    {
      "cell_type": "markdown",
      "source": [
        "Positions of skeleton joints"
      ],
      "metadata": {
        "id": "85foYowZTAfH"
      }
    },
    {
      "cell_type": "code",
      "execution_count": null,
      "metadata": {
        "id": "czskOStMaI8J"
      },
      "outputs": [],
      "source": [
        "# -- Settings\n",
        "NOISE_INTENSITY = 0.05\n",
        "# -- Constant\n",
        "PI = np.pi\n",
        "Inf = float(\"inf\")\n",
        "NaN = 0.0\n",
        "\n",
        "def retrain_only_body_joints(skeleton):\n",
        "    ''' All skeleton operations in this script are done after this function.\n",
        "    '''\n",
        "    return skeleton.copy()\n",
        "\n",
        "TOTAL_JOINTS = 17\n",
        "NECK = 0\n",
        "Belly = 1\n",
        "HEAD = 2\n",
        "L_ARMS = [3, 7, 11]\n",
        "R_ARMS = [4, 8, 12]\n",
        "L_KNEE = 9\n",
        "L_ANKLE = 13\n",
        "R_KNEE = 10\n",
        "R_ANKLE = 14\n",
        "L_LEGS = [9, 13]\n",
        "R_LEGS = [10, 14]\n",
        "ARMS_LEGS = L_ARMS + R_ARMS + L_LEGS + R_LEGS\n",
        "L_THIGH = 5\n",
        "R_THIGH = 6\n",
        "\n",
        "# STAND_SKEL_NORMED = retrain_only_body_joints(\n",
        "#     get_a_normalized_jhmdb_skeleton())"
      ]
    },
    {
      "cell_type": "code",
      "execution_count": null,
      "metadata": {
        "id": "E3Qq6ATraI8K"
      },
      "outputs": [],
      "source": [
        "def process_features(X0, Y0, video_indices, classes):\n",
        "    ''' Process features '''\n",
        "    # Convert features\n",
        "    # From: raw feature of individual image.\n",
        "    # To:   time-serials features calculated from multiple raw features\n",
        "    #       of multiple adjacent images, including velocity, normalized pos, etc.\n",
        "    ADD_NOISE = False\n",
        "    if ADD_NOISE:\n",
        "        X1, Y1, X_distance1= extract_multi_frame_features(\n",
        "            X0, Y0, video_indices, WINDOW_SIZE,\n",
        "            is_adding_noise=True, is_print=True)\n",
        "        X2, Y2, X_distance2 = extract_multi_frame_features(\n",
        "            X0, Y0, video_indices, WINDOW_SIZE,\n",
        "            is_adding_noise=False, is_print=True)\n",
        "        X = np.vstack((X1, X2))\n",
        "        Y = np.concatenate((Y1, Y2))\n",
        "        X_distance = np.vstack((X_distance1, X_distance2))\n",
        "        return X, Y, X_distance\n",
        "    else:\n",
        "        X, Y, X_distance = extract_multi_frame_features(\n",
        "            X0, Y0, video_indices, WINDOW_SIZE,\n",
        "            is_adding_noise=False, is_print=True)\n",
        "        return X, Y, X_distance\n",
        "# -- Functions\n",
        "def extract_multi_frame_features(\n",
        "        X, Y, video_indices, window_size,\n",
        "        is_adding_noise=False, is_print=False):\n",
        "    ''' From image index and raw skeleton positions,\n",
        "        Extract features of body velocity, joint velocity, and normalized joint positions, distance feature.\n",
        "    '''\n",
        "    X_new = []\n",
        "    Y_new = []\n",
        "    N = len(video_indices)\n",
        "    X_distance = []\n",
        "\n",
        "    # Loop through all data\n",
        "\n",
        "    for i, _ in enumerate(video_indices):\n",
        "\n",
        "        # If a new video clip starts, reset the feature generator\n",
        "        if i == 0 or video_indices[i] != video_indices[i-1]:\n",
        "            fg = FeatureGenerator(window_size, is_adding_noise)\n",
        "\n",
        "        # Get features\n",
        "        success, features, distance = fg.add_cur_skeleton(X[i, :])\n",
        "        if success:  # True if (data length > 5) and (skeleton has enough joints)\n",
        "            X_new.append(features)\n",
        "            Y_new.append(Y[i])\n",
        "            X_distance.append(distance)\n",
        "\n",
        "        # Print\n",
        "        if is_print and i % 1000 == 0:\n",
        "            print(f\"{i}/{N}\", end=\", \")\n",
        "\n",
        "    if is_print:\n",
        "        print(\"\")\n",
        "    X_new = np.array(X_new)\n",
        "    Y_new = np.array(Y_new)\n",
        "    X_distance = np.array(X_distance)\n",
        "    return X_new, Y_new, X_distance\n",
        "\n"
      ]
    },
    {
      "cell_type": "markdown",
      "source": [
        "# Data loading"
      ],
      "metadata": {
        "id": "n_bibKaDW1qV"
      }
    },
    {
      "cell_type": "markdown",
      "source": [
        "JHMDB data has three splits and each of them splited into train and test set. Each set contains skeleton dataset and labels dataset.\n",
        "\n",
        "Skeleton data in csv format and each row contains skeleton joint coordinates of one frame.\n",
        "\n",
        "Dataset of labels contains action labels of each video."
      ],
      "metadata": {
        "id": "jIiWVKmET6rK"
      }
    },
    {
      "cell_type": "markdown",
      "metadata": {
        "id": "Jge09JckaI8U"
      },
      "source": [
        "# Split 1"
      ]
    },
    {
      "cell_type": "code",
      "source": [],
      "metadata": {
        "id": "QyjxDlv73eWb"
      },
      "execution_count": null,
      "outputs": []
    },
    {
      "cell_type": "code",
      "source": [
        "train = train+val"
      ],
      "metadata": {
        "id": "2a9lUrMkWcY_"
      },
      "execution_count": null,
      "outputs": []
    },
    {
      "cell_type": "code",
      "execution_count": null,
      "metadata": {
        "id": "nhlKgAZIaI8X"
      },
      "outputs": [],
      "source": [
        "x_1 = pd.read_csv(path+'jhmdb/data/GT_train_1.csv', header=None)\n",
        "y_1 = pd.read_csv(path+'jhmdb/data/GT_train_y_1.csv', header=None)"
      ]
    },
    {
      "cell_type": "code",
      "source": [
        "df_train.tail()"
      ],
      "metadata": {
        "colab": {
          "base_uri": "https://localhost:8080/",
          "height": 300
        },
        "id": "fo7-vmfVu9Q8",
        "outputId": "1ba05f87-1222-4c33-9c51-b6d2e862194a"
      },
      "execution_count": null,
      "outputs": [
        {
          "output_type": "execute_result",
          "data": {
            "text/plain": [
              "        pos0_coord0   pos0_coord1   pos1_coord0   pos1_coord1   pos2_coord0  \\\n",
              "12251  7.972752e+01  2.087219e+01  8.115162e+01  1.885813e+01  7.955486e+01   \n",
              "12252  4.755157e+01  1.904038e+01  4.854809e+01  1.710625e+01  4.761420e+01   \n",
              "12253  2.053607e+01  1.799463e+01  2.162393e+01  1.614981e+01  2.208127e+01   \n",
              "12254  3.560375e+00  1.940143e+01  3.182804e+00  1.729771e+01  1.039131e+01   \n",
              "12255  5.736647e-16  1.408891e-15  4.898189e-16  1.277134e-15  1.026788e-15   \n",
              "\n",
              "        pos2_coord1   pos3_coord0   pos3_coord1   pos4_coord0   pos4_coord1  \\\n",
              "12251  1.842806e+01  8.562742e+01  1.976403e+01  8.506591e+01  1.972895e+01   \n",
              "12252  1.711948e+01  5.322559e+01  1.803232e+01  5.415541e+01  1.807898e+01   \n",
              "12253  1.615791e+01  2.617193e+01  1.681679e+01  2.581013e+01  1.613171e+01   \n",
              "12254  1.729614e+01  4.990436e+00  1.720915e+01  1.562046e+01  1.656009e+01   \n",
              "12255  1.276487e-15  9.095949e-16  3.018009e-15  7.145167e-16  1.323438e-15   \n",
              "\n",
              "       ...  pos12_coord0  pos12_coord1  pos13_coord0  pos13_coord1  \\\n",
              "12251  ...  8.448196e+01  5.643328e+01  8.320457e+01  7.709518e+01   \n",
              "12252  ...  5.320715e+01  5.524762e+01  4.678114e+01  7.581015e+01   \n",
              "12253  ...  2.671605e+01  5.432300e+01  2.734100e+01  7.328592e+01   \n",
              "12254  ...  1.252169e+01  6.084499e+01  4.000054e+00  8.148968e+01   \n",
              "12255  ...  1.975458e-15  7.686960e-15 -3.649554e-16  1.231211e-14   \n",
              "\n",
              "       pos14_coord0  pos14_coord1  pos15_coord0  pos15_coord1  pos16_coord0  \\\n",
              "12251  8.186618e+01  7.673421e+01  9.119815e+01  9.810874e+01  7.649194e+01   \n",
              "12252  5.184503e+01  7.518527e+01  4.658672e+01  9.686801e+01  7.012853e+01   \n",
              "12253  2.276542e+01  7.321486e+01  3.841174e+01  9.451688e+01  1.602985e+01   \n",
              "12254  9.611897e+00  8.376816e+01  1.276031e+01  9.944879e+01  1.665784e+01   \n",
              "12255  1.443584e-15  1.261649e-14  1.159146e-15  6.935159e-15  1.821933e-15   \n",
              "\n",
              "       pos16_coord1  \n",
              "12251  9.602219e+01  \n",
              "12252  9.240217e+01  \n",
              "12253  9.099008e+01  \n",
              "12254  9.956637e+01  \n",
              "12255  1.409876e-14  \n",
              "\n",
              "[5 rows x 34 columns]"
            ],
            "text/html": [
              "\n",
              "  <div id=\"df-8190efbc-5b89-468b-acd7-17fef376a6a8\">\n",
              "    <div class=\"colab-df-container\">\n",
              "      <div>\n",
              "<style scoped>\n",
              "    .dataframe tbody tr th:only-of-type {\n",
              "        vertical-align: middle;\n",
              "    }\n",
              "\n",
              "    .dataframe tbody tr th {\n",
              "        vertical-align: top;\n",
              "    }\n",
              "\n",
              "    .dataframe thead th {\n",
              "        text-align: right;\n",
              "    }\n",
              "</style>\n",
              "<table border=\"1\" class=\"dataframe\">\n",
              "  <thead>\n",
              "    <tr style=\"text-align: right;\">\n",
              "      <th></th>\n",
              "      <th>pos0_coord0</th>\n",
              "      <th>pos0_coord1</th>\n",
              "      <th>pos1_coord0</th>\n",
              "      <th>pos1_coord1</th>\n",
              "      <th>pos2_coord0</th>\n",
              "      <th>pos2_coord1</th>\n",
              "      <th>pos3_coord0</th>\n",
              "      <th>pos3_coord1</th>\n",
              "      <th>pos4_coord0</th>\n",
              "      <th>pos4_coord1</th>\n",
              "      <th>...</th>\n",
              "      <th>pos12_coord0</th>\n",
              "      <th>pos12_coord1</th>\n",
              "      <th>pos13_coord0</th>\n",
              "      <th>pos13_coord1</th>\n",
              "      <th>pos14_coord0</th>\n",
              "      <th>pos14_coord1</th>\n",
              "      <th>pos15_coord0</th>\n",
              "      <th>pos15_coord1</th>\n",
              "      <th>pos16_coord0</th>\n",
              "      <th>pos16_coord1</th>\n",
              "    </tr>\n",
              "  </thead>\n",
              "  <tbody>\n",
              "    <tr>\n",
              "      <th>12251</th>\n",
              "      <td>7.972752e+01</td>\n",
              "      <td>2.087219e+01</td>\n",
              "      <td>8.115162e+01</td>\n",
              "      <td>1.885813e+01</td>\n",
              "      <td>7.955486e+01</td>\n",
              "      <td>1.842806e+01</td>\n",
              "      <td>8.562742e+01</td>\n",
              "      <td>1.976403e+01</td>\n",
              "      <td>8.506591e+01</td>\n",
              "      <td>1.972895e+01</td>\n",
              "      <td>...</td>\n",
              "      <td>8.448196e+01</td>\n",
              "      <td>5.643328e+01</td>\n",
              "      <td>8.320457e+01</td>\n",
              "      <td>7.709518e+01</td>\n",
              "      <td>8.186618e+01</td>\n",
              "      <td>7.673421e+01</td>\n",
              "      <td>9.119815e+01</td>\n",
              "      <td>9.810874e+01</td>\n",
              "      <td>7.649194e+01</td>\n",
              "      <td>9.602219e+01</td>\n",
              "    </tr>\n",
              "    <tr>\n",
              "      <th>12252</th>\n",
              "      <td>4.755157e+01</td>\n",
              "      <td>1.904038e+01</td>\n",
              "      <td>4.854809e+01</td>\n",
              "      <td>1.710625e+01</td>\n",
              "      <td>4.761420e+01</td>\n",
              "      <td>1.711948e+01</td>\n",
              "      <td>5.322559e+01</td>\n",
              "      <td>1.803232e+01</td>\n",
              "      <td>5.415541e+01</td>\n",
              "      <td>1.807898e+01</td>\n",
              "      <td>...</td>\n",
              "      <td>5.320715e+01</td>\n",
              "      <td>5.524762e+01</td>\n",
              "      <td>4.678114e+01</td>\n",
              "      <td>7.581015e+01</td>\n",
              "      <td>5.184503e+01</td>\n",
              "      <td>7.518527e+01</td>\n",
              "      <td>4.658672e+01</td>\n",
              "      <td>9.686801e+01</td>\n",
              "      <td>7.012853e+01</td>\n",
              "      <td>9.240217e+01</td>\n",
              "    </tr>\n",
              "    <tr>\n",
              "      <th>12253</th>\n",
              "      <td>2.053607e+01</td>\n",
              "      <td>1.799463e+01</td>\n",
              "      <td>2.162393e+01</td>\n",
              "      <td>1.614981e+01</td>\n",
              "      <td>2.208127e+01</td>\n",
              "      <td>1.615791e+01</td>\n",
              "      <td>2.617193e+01</td>\n",
              "      <td>1.681679e+01</td>\n",
              "      <td>2.581013e+01</td>\n",
              "      <td>1.613171e+01</td>\n",
              "      <td>...</td>\n",
              "      <td>2.671605e+01</td>\n",
              "      <td>5.432300e+01</td>\n",
              "      <td>2.734100e+01</td>\n",
              "      <td>7.328592e+01</td>\n",
              "      <td>2.276542e+01</td>\n",
              "      <td>7.321486e+01</td>\n",
              "      <td>3.841174e+01</td>\n",
              "      <td>9.451688e+01</td>\n",
              "      <td>1.602985e+01</td>\n",
              "      <td>9.099008e+01</td>\n",
              "    </tr>\n",
              "    <tr>\n",
              "      <th>12254</th>\n",
              "      <td>3.560375e+00</td>\n",
              "      <td>1.940143e+01</td>\n",
              "      <td>3.182804e+00</td>\n",
              "      <td>1.729771e+01</td>\n",
              "      <td>1.039131e+01</td>\n",
              "      <td>1.729614e+01</td>\n",
              "      <td>4.990436e+00</td>\n",
              "      <td>1.720915e+01</td>\n",
              "      <td>1.562046e+01</td>\n",
              "      <td>1.656009e+01</td>\n",
              "      <td>...</td>\n",
              "      <td>1.252169e+01</td>\n",
              "      <td>6.084499e+01</td>\n",
              "      <td>4.000054e+00</td>\n",
              "      <td>8.148968e+01</td>\n",
              "      <td>9.611897e+00</td>\n",
              "      <td>8.376816e+01</td>\n",
              "      <td>1.276031e+01</td>\n",
              "      <td>9.944879e+01</td>\n",
              "      <td>1.665784e+01</td>\n",
              "      <td>9.956637e+01</td>\n",
              "    </tr>\n",
              "    <tr>\n",
              "      <th>12255</th>\n",
              "      <td>5.736647e-16</td>\n",
              "      <td>1.408891e-15</td>\n",
              "      <td>4.898189e-16</td>\n",
              "      <td>1.277134e-15</td>\n",
              "      <td>1.026788e-15</td>\n",
              "      <td>1.276487e-15</td>\n",
              "      <td>9.095949e-16</td>\n",
              "      <td>3.018009e-15</td>\n",
              "      <td>7.145167e-16</td>\n",
              "      <td>1.323438e-15</td>\n",
              "      <td>...</td>\n",
              "      <td>1.975458e-15</td>\n",
              "      <td>7.686960e-15</td>\n",
              "      <td>-3.649554e-16</td>\n",
              "      <td>1.231211e-14</td>\n",
              "      <td>1.443584e-15</td>\n",
              "      <td>1.261649e-14</td>\n",
              "      <td>1.159146e-15</td>\n",
              "      <td>6.935159e-15</td>\n",
              "      <td>1.821933e-15</td>\n",
              "      <td>1.409876e-14</td>\n",
              "    </tr>\n",
              "  </tbody>\n",
              "</table>\n",
              "<p>5 rows × 34 columns</p>\n",
              "</div>\n",
              "      <button class=\"colab-df-convert\" onclick=\"convertToInteractive('df-8190efbc-5b89-468b-acd7-17fef376a6a8')\"\n",
              "              title=\"Convert this dataframe to an interactive table.\"\n",
              "              style=\"display:none;\">\n",
              "        \n",
              "  <svg xmlns=\"http://www.w3.org/2000/svg\" height=\"24px\"viewBox=\"0 0 24 24\"\n",
              "       width=\"24px\">\n",
              "    <path d=\"M0 0h24v24H0V0z\" fill=\"none\"/>\n",
              "    <path d=\"M18.56 5.44l.94 2.06.94-2.06 2.06-.94-2.06-.94-.94-2.06-.94 2.06-2.06.94zm-11 1L8.5 8.5l.94-2.06 2.06-.94-2.06-.94L8.5 2.5l-.94 2.06-2.06.94zm10 10l.94 2.06.94-2.06 2.06-.94-2.06-.94-.94-2.06-.94 2.06-2.06.94z\"/><path d=\"M17.41 7.96l-1.37-1.37c-.4-.4-.92-.59-1.43-.59-.52 0-1.04.2-1.43.59L10.3 9.45l-7.72 7.72c-.78.78-.78 2.05 0 2.83L4 21.41c.39.39.9.59 1.41.59.51 0 1.02-.2 1.41-.59l7.78-7.78 2.81-2.81c.8-.78.8-2.07 0-2.86zM5.41 20L4 18.59l7.72-7.72 1.47 1.35L5.41 20z\"/>\n",
              "  </svg>\n",
              "      </button>\n",
              "      \n",
              "  <style>\n",
              "    .colab-df-container {\n",
              "      display:flex;\n",
              "      flex-wrap:wrap;\n",
              "      gap: 12px;\n",
              "    }\n",
              "\n",
              "    .colab-df-convert {\n",
              "      background-color: #E8F0FE;\n",
              "      border: none;\n",
              "      border-radius: 50%;\n",
              "      cursor: pointer;\n",
              "      display: none;\n",
              "      fill: #1967D2;\n",
              "      height: 32px;\n",
              "      padding: 0 0 0 0;\n",
              "      width: 32px;\n",
              "    }\n",
              "\n",
              "    .colab-df-convert:hover {\n",
              "      background-color: #E2EBFA;\n",
              "      box-shadow: 0px 1px 2px rgba(60, 64, 67, 0.3), 0px 1px 3px 1px rgba(60, 64, 67, 0.15);\n",
              "      fill: #174EA6;\n",
              "    }\n",
              "\n",
              "    [theme=dark] .colab-df-convert {\n",
              "      background-color: #3B4455;\n",
              "      fill: #D2E3FC;\n",
              "    }\n",
              "\n",
              "    [theme=dark] .colab-df-convert:hover {\n",
              "      background-color: #434B5C;\n",
              "      box-shadow: 0px 1px 3px 1px rgba(0, 0, 0, 0.15);\n",
              "      filter: drop-shadow(0px 1px 2px rgba(0, 0, 0, 0.3));\n",
              "      fill: #FFFFFF;\n",
              "    }\n",
              "  </style>\n",
              "\n",
              "      <script>\n",
              "        const buttonEl =\n",
              "          document.querySelector('#df-8190efbc-5b89-468b-acd7-17fef376a6a8 button.colab-df-convert');\n",
              "        buttonEl.style.display =\n",
              "          google.colab.kernel.accessAllowed ? 'block' : 'none';\n",
              "\n",
              "        async function convertToInteractive(key) {\n",
              "          const element = document.querySelector('#df-8190efbc-5b89-468b-acd7-17fef376a6a8');\n",
              "          const dataTable =\n",
              "            await google.colab.kernel.invokeFunction('convertToInteractive',\n",
              "                                                     [key], {});\n",
              "          if (!dataTable) return;\n",
              "\n",
              "          const docLinkHtml = 'Like what you see? Visit the ' +\n",
              "            '<a target=\"_blank\" href=https://colab.research.google.com/notebooks/data_table.ipynb>data table notebook</a>'\n",
              "            + ' to learn more about interactive tables.';\n",
              "          element.innerHTML = '';\n",
              "          dataTable['output_type'] = 'display_data';\n",
              "          await google.colab.output.renderOutput(dataTable, element);\n",
              "          const docLink = document.createElement('div');\n",
              "          docLink.innerHTML = docLinkHtml;\n",
              "          element.appendChild(docLink);\n",
              "        }\n",
              "      </script>\n",
              "    </div>\n",
              "  </div>\n",
              "  "
            ]
          },
          "metadata": {},
          "execution_count": 123
        }
      ]
    },
    {
      "cell_type": "code",
      "source": [
        "train_labels = train_labels + val_labels"
      ],
      "metadata": {
        "id": "Wre5rU-2WU4f"
      },
      "execution_count": null,
      "outputs": []
    },
    {
      "cell_type": "code",
      "source": [
        "df_train_y = pd.DataFrame(train_labels)\n",
        "df_train_y.head()"
      ],
      "metadata": {
        "colab": {
          "base_uri": "https://localhost:8080/",
          "height": 206
        },
        "id": "aemtSvQj5JZW",
        "outputId": "3297dc3a-505e-4a22-955d-ec88bbed8e14"
      },
      "execution_count": null,
      "outputs": [
        {
          "output_type": "execute_result",
          "data": {
            "text/plain": [
              "   0\n",
              "0  0\n",
              "1  0\n",
              "2  0\n",
              "3  0\n",
              "4  0"
            ],
            "text/html": [
              "\n",
              "  <div id=\"df-6c16089a-35df-406c-bc46-b017b875a2c5\">\n",
              "    <div class=\"colab-df-container\">\n",
              "      <div>\n",
              "<style scoped>\n",
              "    .dataframe tbody tr th:only-of-type {\n",
              "        vertical-align: middle;\n",
              "    }\n",
              "\n",
              "    .dataframe tbody tr th {\n",
              "        vertical-align: top;\n",
              "    }\n",
              "\n",
              "    .dataframe thead th {\n",
              "        text-align: right;\n",
              "    }\n",
              "</style>\n",
              "<table border=\"1\" class=\"dataframe\">\n",
              "  <thead>\n",
              "    <tr style=\"text-align: right;\">\n",
              "      <th></th>\n",
              "      <th>0</th>\n",
              "    </tr>\n",
              "  </thead>\n",
              "  <tbody>\n",
              "    <tr>\n",
              "      <th>0</th>\n",
              "      <td>0</td>\n",
              "    </tr>\n",
              "    <tr>\n",
              "      <th>1</th>\n",
              "      <td>0</td>\n",
              "    </tr>\n",
              "    <tr>\n",
              "      <th>2</th>\n",
              "      <td>0</td>\n",
              "    </tr>\n",
              "    <tr>\n",
              "      <th>3</th>\n",
              "      <td>0</td>\n",
              "    </tr>\n",
              "    <tr>\n",
              "      <th>4</th>\n",
              "      <td>0</td>\n",
              "    </tr>\n",
              "  </tbody>\n",
              "</table>\n",
              "</div>\n",
              "      <button class=\"colab-df-convert\" onclick=\"convertToInteractive('df-6c16089a-35df-406c-bc46-b017b875a2c5')\"\n",
              "              title=\"Convert this dataframe to an interactive table.\"\n",
              "              style=\"display:none;\">\n",
              "        \n",
              "  <svg xmlns=\"http://www.w3.org/2000/svg\" height=\"24px\"viewBox=\"0 0 24 24\"\n",
              "       width=\"24px\">\n",
              "    <path d=\"M0 0h24v24H0V0z\" fill=\"none\"/>\n",
              "    <path d=\"M18.56 5.44l.94 2.06.94-2.06 2.06-.94-2.06-.94-.94-2.06-.94 2.06-2.06.94zm-11 1L8.5 8.5l.94-2.06 2.06-.94-2.06-.94L8.5 2.5l-.94 2.06-2.06.94zm10 10l.94 2.06.94-2.06 2.06-.94-2.06-.94-.94-2.06-.94 2.06-2.06.94z\"/><path d=\"M17.41 7.96l-1.37-1.37c-.4-.4-.92-.59-1.43-.59-.52 0-1.04.2-1.43.59L10.3 9.45l-7.72 7.72c-.78.78-.78 2.05 0 2.83L4 21.41c.39.39.9.59 1.41.59.51 0 1.02-.2 1.41-.59l7.78-7.78 2.81-2.81c.8-.78.8-2.07 0-2.86zM5.41 20L4 18.59l7.72-7.72 1.47 1.35L5.41 20z\"/>\n",
              "  </svg>\n",
              "      </button>\n",
              "      \n",
              "  <style>\n",
              "    .colab-df-container {\n",
              "      display:flex;\n",
              "      flex-wrap:wrap;\n",
              "      gap: 12px;\n",
              "    }\n",
              "\n",
              "    .colab-df-convert {\n",
              "      background-color: #E8F0FE;\n",
              "      border: none;\n",
              "      border-radius: 50%;\n",
              "      cursor: pointer;\n",
              "      display: none;\n",
              "      fill: #1967D2;\n",
              "      height: 32px;\n",
              "      padding: 0 0 0 0;\n",
              "      width: 32px;\n",
              "    }\n",
              "\n",
              "    .colab-df-convert:hover {\n",
              "      background-color: #E2EBFA;\n",
              "      box-shadow: 0px 1px 2px rgba(60, 64, 67, 0.3), 0px 1px 3px 1px rgba(60, 64, 67, 0.15);\n",
              "      fill: #174EA6;\n",
              "    }\n",
              "\n",
              "    [theme=dark] .colab-df-convert {\n",
              "      background-color: #3B4455;\n",
              "      fill: #D2E3FC;\n",
              "    }\n",
              "\n",
              "    [theme=dark] .colab-df-convert:hover {\n",
              "      background-color: #434B5C;\n",
              "      box-shadow: 0px 1px 3px 1px rgba(0, 0, 0, 0.15);\n",
              "      filter: drop-shadow(0px 1px 2px rgba(0, 0, 0, 0.3));\n",
              "      fill: #FFFFFF;\n",
              "    }\n",
              "  </style>\n",
              "\n",
              "      <script>\n",
              "        const buttonEl =\n",
              "          document.querySelector('#df-6c16089a-35df-406c-bc46-b017b875a2c5 button.colab-df-convert');\n",
              "        buttonEl.style.display =\n",
              "          google.colab.kernel.accessAllowed ? 'block' : 'none';\n",
              "\n",
              "        async function convertToInteractive(key) {\n",
              "          const element = document.querySelector('#df-6c16089a-35df-406c-bc46-b017b875a2c5');\n",
              "          const dataTable =\n",
              "            await google.colab.kernel.invokeFunction('convertToInteractive',\n",
              "                                                     [key], {});\n",
              "          if (!dataTable) return;\n",
              "\n",
              "          const docLinkHtml = 'Like what you see? Visit the ' +\n",
              "            '<a target=\"_blank\" href=https://colab.research.google.com/notebooks/data_table.ipynb>data table notebook</a>'\n",
              "            + ' to learn more about interactive tables.';\n",
              "          element.innerHTML = '';\n",
              "          dataTable['output_type'] = 'display_data';\n",
              "          await google.colab.output.renderOutput(dataTable, element);\n",
              "          const docLink = document.createElement('div');\n",
              "          docLink.innerHTML = docLinkHtml;\n",
              "          element.appendChild(docLink);\n",
              "        }\n",
              "      </script>\n",
              "    </div>\n",
              "  </div>\n",
              "  "
            ]
          },
          "metadata": {},
          "execution_count": 124
        }
      ]
    },
    {
      "cell_type": "code",
      "source": [
        "df_train_y.tail()"
      ],
      "metadata": {
        "colab": {
          "base_uri": "https://localhost:8080/",
          "height": 206
        },
        "id": "HW-8aSs45JcI",
        "outputId": "ee0b55db-8b2f-46f5-9a15-0b9c254a0738"
      },
      "execution_count": null,
      "outputs": [
        {
          "output_type": "execute_result",
          "data": {
            "text/plain": [
              "     0\n",
              "186  5\n",
              "187  5\n",
              "188  5\n",
              "189  5\n",
              "190  5"
            ],
            "text/html": [
              "\n",
              "  <div id=\"df-1a09529a-38c8-441e-9ae0-4538b3a9968e\">\n",
              "    <div class=\"colab-df-container\">\n",
              "      <div>\n",
              "<style scoped>\n",
              "    .dataframe tbody tr th:only-of-type {\n",
              "        vertical-align: middle;\n",
              "    }\n",
              "\n",
              "    .dataframe tbody tr th {\n",
              "        vertical-align: top;\n",
              "    }\n",
              "\n",
              "    .dataframe thead th {\n",
              "        text-align: right;\n",
              "    }\n",
              "</style>\n",
              "<table border=\"1\" class=\"dataframe\">\n",
              "  <thead>\n",
              "    <tr style=\"text-align: right;\">\n",
              "      <th></th>\n",
              "      <th>0</th>\n",
              "    </tr>\n",
              "  </thead>\n",
              "  <tbody>\n",
              "    <tr>\n",
              "      <th>186</th>\n",
              "      <td>5</td>\n",
              "    </tr>\n",
              "    <tr>\n",
              "      <th>187</th>\n",
              "      <td>5</td>\n",
              "    </tr>\n",
              "    <tr>\n",
              "      <th>188</th>\n",
              "      <td>5</td>\n",
              "    </tr>\n",
              "    <tr>\n",
              "      <th>189</th>\n",
              "      <td>5</td>\n",
              "    </tr>\n",
              "    <tr>\n",
              "      <th>190</th>\n",
              "      <td>5</td>\n",
              "    </tr>\n",
              "  </tbody>\n",
              "</table>\n",
              "</div>\n",
              "      <button class=\"colab-df-convert\" onclick=\"convertToInteractive('df-1a09529a-38c8-441e-9ae0-4538b3a9968e')\"\n",
              "              title=\"Convert this dataframe to an interactive table.\"\n",
              "              style=\"display:none;\">\n",
              "        \n",
              "  <svg xmlns=\"http://www.w3.org/2000/svg\" height=\"24px\"viewBox=\"0 0 24 24\"\n",
              "       width=\"24px\">\n",
              "    <path d=\"M0 0h24v24H0V0z\" fill=\"none\"/>\n",
              "    <path d=\"M18.56 5.44l.94 2.06.94-2.06 2.06-.94-2.06-.94-.94-2.06-.94 2.06-2.06.94zm-11 1L8.5 8.5l.94-2.06 2.06-.94-2.06-.94L8.5 2.5l-.94 2.06-2.06.94zm10 10l.94 2.06.94-2.06 2.06-.94-2.06-.94-.94-2.06-.94 2.06-2.06.94z\"/><path d=\"M17.41 7.96l-1.37-1.37c-.4-.4-.92-.59-1.43-.59-.52 0-1.04.2-1.43.59L10.3 9.45l-7.72 7.72c-.78.78-.78 2.05 0 2.83L4 21.41c.39.39.9.59 1.41.59.51 0 1.02-.2 1.41-.59l7.78-7.78 2.81-2.81c.8-.78.8-2.07 0-2.86zM5.41 20L4 18.59l7.72-7.72 1.47 1.35L5.41 20z\"/>\n",
              "  </svg>\n",
              "      </button>\n",
              "      \n",
              "  <style>\n",
              "    .colab-df-container {\n",
              "      display:flex;\n",
              "      flex-wrap:wrap;\n",
              "      gap: 12px;\n",
              "    }\n",
              "\n",
              "    .colab-df-convert {\n",
              "      background-color: #E8F0FE;\n",
              "      border: none;\n",
              "      border-radius: 50%;\n",
              "      cursor: pointer;\n",
              "      display: none;\n",
              "      fill: #1967D2;\n",
              "      height: 32px;\n",
              "      padding: 0 0 0 0;\n",
              "      width: 32px;\n",
              "    }\n",
              "\n",
              "    .colab-df-convert:hover {\n",
              "      background-color: #E2EBFA;\n",
              "      box-shadow: 0px 1px 2px rgba(60, 64, 67, 0.3), 0px 1px 3px 1px rgba(60, 64, 67, 0.15);\n",
              "      fill: #174EA6;\n",
              "    }\n",
              "\n",
              "    [theme=dark] .colab-df-convert {\n",
              "      background-color: #3B4455;\n",
              "      fill: #D2E3FC;\n",
              "    }\n",
              "\n",
              "    [theme=dark] .colab-df-convert:hover {\n",
              "      background-color: #434B5C;\n",
              "      box-shadow: 0px 1px 3px 1px rgba(0, 0, 0, 0.15);\n",
              "      filter: drop-shadow(0px 1px 2px rgba(0, 0, 0, 0.3));\n",
              "      fill: #FFFFFF;\n",
              "    }\n",
              "  </style>\n",
              "\n",
              "      <script>\n",
              "        const buttonEl =\n",
              "          document.querySelector('#df-1a09529a-38c8-441e-9ae0-4538b3a9968e button.colab-df-convert');\n",
              "        buttonEl.style.display =\n",
              "          google.colab.kernel.accessAllowed ? 'block' : 'none';\n",
              "\n",
              "        async function convertToInteractive(key) {\n",
              "          const element = document.querySelector('#df-1a09529a-38c8-441e-9ae0-4538b3a9968e');\n",
              "          const dataTable =\n",
              "            await google.colab.kernel.invokeFunction('convertToInteractive',\n",
              "                                                     [key], {});\n",
              "          if (!dataTable) return;\n",
              "\n",
              "          const docLinkHtml = 'Like what you see? Visit the ' +\n",
              "            '<a target=\"_blank\" href=https://colab.research.google.com/notebooks/data_table.ipynb>data table notebook</a>'\n",
              "            + ' to learn more about interactive tables.';\n",
              "          element.innerHTML = '';\n",
              "          dataTable['output_type'] = 'display_data';\n",
              "          await google.colab.output.renderOutput(dataTable, element);\n",
              "          const docLink = document.createElement('div');\n",
              "          docLink.innerHTML = docLinkHtml;\n",
              "          element.appendChild(docLink);\n",
              "        }\n",
              "      </script>\n",
              "    </div>\n",
              "  </div>\n",
              "  "
            ]
          },
          "metadata": {},
          "execution_count": 70
        }
      ]
    },
    {
      "cell_type": "code",
      "source": [
        "df_train[df_train.columns[1::2]] = df_train[df_train.columns[1::2]].apply(lambda y: -y)\n",
        "draw(df_train.iloc[156])"
      ],
      "metadata": {
        "colab": {
          "base_uri": "https://localhost:8080/",
          "height": 430
        },
        "id": "GfY9Z4CI5Jfg",
        "outputId": "46920a89-231c-41d4-d4ee-f179073651bd"
      },
      "execution_count": null,
      "outputs": [
        {
          "output_type": "display_data",
          "data": {
            "text/plain": [
              "<Figure size 640x480 with 1 Axes>"
            ],
            "image/png": "[encoded data removed]"
          },
          "metadata": {}
        }
      ]
    },
    {
      "cell_type": "code",
      "source": [
        "draw(df_train.iloc[156])"
      ],
      "metadata": {
        "colab": {
          "base_uri": "https://localhost:8080/",
          "height": 430
        },
        "id": "ZA-ABiw1_s8s",
        "outputId": "2b52f0b1-6fdc-45ff-b587-12d2f5d0d0f4"
      },
      "execution_count": null,
      "outputs": [
        {
          "output_type": "display_data",
          "data": {
            "text/plain": [
              "<Figure size 640x480 with 1 Axes>"
            ],
            "image/png": "[encoded data removed]"
          },
          "metadata": {}
        }
      ]
    },
    {
      "cell_type": "code",
      "source": [
        "df_train.iloc[156]"
      ],
      "metadata": {
        "id": "RrZR4proCd9F"
      },
      "execution_count": null,
      "outputs": []
    },
    {
      "cell_type": "code",
      "source": [
        "df_test[df_test.columns[1::2]] = df_test[df_test.columns[1::2]].apply(lambda y: -y)\n",
        "draw(df_test.iloc[155])"
      ],
      "metadata": {
        "colab": {
          "base_uri": "https://localhost:8080/",
          "height": 430
        },
        "id": "0S6cuWoDSsP6",
        "outputId": "6e1f3562-bd02-4bed-c809-26c4f8adf4bb"
      },
      "execution_count": null,
      "outputs": [
        {
          "output_type": "display_data",
          "data": {
            "text/plain": [
              "<Figure size 640x480 with 1 Axes>"
            ],
            "image/png": "[encoded data removed]"
          },
          "metadata": {}
        }
      ]
    },
    {
      "cell_type": "code",
      "source": [
        "draw(df_test.iloc[500])"
      ],
      "metadata": {
        "colab": {
          "base_uri": "https://localhost:8080/",
          "height": 430
        },
        "id": "dmXYbv487Y7U",
        "outputId": "516ca333-829e-47c1-d73e-ca196fe77dcd"
      },
      "execution_count": null,
      "outputs": [
        {
          "output_type": "display_data",
          "data": {
            "text/plain": [
              "<Figure size 640x480 with 1 Axes>"
            ],
            "image/png": "[encoded data removed]"
          },
          "metadata": {}
        }
      ]
    },
    {
      "cell_type": "code",
      "source": [
        "df_test_y.head()"
      ],
      "metadata": {
        "colab": {
          "base_uri": "https://localhost:8080/",
          "height": 206
        },
        "id": "ae_kVD3K-_ja",
        "outputId": "745d126d-e0f8-4d55-d910-da2248bb4b18"
      },
      "execution_count": null,
      "outputs": [
        {
          "output_type": "execute_result",
          "data": {
            "text/plain": [
              "   0\n",
              "0  0\n",
              "1  0\n",
              "2  0\n",
              "3  0\n",
              "4  0"
            ],
            "text/html": [
              "\n",
              "  <div id=\"df-4e8f7811-bcee-4a95-896b-56a090660500\">\n",
              "    <div class=\"colab-df-container\">\n",
              "      <div>\n",
              "<style scoped>\n",
              "    .dataframe tbody tr th:only-of-type {\n",
              "        vertical-align: middle;\n",
              "    }\n",
              "\n",
              "    .dataframe tbody tr th {\n",
              "        vertical-align: top;\n",
              "    }\n",
              "\n",
              "    .dataframe thead th {\n",
              "        text-align: right;\n",
              "    }\n",
              "</style>\n",
              "<table border=\"1\" class=\"dataframe\">\n",
              "  <thead>\n",
              "    <tr style=\"text-align: right;\">\n",
              "      <th></th>\n",
              "      <th>0</th>\n",
              "    </tr>\n",
              "  </thead>\n",
              "  <tbody>\n",
              "    <tr>\n",
              "      <th>0</th>\n",
              "      <td>0</td>\n",
              "    </tr>\n",
              "    <tr>\n",
              "      <th>1</th>\n",
              "      <td>0</td>\n",
              "    </tr>\n",
              "    <tr>\n",
              "      <th>2</th>\n",
              "      <td>0</td>\n",
              "    </tr>\n",
              "    <tr>\n",
              "      <th>3</th>\n",
              "      <td>0</td>\n",
              "    </tr>\n",
              "    <tr>\n",
              "      <th>4</th>\n",
              "      <td>0</td>\n",
              "    </tr>\n",
              "  </tbody>\n",
              "</table>\n",
              "</div>\n",
              "      <button class=\"colab-df-convert\" onclick=\"convertToInteractive('df-4e8f7811-bcee-4a95-896b-56a090660500')\"\n",
              "              title=\"Convert this dataframe to an interactive table.\"\n",
              "              style=\"display:none;\">\n",
              "        \n",
              "  <svg xmlns=\"http://www.w3.org/2000/svg\" height=\"24px\"viewBox=\"0 0 24 24\"\n",
              "       width=\"24px\">\n",
              "    <path d=\"M0 0h24v24H0V0z\" fill=\"none\"/>\n",
              "    <path d=\"M18.56 5.44l.94 2.06.94-2.06 2.06-.94-2.06-.94-.94-2.06-.94 2.06-2.06.94zm-11 1L8.5 8.5l.94-2.06 2.06-.94-2.06-.94L8.5 2.5l-.94 2.06-2.06.94zm10 10l.94 2.06.94-2.06 2.06-.94-2.06-.94-.94-2.06-.94 2.06-2.06.94z\"/><path d=\"M17.41 7.96l-1.37-1.37c-.4-.4-.92-.59-1.43-.59-.52 0-1.04.2-1.43.59L10.3 9.45l-7.72 7.72c-.78.78-.78 2.05 0 2.83L4 21.41c.39.39.9.59 1.41.59.51 0 1.02-.2 1.41-.59l7.78-7.78 2.81-2.81c.8-.78.8-2.07 0-2.86zM5.41 20L4 18.59l7.72-7.72 1.47 1.35L5.41 20z\"/>\n",
              "  </svg>\n",
              "      </button>\n",
              "      \n",
              "  <style>\n",
              "    .colab-df-container {\n",
              "      display:flex;\n",
              "      flex-wrap:wrap;\n",
              "      gap: 12px;\n",
              "    }\n",
              "\n",
              "    .colab-df-convert {\n",
              "      background-color: #E8F0FE;\n",
              "      border: none;\n",
              "      border-radius: 50%;\n",
              "      cursor: pointer;\n",
              "      display: none;\n",
              "      fill: #1967D2;\n",
              "      height: 32px;\n",
              "      padding: 0 0 0 0;\n",
              "      width: 32px;\n",
              "    }\n",
              "\n",
              "    .colab-df-convert:hover {\n",
              "      background-color: #E2EBFA;\n",
              "      box-shadow: 0px 1px 2px rgba(60, 64, 67, 0.3), 0px 1px 3px 1px rgba(60, 64, 67, 0.15);\n",
              "      fill: #174EA6;\n",
              "    }\n",
              "\n",
              "    [theme=dark] .colab-df-convert {\n",
              "      background-color: #3B4455;\n",
              "      fill: #D2E3FC;\n",
              "    }\n",
              "\n",
              "    [theme=dark] .colab-df-convert:hover {\n",
              "      background-color: #434B5C;\n",
              "      box-shadow: 0px 1px 3px 1px rgba(0, 0, 0, 0.15);\n",
              "      filter: drop-shadow(0px 1px 2px rgba(0, 0, 0, 0.3));\n",
              "      fill: #FFFFFF;\n",
              "    }\n",
              "  </style>\n",
              "\n",
              "      <script>\n",
              "        const buttonEl =\n",
              "          document.querySelector('#df-4e8f7811-bcee-4a95-896b-56a090660500 button.colab-df-convert');\n",
              "        buttonEl.style.display =\n",
              "          google.colab.kernel.accessAllowed ? 'block' : 'none';\n",
              "\n",
              "        async function convertToInteractive(key) {\n",
              "          const element = document.querySelector('#df-4e8f7811-bcee-4a95-896b-56a090660500');\n",
              "          const dataTable =\n",
              "            await google.colab.kernel.invokeFunction('convertToInteractive',\n",
              "                                                     [key], {});\n",
              "          if (!dataTable) return;\n",
              "\n",
              "          const docLinkHtml = 'Like what you see? Visit the ' +\n",
              "            '<a target=\"_blank\" href=https://colab.research.google.com/notebooks/data_table.ipynb>data table notebook</a>'\n",
              "            + ' to learn more about interactive tables.';\n",
              "          element.innerHTML = '';\n",
              "          dataTable['output_type'] = 'display_data';\n",
              "          await google.colab.output.renderOutput(dataTable, element);\n",
              "          const docLink = document.createElement('div');\n",
              "          docLink.innerHTML = docLinkHtml;\n",
              "          element.appendChild(docLink);\n",
              "        }\n",
              "      </script>\n",
              "    </div>\n",
              "  </div>\n",
              "  "
            ]
          },
          "metadata": {},
          "execution_count": 46
        }
      ]
    },
    {
      "cell_type": "markdown",
      "source": [
        "Augmenting data"
      ],
      "metadata": {
        "id": "dfLnjXfuXlhc"
      }
    },
    {
      "cell_type": "code",
      "execution_count": null,
      "metadata": {
        "id": "3coGl7oeaI8Y"
      },
      "outputs": [],
      "source": [
        "x_aug, y_aug = data_augment(df_train, df_train_y, 7555)"
      ]
    },
    {
      "cell_type": "code",
      "source": [
        "x_train_arr1 =  df_train.to_numpy()\n",
        "y_train_arr1 = df_train_y.to_numpy()"
      ],
      "metadata": {
        "id": "ZOJr_VS8Xyx6"
      },
      "execution_count": null,
      "outputs": []
    },
    {
      "cell_type": "code",
      "source": [
        "x_train_arr1 =  x_aug.to_numpy()\n",
        "y_train_arr1 = y_aug.to_numpy()"
      ],
      "metadata": {
        "id": "asTIqinSSdoy"
      },
      "execution_count": null,
      "outputs": []
    },
    {
      "cell_type": "code",
      "source": [
        "df_test_y"
      ],
      "metadata": {
        "id": "dlDElL0qSdu-",
        "colab": {
          "base_uri": "https://localhost:8080/",
          "height": 424
        },
        "outputId": "a334c58c-2c9d-4186-eb69-e4e889511b4c"
      },
      "execution_count": null,
      "outputs": [
        {
          "output_type": "execute_result",
          "data": {
            "text/plain": [
              "     0\n",
              "0    0\n",
              "1    0\n",
              "2    0\n",
              "3    0\n",
              "4    0\n",
              "..  ..\n",
              "211  5\n",
              "212  5\n",
              "213  5\n",
              "214  5\n",
              "215  5\n",
              "\n",
              "[216 rows x 1 columns]"
            ],
            "text/html": [
              "\n",
              "  <div id=\"df-dbe98893-f3cd-4a21-af91-6d2aae705c6a\">\n",
              "    <div class=\"colab-df-container\">\n",
              "      <div>\n",
              "<style scoped>\n",
              "    .dataframe tbody tr th:only-of-type {\n",
              "        vertical-align: middle;\n",
              "    }\n",
              "\n",
              "    .dataframe tbody tr th {\n",
              "        vertical-align: top;\n",
              "    }\n",
              "\n",
              "    .dataframe thead th {\n",
              "        text-align: right;\n",
              "    }\n",
              "</style>\n",
              "<table border=\"1\" class=\"dataframe\">\n",
              "  <thead>\n",
              "    <tr style=\"text-align: right;\">\n",
              "      <th></th>\n",
              "      <th>0</th>\n",
              "    </tr>\n",
              "  </thead>\n",
              "  <tbody>\n",
              "    <tr>\n",
              "      <th>0</th>\n",
              "      <td>0</td>\n",
              "    </tr>\n",
              "    <tr>\n",
              "      <th>1</th>\n",
              "      <td>0</td>\n",
              "    </tr>\n",
              "    <tr>\n",
              "      <th>2</th>\n",
              "      <td>0</td>\n",
              "    </tr>\n",
              "    <tr>\n",
              "      <th>3</th>\n",
              "      <td>0</td>\n",
              "    </tr>\n",
              "    <tr>\n",
              "      <th>4</th>\n",
              "      <td>0</td>\n",
              "    </tr>\n",
              "    <tr>\n",
              "      <th>...</th>\n",
              "      <td>...</td>\n",
              "    </tr>\n",
              "    <tr>\n",
              "      <th>211</th>\n",
              "      <td>5</td>\n",
              "    </tr>\n",
              "    <tr>\n",
              "      <th>212</th>\n",
              "      <td>5</td>\n",
              "    </tr>\n",
              "    <tr>\n",
              "      <th>213</th>\n",
              "      <td>5</td>\n",
              "    </tr>\n",
              "    <tr>\n",
              "      <th>214</th>\n",
              "      <td>5</td>\n",
              "    </tr>\n",
              "    <tr>\n",
              "      <th>215</th>\n",
              "      <td>5</td>\n",
              "    </tr>\n",
              "  </tbody>\n",
              "</table>\n",
              "<p>216 rows × 1 columns</p>\n",
              "</div>\n",
              "      <button class=\"colab-df-convert\" onclick=\"convertToInteractive('df-dbe98893-f3cd-4a21-af91-6d2aae705c6a')\"\n",
              "              title=\"Convert this dataframe to an interactive table.\"\n",
              "              style=\"display:none;\">\n",
              "        \n",
              "  <svg xmlns=\"http://www.w3.org/2000/svg\" height=\"24px\"viewBox=\"0 0 24 24\"\n",
              "       width=\"24px\">\n",
              "    <path d=\"M0 0h24v24H0V0z\" fill=\"none\"/>\n",
              "    <path d=\"M18.56 5.44l.94 2.06.94-2.06 2.06-.94-2.06-.94-.94-2.06-.94 2.06-2.06.94zm-11 1L8.5 8.5l.94-2.06 2.06-.94-2.06-.94L8.5 2.5l-.94 2.06-2.06.94zm10 10l.94 2.06.94-2.06 2.06-.94-2.06-.94-.94-2.06-.94 2.06-2.06.94z\"/><path d=\"M17.41 7.96l-1.37-1.37c-.4-.4-.92-.59-1.43-.59-.52 0-1.04.2-1.43.59L10.3 9.45l-7.72 7.72c-.78.78-.78 2.05 0 2.83L4 21.41c.39.39.9.59 1.41.59.51 0 1.02-.2 1.41-.59l7.78-7.78 2.81-2.81c.8-.78.8-2.07 0-2.86zM5.41 20L4 18.59l7.72-7.72 1.47 1.35L5.41 20z\"/>\n",
              "  </svg>\n",
              "      </button>\n",
              "      \n",
              "  <style>\n",
              "    .colab-df-container {\n",
              "      display:flex;\n",
              "      flex-wrap:wrap;\n",
              "      gap: 12px;\n",
              "    }\n",
              "\n",
              "    .colab-df-convert {\n",
              "      background-color: #E8F0FE;\n",
              "      border: none;\n",
              "      border-radius: 50%;\n",
              "      cursor: pointer;\n",
              "      display: none;\n",
              "      fill: #1967D2;\n",
              "      height: 32px;\n",
              "      padding: 0 0 0 0;\n",
              "      width: 32px;\n",
              "    }\n",
              "\n",
              "    .colab-df-convert:hover {\n",
              "      background-color: #E2EBFA;\n",
              "      box-shadow: 0px 1px 2px rgba(60, 64, 67, 0.3), 0px 1px 3px 1px rgba(60, 64, 67, 0.15);\n",
              "      fill: #174EA6;\n",
              "    }\n",
              "\n",
              "    [theme=dark] .colab-df-convert {\n",
              "      background-color: #3B4455;\n",
              "      fill: #D2E3FC;\n",
              "    }\n",
              "\n",
              "    [theme=dark] .colab-df-convert:hover {\n",
              "      background-color: #434B5C;\n",
              "      box-shadow: 0px 1px 3px 1px rgba(0, 0, 0, 0.15);\n",
              "      filter: drop-shadow(0px 1px 2px rgba(0, 0, 0, 0.3));\n",
              "      fill: #FFFFFF;\n",
              "    }\n",
              "  </style>\n",
              "\n",
              "      <script>\n",
              "        const buttonEl =\n",
              "          document.querySelector('#df-dbe98893-f3cd-4a21-af91-6d2aae705c6a button.colab-df-convert');\n",
              "        buttonEl.style.display =\n",
              "          google.colab.kernel.accessAllowed ? 'block' : 'none';\n",
              "\n",
              "        async function convertToInteractive(key) {\n",
              "          const element = document.querySelector('#df-dbe98893-f3cd-4a21-af91-6d2aae705c6a');\n",
              "          const dataTable =\n",
              "            await google.colab.kernel.invokeFunction('convertToInteractive',\n",
              "                                                     [key], {});\n",
              "          if (!dataTable) return;\n",
              "\n",
              "          const docLinkHtml = 'Like what you see? Visit the ' +\n",
              "            '<a target=\"_blank\" href=https://colab.research.google.com/notebooks/data_table.ipynb>data table notebook</a>'\n",
              "            + ' to learn more about interactive tables.';\n",
              "          element.innerHTML = '';\n",
              "          dataTable['output_type'] = 'display_data';\n",
              "          await google.colab.output.renderOutput(dataTable, element);\n",
              "          const docLink = document.createElement('div');\n",
              "          docLink.innerHTML = docLinkHtml;\n",
              "          element.appendChild(docLink);\n",
              "        }\n",
              "      </script>\n",
              "    </div>\n",
              "  </div>\n",
              "  "
            ]
          },
          "metadata": {},
          "execution_count": 129
        }
      ]
    },
    {
      "cell_type": "markdown",
      "source": [
        "Action labels are repeated for each frame in order to generate features correctly"
      ],
      "metadata": {
        "id": "lB-CCCVXX0lZ"
      }
    },
    {
      "cell_type": "code",
      "source": [
        "len(train[4])"
      ],
      "metadata": {
        "colab": {
          "base_uri": "https://localhost:8080/"
        },
        "id": "VrzzxDN43GFy",
        "outputId": "d7a6581e-89a2-4a08-a0bf-3e8a1b78885d"
      },
      "execution_count": null,
      "outputs": [
        {
          "output_type": "execute_result",
          "data": {
            "text/plain": [
              "59"
            ]
          },
          "metadata": {},
          "execution_count": 47
        }
      ]
    },
    {
      "cell_type": "code",
      "execution_count": null,
      "metadata": {
        "id": "zqospqPDaI8Z"
      },
      "outputs": [],
      "source": [
        "y_train1 = []\n",
        "video_indices1 = []\n",
        "for i in range(len(y_train_arr1)):\n",
        "    y_train1.extend([y_train_arr1[i][0]]*32)\n",
        "    video_indices1.extend([i]*32)"
      ]
    },
    {
      "cell_type": "code",
      "execution_count": null,
      "metadata": {
        "colab": {
          "base_uri": "https://localhost:8080/"
        },
        "id": "RlQ7-kkuaI8a",
        "outputId": "b2b54575-325e-4e1a-8700-13bf8e48657e"
      },
      "outputs": [
        {
          "output_type": "stream",
          "name": "stdout",
          "text": [
            "x_test_arr (12256, 34)\n",
            "y_test_arr (383, 1)\n"
          ]
        }
      ],
      "source": [
        "print('x_test_arr', x_train_arr1.shape)\n",
        "print('y_test_arr', y_train_arr1.shape)"
      ]
    },
    {
      "cell_type": "code",
      "execution_count": null,
      "metadata": {
        "id": "1Tk7-svXaI8a"
      },
      "outputs": [],
      "source": [
        "x_1_test = pd.read_csv(path+'jhmdb/data/GT_test_1.csv', header=None)\n",
        "y_1_test = pd.read_csv(path+'jhmdb/data/GT_test_y_1.csv', header=None)"
      ]
    },
    {
      "cell_type": "code",
      "source": [],
      "metadata": {
        "id": "Au9jA14w7FCi"
      },
      "execution_count": null,
      "outputs": []
    },
    {
      "cell_type": "code",
      "execution_count": null,
      "metadata": {
        "id": "7ISwc5ehaI8b"
      },
      "outputs": [],
      "source": [
        "x_test_arr1 =  df_test.to_numpy()\n",
        "y_test_arr1 = df_test_y.to_numpy()"
      ]
    },
    {
      "cell_type": "code",
      "execution_count": null,
      "metadata": {
        "id": "Dt6mVhxmaI8c"
      },
      "outputs": [],
      "source": [
        "y_test1 = []\n",
        "video_indices_test1 = []\n",
        "for i in range(len(y_test_arr1)):\n",
        "    y_test1.extend([y_test_arr1[i][0]]*32)\n",
        "    video_indices_test1.extend([i]*32)"
      ]
    },
    {
      "cell_type": "markdown",
      "source": [
        "Extracting features for train set"
      ],
      "metadata": {
        "id": "N7tDYK1_YHgq"
      }
    },
    {
      "cell_type": "code",
      "execution_count": null,
      "metadata": {
        "colab": {
          "base_uri": "https://localhost:8080/"
        },
        "id": "tusUcgD-aI8c",
        "outputId": "aa546ef5-88fd-4571-daed-cc28712d7235"
      },
      "outputs": [
        {
          "output_type": "stream",
          "name": "stdout",
          "text": [
            "\n",
            "Extracting time-serials features ...\n",
            "0/12256, 1000/12256, 2000/12256, 3000/12256, 4000/12256, 5000/12256, 6000/12256, 7000/12256, 8000/12256, 9000/12256, 10000/12256, 11000/12256, 12000/12256, \n",
            "X.shape = (10724, 386), len(Y) = 10724\n"
          ]
        }
      ],
      "source": [
        "# Process features\n",
        "print(\"\\nExtracting time-serials features ...\")\n",
        "X_train1, y_tr, X_train_d1= process_features(x_train_arr1, y_train1, video_indices1, CLASSES)\n",
        "print(f\"X.shape = {X_train1.shape}, len(Y) = {len(y_tr)}\")"
      ]
    },
    {
      "cell_type": "markdown",
      "source": [
        "Extracting features for test set"
      ],
      "metadata": {
        "id": "-1thl0CtYLrB"
      }
    },
    {
      "cell_type": "code",
      "execution_count": null,
      "metadata": {
        "colab": {
          "base_uri": "https://localhost:8080/"
        },
        "id": "RBZxNqGGaI8d",
        "outputId": "fa951c1b-988a-477c-dcf1-15fbd36b47ce"
      },
      "outputs": [
        {
          "output_type": "stream",
          "name": "stdout",
          "text": [
            "\n",
            "Extracting time-serials features ...\n",
            "0/6912, 1000/6912, 2000/6912, 3000/6912, 4000/6912, 5000/6912, 6000/6912, \n",
            "X.shape = (6048, 386), len(Y) = 6048\n",
            "TOTAL TIME:  1.414724588394165\n"
          ]
        }
      ],
      "source": [
        "# Process features\n",
        "print(\"\\nExtracting time-serials features ...\")\n",
        "time_start = time.time()\n",
        "X_test1, y_te, X_test_d1 = process_features(x_test_arr1, y_test1, video_indices_test1, CLASSES)\n",
        "time_stop = time.time()\n",
        "print(f\"X.shape = {X_test1.shape}, len(Y) = {len(y_te)}\")\n",
        "print(\"TOTAL TIME:  {}\".format(time_stop - time_start))"
      ]
    },
    {
      "cell_type": "code",
      "source": [
        "y_tr"
      ],
      "metadata": {
        "colab": {
          "base_uri": "https://localhost:8080/"
        },
        "id": "9Wky1-1La_9S",
        "outputId": "5346cf98-18cc-4972-94a9-0247e572c599"
      },
      "execution_count": null,
      "outputs": [
        {
          "output_type": "execute_result",
          "data": {
            "text/plain": [
              "array([0, 0, 0, ..., 5, 5, 5])"
            ]
          },
          "metadata": {},
          "execution_count": 151
        }
      ]
    },
    {
      "cell_type": "markdown",
      "metadata": {
        "id": "_Jt7hm31aI8e"
      },
      "source": [
        "## PCA for joint based features"
      ]
    },
    {
      "cell_type": "markdown",
      "source": [
        "Joint based features reduced to 100 dimension"
      ],
      "metadata": {
        "id": "ZjAwFE61YXvP"
      }
    },
    {
      "cell_type": "code",
      "execution_count": null,
      "metadata": {
        "colab": {
          "base_uri": "https://localhost:8080/"
        },
        "id": "wi-PDASdaI8e",
        "outputId": "08cbe363-86a7-446e-d44a-ce87c7ba596a"
      },
      "outputs": [
        {
          "output_type": "stream",
          "name": "stdout",
          "text": [
            "Sum eig values: 0.9990515211136957\n",
            "After PCA, X.shape =  (10724, 100)\n"
          ]
        }
      ],
      "source": [
        "# -- PCA\n",
        "NUM_FEATURES_FROM_PCA = 100\n",
        "\n",
        "n_components = min(NUM_FEATURES_FROM_PCA, X_train1.shape[1])\n",
        "pca = PCA(n_components=n_components, whiten=True)\n",
        "pca.fit(X_train1)\n",
        "# print(\"Sum eig values:\", np.sum(self.pca.singular_values_))\n",
        "print(\"Sum eig values:\", np.sum(pca.explained_variance_ratio_))\n",
        "X_tr1 = pca.transform(X_train1)\n",
        "print(\"After PCA, X.shape = \", X_tr1.shape)"
      ]
    },
    {
      "cell_type": "code",
      "execution_count": null,
      "metadata": {
        "colab": {
          "base_uri": "https://localhost:8080/"
        },
        "id": "8y1Cp6J9aI8f",
        "outputId": "be07fd16-3658-48ac-e977-0e5bf28b6971"
      },
      "outputs": [
        {
          "output_type": "stream",
          "name": "stdout",
          "text": [
            "TOTAL TIME:  0.02774810791015625\n"
          ]
        }
      ],
      "source": [
        "time_start = time.time()\n",
        "X_te1 = pca.transform(X_test1)\n",
        "time_stop = time.time()\n",
        "print(\"TOTAL TIME:  {}\".format(time_stop - time_start))"
      ]
    },
    {
      "cell_type": "markdown",
      "metadata": {
        "id": "JXBsmqUDaI8f"
      },
      "source": [
        "## PCA for distance feature"
      ]
    },
    {
      "cell_type": "markdown",
      "source": [
        "Distance feature dimension reduced to 50"
      ],
      "metadata": {
        "id": "pB1QMYeoYrho"
      }
    },
    {
      "cell_type": "code",
      "execution_count": null,
      "metadata": {
        "colab": {
          "base_uri": "https://localhost:8080/"
        },
        "id": "e8bQNIcGaI8f",
        "outputId": "5d8f7bf2-825d-450e-c264-2993506c33d7"
      },
      "outputs": [
        {
          "output_type": "stream",
          "name": "stdout",
          "text": [
            "Sum eig values: 0.9901507563556682\n",
            "After PCA, X.shape =  (10724, 50)\n"
          ]
        }
      ],
      "source": [
        "# -- PCA\n",
        "NUM_FEATURES_FROM_PCA = 50\n",
        "\n",
        "n_components = min(NUM_FEATURES_FROM_PCA, X_train_d1.shape[1])\n",
        "pca = PCA(n_components=n_components, whiten=True)\n",
        "pca.fit(X_train_d1)\n",
        "# print(\"Sum eig values:\", np.sum(self.pca.singular_values_))\n",
        "print(\"Sum eig values:\", np.sum(pca.explained_variance_ratio_))\n",
        "X_tr_d1 = pca.transform(X_train_d1)\n",
        "print(\"After PCA, X.shape = \", X_tr_d1.shape)"
      ]
    },
    {
      "cell_type": "code",
      "execution_count": null,
      "metadata": {
        "colab": {
          "base_uri": "https://localhost:8080/"
        },
        "id": "GzYXTTORaI8g",
        "outputId": "52d3465b-d648-4710-e53e-bb89654aea61"
      },
      "outputs": [
        {
          "output_type": "stream",
          "name": "stdout",
          "text": [
            "TOTAL TIME:  0.03177285194396973\n"
          ]
        }
      ],
      "source": [
        "time_start = time.time()\n",
        "X_te_d1 = pca.transform(X_test_d1)\n",
        "time_stop = time.time()\n",
        "print(\"TOTAL TIME:  {}\".format(time_stop - time_start))"
      ]
    },
    {
      "cell_type": "markdown",
      "source": [
        "Concatenate Joint based and Distance based features"
      ],
      "metadata": {
        "id": "rkWVtt_KYzRq"
      }
    },
    {
      "cell_type": "code",
      "execution_count": null,
      "metadata": {
        "colab": {
          "base_uri": "https://localhost:8080/"
        },
        "id": "CLwJHx74aI8j",
        "outputId": "42af1c10-c2bc-4a5e-8edf-3df1ff3bb24e"
      },
      "outputs": [
        {
          "output_type": "execute_result",
          "data": {
            "text/plain": [
              "(10724, 150)"
            ]
          },
          "metadata": {},
          "execution_count": 140
        }
      ],
      "source": [
        "X_train1 = np.concatenate((X_tr1, X_tr_d1), axis=1)\n",
        "X_train1.shape"
      ]
    },
    {
      "cell_type": "code",
      "execution_count": null,
      "metadata": {
        "colab": {
          "base_uri": "https://localhost:8080/"
        },
        "id": "vOKz041IaI8k",
        "outputId": "9923fd5b-136a-4b6c-d7bc-43addce32b44"
      },
      "outputs": [
        {
          "output_type": "execute_result",
          "data": {
            "text/plain": [
              "(6048, 150)"
            ]
          },
          "metadata": {},
          "execution_count": 141
        }
      ],
      "source": [
        "X_test1 = np.concatenate((X_te1, X_te_d1), axis=1)\n",
        "X_test1.shape"
      ]
    },
    {
      "cell_type": "code",
      "execution_count": null,
      "metadata": {
        "colab": {
          "base_uri": "https://localhost:8080/"
        },
        "id": "-Sy18qmcaI8k",
        "outputId": "fc26b39d-d8ab-4228-8df6-4354ea018a92"
      },
      "outputs": [
        {
          "output_type": "execute_result",
          "data": {
            "text/plain": [
              "(383, 28, 150)"
            ]
          },
          "metadata": {},
          "execution_count": 142
        }
      ],
      "source": [
        "blocks = int(len(X_train1) / 28)\n",
        "X_train1 = np.array(np.split(X_train1, blocks))\n",
        "X_train1.shape"
      ]
    },
    {
      "cell_type": "code",
      "execution_count": null,
      "metadata": {
        "id": "TyScg7MnaI8l",
        "colab": {
          "base_uri": "https://localhost:8080/"
        },
        "outputId": "bba28172-e472-4a25-a18e-28c6a96598eb"
      },
      "outputs": [
        {
          "output_type": "execute_result",
          "data": {
            "text/plain": [
              "(216, 28, 150)"
            ]
          },
          "metadata": {},
          "execution_count": 143
        }
      ],
      "source": [
        "blocks = int(len(X_test1) / 28)\n",
        "X_test1 = np.array(np.split(X_test1, blocks))\n",
        "X_test1.shape"
      ]
    },
    {
      "cell_type": "markdown",
      "metadata": {
        "id": "fWtFXCr9aI8l"
      },
      "source": [
        "# Split 2"
      ]
    },
    {
      "cell_type": "code",
      "execution_count": null,
      "metadata": {
        "id": "acG0lq4SaI8l"
      },
      "outputs": [],
      "source": [
        "x_2 = pd.read_csv(path+'jhmdb/data/GT_train_2.csv', header=None)\n",
        "y_2 = pd.read_csv(path+'jhmdb/data/GT_train_y_2.csv', header=None)"
      ]
    },
    {
      "cell_type": "code",
      "execution_count": null,
      "metadata": {
        "colab": {
          "base_uri": "https://localhost:8080/"
        },
        "id": "Cqfvaw7AaI8l",
        "outputId": "0bcc5bd3-ffd0-42c6-d2c1-8344e520e92d"
      },
      "outputs": [
        {
          "output_type": "execute_result",
          "data": {
            "text/plain": [
              "(21056, 30)"
            ]
          },
          "metadata": {},
          "execution_count": 42
        }
      ],
      "source": [
        "x_2.shape"
      ]
    },
    {
      "cell_type": "code",
      "execution_count": null,
      "metadata": {
        "id": "pUfQ3UCaaI8m"
      },
      "outputs": [],
      "source": [
        "x_2[x_2.columns[1::2]] = x_2[x_2.columns[1::2]].apply(lambda y: -y)"
      ]
    },
    {
      "cell_type": "code",
      "execution_count": null,
      "metadata": {
        "id": "kQE1x4OFaI8m"
      },
      "outputs": [],
      "source": [
        "x_aug2, y_aug2 = data_augment(x_2, y_2, 21056)"
      ]
    },
    {
      "cell_type": "code",
      "execution_count": null,
      "metadata": {
        "id": "V7xzxoZhaI8n"
      },
      "outputs": [],
      "source": [
        "x_train_arr2 =  x_aug2.to_numpy()\n",
        "y_train_arr2 = y_aug2.to_numpy()"
      ]
    },
    {
      "cell_type": "code",
      "execution_count": null,
      "metadata": {
        "id": "ztU4LDHjaI8s"
      },
      "outputs": [],
      "source": [
        "y_train2 = []\n",
        "video_indices2 = []\n",
        "for i in range(len(y_train_arr2)):\n",
        "    y_train2.extend([y_train_arr2[i][0]]*32)\n",
        "    video_indices2.extend([i]*32)"
      ]
    },
    {
      "cell_type": "code",
      "execution_count": null,
      "metadata": {
        "colab": {
          "base_uri": "https://localhost:8080/"
        },
        "id": "yynTLx7zaI8t",
        "outputId": "53e21b4d-a60c-46ca-b3fb-c0c9cab95c41"
      },
      "outputs": [
        {
          "output_type": "stream",
          "name": "stdout",
          "text": [
            "x_test_arr (252672, 30)\n",
            "y_test_arr (7896, 1)\n"
          ]
        }
      ],
      "source": [
        "print('x_test_arr', x_train_arr2.shape)\n",
        "print('y_test_arr', y_train_arr2.shape)"
      ]
    },
    {
      "cell_type": "code",
      "execution_count": null,
      "metadata": {
        "id": "Y5PLfUU_aI8u"
      },
      "outputs": [],
      "source": [
        "x_2_test = pd.read_csv(path+'jhmdb/data/GT_test_2.csv', header=None)\n",
        "y_2_test = pd.read_csv(path+'jhmdb/data/GT_test_y_2.csv', header=None)"
      ]
    },
    {
      "cell_type": "code",
      "execution_count": null,
      "metadata": {
        "id": "LT3IZtFtaI8u"
      },
      "outputs": [],
      "source": [
        "x_2_test[x_2_test.columns[1::2]] = x_2_test[x_2_test.columns[1::2]].apply(lambda y: -y)"
      ]
    },
    {
      "cell_type": "code",
      "execution_count": null,
      "metadata": {
        "id": "iIcvvqJqaI83"
      },
      "outputs": [],
      "source": [
        "x_test_arr2 =  x_2_test.to_numpy()\n",
        "y_test_arr2 = y_2_test.to_numpy()"
      ]
    },
    {
      "cell_type": "code",
      "execution_count": null,
      "metadata": {
        "id": "sRaYXdkIaI88"
      },
      "outputs": [],
      "source": [
        "y_test2 = []\n",
        "video_indices_test2 = []\n",
        "for i in range(len(y_test_arr2)):\n",
        "    y_test2.extend([y_test_arr2[i][0]]*32)\n",
        "    video_indices_test2.extend([i]*32)"
      ]
    },
    {
      "cell_type": "code",
      "execution_count": null,
      "metadata": {
        "colab": {
          "base_uri": "https://localhost:8080/"
        },
        "id": "SGbddjdDaI88",
        "outputId": "671d92d3-a4a6-482f-bd5a-ac7dac90eb69"
      },
      "outputs": [
        {
          "output_type": "stream",
          "name": "stdout",
          "text": [
            "\n",
            "Extracting time-serials features ...\n",
            "0/252672, 1000/252672, 2000/252672, 3000/252672, 4000/252672, 5000/252672, 6000/252672, 7000/252672, 8000/252672, 9000/252672, 10000/252672, 11000/252672, 12000/252672, 13000/252672, 14000/252672, 15000/252672, 16000/252672, 17000/252672, 18000/252672, 19000/252672, 20000/252672, 21000/252672, 22000/252672, 23000/252672, 24000/252672, 25000/252672, 26000/252672, 27000/252672, 28000/252672, 29000/252672, 30000/252672, 31000/252672, 32000/252672, 33000/252672, 34000/252672, 35000/252672, 36000/252672, 37000/252672, 38000/252672, 39000/252672, 40000/252672, 41000/252672, 42000/252672, 43000/252672, 44000/252672, 45000/252672, 46000/252672, 47000/252672, 48000/252672, 49000/252672, 50000/252672, 51000/252672, 52000/252672, 53000/252672, 54000/252672, 55000/252672, 56000/252672, 57000/252672, 58000/252672, 59000/252672, 60000/252672, 61000/252672, 62000/252672, 63000/252672, 64000/252672, 65000/252672, 66000/252672, 67000/252672, 68000/252672, 69000/252672, 70000/252672, 71000/252672, 72000/252672, 73000/252672, 74000/252672, 75000/252672, 76000/252672, 77000/252672, 78000/252672, 79000/252672, 80000/252672, 81000/252672, 82000/252672, 83000/252672, 84000/252672, 85000/252672, 86000/252672, 87000/252672, 88000/252672, 89000/252672, 90000/252672, 91000/252672, 92000/252672, 93000/252672, 94000/252672, 95000/252672, 96000/252672, 97000/252672, 98000/252672, 99000/252672, 100000/252672, 101000/252672, 102000/252672, 103000/252672, 104000/252672, 105000/252672, 106000/252672, 107000/252672, 108000/252672, 109000/252672, 110000/252672, 111000/252672, 112000/252672, 113000/252672, 114000/252672, 115000/252672, 116000/252672, 117000/252672, 118000/252672, 119000/252672, 120000/252672, 121000/252672, 122000/252672, 123000/252672, 124000/252672, 125000/252672, 126000/252672, 127000/252672, 128000/252672, 129000/252672, 130000/252672, 131000/252672, 132000/252672, 133000/252672, 134000/252672, 135000/252672, 136000/252672, 137000/252672, 138000/252672, 139000/252672, 140000/252672, 141000/252672, 142000/252672, 143000/252672, 144000/252672, 145000/252672, 146000/252672, 147000/252672, 148000/252672, 149000/252672, 150000/252672, 151000/252672, 152000/252672, 153000/252672, 154000/252672, 155000/252672, 156000/252672, 157000/252672, 158000/252672, 159000/252672, 160000/252672, 161000/252672, 162000/252672, 163000/252672, 164000/252672, 165000/252672, 166000/252672, 167000/252672, 168000/252672, 169000/252672, 170000/252672, 171000/252672, 172000/252672, 173000/252672, 174000/252672, 175000/252672, 176000/252672, 177000/252672, 178000/252672, 179000/252672, 180000/252672, 181000/252672, 182000/252672, 183000/252672, 184000/252672, 185000/252672, 186000/252672, 187000/252672, 188000/252672, 189000/252672, 190000/252672, 191000/252672, 192000/252672, 193000/252672, 194000/252672, 195000/252672, 196000/252672, 197000/252672, 198000/252672, 199000/252672, 200000/252672, 201000/252672, 202000/252672, 203000/252672, 204000/252672, 205000/252672, 206000/252672, 207000/252672, 208000/252672, 209000/252672, 210000/252672, 211000/252672, 212000/252672, 213000/252672, 214000/252672, 215000/252672, 216000/252672, 217000/252672, 218000/252672, 219000/252672, 220000/252672, 221000/252672, 222000/252672, 223000/252672, 224000/252672, 225000/252672, 226000/252672, 227000/252672, 228000/252672, 229000/252672, 230000/252672, 231000/252672, 232000/252672, 233000/252672, 234000/252672, 235000/252672, 236000/252672, 237000/252672, 238000/252672, 239000/252672, 240000/252672, 241000/252672, 242000/252672, 243000/252672, 244000/252672, 245000/252672, 246000/252672, 247000/252672, 248000/252672, 249000/252672, 250000/252672, 251000/252672, 252000/252672, \n",
            "X.shape = (221088, 350), len(Y) = 221088\n"
          ]
        }
      ],
      "source": [
        "# Process features\n",
        "print(\"\\nExtracting time-serials features ...\")\n",
        "X_train2, y_tr, X_train_d2= process_features(x_train_arr2, y_train2, video_indices2, CLASSES)\n",
        "print(f\"X.shape = {X_train2.shape}, len(Y) = {len(y_tr)}\")\n"
      ]
    },
    {
      "cell_type": "code",
      "execution_count": null,
      "metadata": {
        "colab": {
          "base_uri": "https://localhost:8080/"
        },
        "id": "1PX19k89aI89",
        "outputId": "2da9c92b-2b33-440c-847d-fff1438a2fbd"
      },
      "outputs": [
        {
          "output_type": "stream",
          "name": "stdout",
          "text": [
            "\n",
            "Extracting time-serials features ...\n",
            "0/8640, 1000/8640, 2000/8640, 3000/8640, 4000/8640, 5000/8640, 6000/8640, 7000/8640, 8000/8640, \n",
            "X.shape = (7560, 350), len(Y) = 7560\n",
            "TOTAL TIME:  1.8711984157562256\n"
          ]
        }
      ],
      "source": [
        "# Process features\n",
        "print(\"\\nExtracting time-serials features ...\")\n",
        "time_start = time.time()\n",
        "X_test2, y_te, X_test_d2 = process_features(x_test_arr2, y_test2, video_indices_test2, CLASSES)\n",
        "time_stop = time.time()\n",
        "print(f\"X.shape = {X_test2.shape}, len(Y) = {len(y_te)}\")\n",
        "print(\"TOTAL TIME:  {}\".format(time_stop - time_start))\n"
      ]
    },
    {
      "cell_type": "code",
      "execution_count": null,
      "metadata": {
        "colab": {
          "base_uri": "https://localhost:8080/"
        },
        "id": "3XIgS1tWaI89",
        "outputId": "0d8d259f-a174-4f7f-c7d8-11b50275bbe9"
      },
      "outputs": [
        {
          "output_type": "stream",
          "name": "stdout",
          "text": [
            "Sum eig values: 0.9906907859009909\n",
            "After PCA, X.shape =  (221088, 100)\n"
          ]
        }
      ],
      "source": [
        "# -- PCA\n",
        "NUM_FEATURES_FROM_PCA = 100\n",
        "\n",
        "n_components = min(NUM_FEATURES_FROM_PCA, X_train2.shape[1])\n",
        "pca = PCA(n_components=n_components, whiten=True)\n",
        "pca.fit(X_train2)\n",
        "# print(\"Sum eig values:\", np.sum(self.pca.singular_values_))\n",
        "print(\"Sum eig values:\", np.sum(pca.explained_variance_ratio_))\n",
        "X_tr2 = pca.transform(X_train2)\n",
        "print(\"After PCA, X.shape = \", X_tr2.shape)"
      ]
    },
    {
      "cell_type": "code",
      "execution_count": null,
      "metadata": {
        "colab": {
          "base_uri": "https://localhost:8080/"
        },
        "id": "zzzmSLnVaI8-",
        "outputId": "4bf40f01-a9b7-45fb-ecb6-b271733df218"
      },
      "outputs": [
        {
          "output_type": "stream",
          "name": "stdout",
          "text": [
            "TOTAL TIME:  0.022981643676757812\n"
          ]
        }
      ],
      "source": [
        "time_start = time.time()\n",
        "X_te2 = pca.transform(X_test2)\n",
        "time_stop = time.time()\n",
        "print(\"TOTAL TIME:  {}\".format(time_stop - time_start))"
      ]
    },
    {
      "cell_type": "code",
      "execution_count": null,
      "metadata": {
        "colab": {
          "base_uri": "https://localhost:8080/"
        },
        "id": "cbXgvgeYaI8_",
        "outputId": "30dd22b1-e814-4567-de78-8d1f81b8ad20"
      },
      "outputs": [
        {
          "output_type": "stream",
          "name": "stdout",
          "text": [
            "Sum eig values: 0.959312658419985\n",
            "After PCA, X.shape =  (221088, 50)\n"
          ]
        }
      ],
      "source": [
        "# -- PCA\n",
        "NUM_FEATURES_FROM_PCA = 50\n",
        "\n",
        "n_components = min(NUM_FEATURES_FROM_PCA, X_train_d2.shape[1])\n",
        "pca = PCA(n_components=n_components, whiten=True)\n",
        "pca.fit(X_train_d2)\n",
        "# print(\"Sum eig values:\", np.sum(self.pca.singular_values_))\n",
        "print(\"Sum eig values:\", np.sum(pca.explained_variance_ratio_))\n",
        "X_tr_d2 = pca.transform(X_train_d2)\n",
        "print(\"After PCA, X.shape = \", X_tr_d2.shape)"
      ]
    },
    {
      "cell_type": "code",
      "execution_count": null,
      "metadata": {
        "colab": {
          "base_uri": "https://localhost:8080/"
        },
        "id": "bcB6j8cUaI8_",
        "outputId": "83b00318-930b-47df-c155-8b2fd27fbcc6"
      },
      "outputs": [
        {
          "output_type": "stream",
          "name": "stdout",
          "text": [
            "TOTAL TIME:  0.024183034896850586\n"
          ]
        }
      ],
      "source": [
        "time_start = time.time()\n",
        "X_te_d2 = pca.transform(X_test_d2)\n",
        "time_stop = time.time()\n",
        "print(\"TOTAL TIME:  {}\".format(time_stop - time_start))"
      ]
    },
    {
      "cell_type": "code",
      "execution_count": null,
      "metadata": {
        "colab": {
          "base_uri": "https://localhost:8080/"
        },
        "id": "rN1QtbxKaI9A",
        "outputId": "c3963f10-cd6c-4ae1-b0d0-9f75dda00fdb"
      },
      "outputs": [
        {
          "output_type": "execute_result",
          "data": {
            "text/plain": [
              "(7560, 150)"
            ]
          },
          "metadata": {},
          "execution_count": 58
        }
      ],
      "source": [
        "X_train2 = np.concatenate((X_tr2, X_tr_d2), axis=1)\n",
        "X_test2 = np.concatenate((X_te2, X_te_d2), axis=1)\n",
        "X_test2.shape"
      ]
    },
    {
      "cell_type": "code",
      "execution_count": null,
      "metadata": {
        "colab": {
          "base_uri": "https://localhost:8080/"
        },
        "id": "S9mhoxT7aI9B",
        "outputId": "edbd4240-ba79-4141-c884-00a71a984884"
      },
      "outputs": [
        {
          "output_type": "execute_result",
          "data": {
            "text/plain": [
              "(7896, 28, 150)"
            ]
          },
          "metadata": {},
          "execution_count": 59
        }
      ],
      "source": [
        "blocks = int(len(X_train2) / 28)\n",
        "X_train2 = np.array(np.split(X_train2, blocks))\n",
        "\n",
        "blocks = int(len(X_test2) / 28)\n",
        "X_test2 = np.array(np.split(X_test2, blocks))\n",
        "\n",
        "X_train2.shape\n"
      ]
    },
    {
      "cell_type": "markdown",
      "metadata": {
        "id": "-w8R_mutaI9B"
      },
      "source": [
        "# Split 3"
      ]
    },
    {
      "cell_type": "code",
      "execution_count": null,
      "metadata": {
        "id": "XESDQvDaaI9B"
      },
      "outputs": [],
      "source": [
        "x_3 = pd.read_csv(path+'jhmdb/data/GT_train_3.csv', header=None)\n",
        "y_3 = pd.read_csv(path+'jhmdb/data/GT_train_y_3.csv', header=None)"
      ]
    },
    {
      "cell_type": "code",
      "execution_count": null,
      "metadata": {
        "colab": {
          "base_uri": "https://localhost:8080/"
        },
        "id": "FPRorl6laI9C",
        "outputId": "e46541cc-177b-4bb2-fdf8-1a6ef0260318"
      },
      "outputs": [
        {
          "output_type": "execute_result",
          "data": {
            "text/plain": [
              "(21216, 30)"
            ]
          },
          "metadata": {},
          "execution_count": 61
        }
      ],
      "source": [
        "x_3.shape"
      ]
    },
    {
      "cell_type": "code",
      "execution_count": null,
      "metadata": {
        "id": "Vd5A2zTWaI9C"
      },
      "outputs": [],
      "source": [
        "x_3[x_3.columns[1::2]] = x_3[x_3.columns[1::2]].apply(lambda y: -y)"
      ]
    },
    {
      "cell_type": "code",
      "execution_count": null,
      "metadata": {
        "id": "JkxJ8VC2aI9D"
      },
      "outputs": [],
      "source": [
        "x_aug3, y_aug3 = data_augment(x_3, y_3, 21216)"
      ]
    },
    {
      "cell_type": "code",
      "execution_count": null,
      "metadata": {
        "id": "gdzOyWfuaI9D"
      },
      "outputs": [],
      "source": [
        "x_train_arr3 =  x_aug3.to_numpy()\n",
        "y_train_arr3 = y_aug3.to_numpy()\n"
      ]
    },
    {
      "cell_type": "code",
      "execution_count": null,
      "metadata": {
        "id": "SGgqwPpQaI9D"
      },
      "outputs": [],
      "source": [
        "y_train3 = []\n",
        "video_indices3 = []\n",
        "for i in range(len(y_train_arr3)):\n",
        "    y_train3.extend([y_train_arr3[i][0]]*32)\n",
        "    video_indices3.extend([i]*32)"
      ]
    },
    {
      "cell_type": "code",
      "execution_count": null,
      "metadata": {
        "colab": {
          "base_uri": "https://localhost:8080/"
        },
        "id": "NBjxZkbFaI9E",
        "outputId": "a3526ab6-8ec9-41c6-fb79-af41605ff4ed"
      },
      "outputs": [
        {
          "output_type": "stream",
          "name": "stdout",
          "text": [
            "x_test_arr (254592, 30)\n",
            "y_test_arr (7956, 1)\n"
          ]
        }
      ],
      "source": [
        "print('x_test_arr', x_train_arr3.shape)\n",
        "print('y_test_arr', y_train_arr3.shape)"
      ]
    },
    {
      "cell_type": "code",
      "execution_count": null,
      "metadata": {
        "id": "wT840yIDaI9E"
      },
      "outputs": [],
      "source": [
        "x_3_test = pd.read_csv(path+'jhmdb/data/GT_test_3.csv', header=None)\n",
        "y_3_test = pd.read_csv(path+'jhmdb/data/GT_test_y_3.csv', header=None)"
      ]
    },
    {
      "cell_type": "code",
      "execution_count": null,
      "metadata": {
        "id": "7aYIkTlZaI9E"
      },
      "outputs": [],
      "source": [
        "x_3_test[x_3_test.columns[1::2]] = x_3_test[x_3_test.columns[1::2]].apply(lambda y: -y)"
      ]
    },
    {
      "cell_type": "code",
      "execution_count": null,
      "metadata": {
        "id": "aJADQOxaaI9F"
      },
      "outputs": [],
      "source": [
        "x_test_arr3 =  x_3_test.to_numpy()\n",
        "y_test_arr3 = y_3_test.to_numpy()"
      ]
    },
    {
      "cell_type": "code",
      "execution_count": null,
      "metadata": {
        "id": "N5J-J5fpaI9F"
      },
      "outputs": [],
      "source": [
        "y_test3 = []\n",
        "video_indices_test3 = []\n",
        "for i in range(len(y_test_arr3)):\n",
        "    y_test3.extend([y_test_arr3[i][0]]*32)\n",
        "    video_indices_test3.extend([i]*32)"
      ]
    },
    {
      "cell_type": "code",
      "execution_count": null,
      "metadata": {
        "colab": {
          "base_uri": "https://localhost:8080/"
        },
        "id": "zKvNByD7aI9F",
        "outputId": "8fabc95d-0175-4583-dfa6-0b26734a8bea"
      },
      "outputs": [
        {
          "output_type": "stream",
          "name": "stdout",
          "text": [
            "\n",
            "Extracting time-serials features ...\n",
            "0/254592, 1000/254592, 2000/254592, 3000/254592, 4000/254592, 5000/254592, 6000/254592, 7000/254592, 8000/254592, 9000/254592, 10000/254592, 11000/254592, 12000/254592, 13000/254592, 14000/254592, 15000/254592, 16000/254592, 17000/254592, 18000/254592, 19000/254592, 20000/254592, 21000/254592, 22000/254592, 23000/254592, 24000/254592, 25000/254592, 26000/254592, 27000/254592, 28000/254592, 29000/254592, 30000/254592, 31000/254592, 32000/254592, 33000/254592, 34000/254592, 35000/254592, 36000/254592, 37000/254592, 38000/254592, 39000/254592, 40000/254592, 41000/254592, 42000/254592, 43000/254592, 44000/254592, 45000/254592, 46000/254592, 47000/254592, 48000/254592, 49000/254592, 50000/254592, 51000/254592, 52000/254592, 53000/254592, 54000/254592, 55000/254592, 56000/254592, 57000/254592, 58000/254592, 59000/254592, 60000/254592, 61000/254592, 62000/254592, 63000/254592, 64000/254592, 65000/254592, 66000/254592, 67000/254592, 68000/254592, 69000/254592, 70000/254592, 71000/254592, 72000/254592, 73000/254592, 74000/254592, 75000/254592, 76000/254592, 77000/254592, 78000/254592, 79000/254592, 80000/254592, 81000/254592, 82000/254592, 83000/254592, 84000/254592, 85000/254592, 86000/254592, 87000/254592, 88000/254592, 89000/254592, 90000/254592, 91000/254592, 92000/254592, 93000/254592, 94000/254592, 95000/254592, 96000/254592, 97000/254592, 98000/254592, 99000/254592, 100000/254592, 101000/254592, 102000/254592, 103000/254592, 104000/254592, 105000/254592, 106000/254592, 107000/254592, 108000/254592, 109000/254592, 110000/254592, 111000/254592, 112000/254592, 113000/254592, 114000/254592, 115000/254592, 116000/254592, 117000/254592, 118000/254592, 119000/254592, 120000/254592, 121000/254592, 122000/254592, 123000/254592, 124000/254592, 125000/254592, 126000/254592, 127000/254592, 128000/254592, 129000/254592, 130000/254592, 131000/254592, 132000/254592, 133000/254592, 134000/254592, 135000/254592, 136000/254592, 137000/254592, 138000/254592, 139000/254592, 140000/254592, 141000/254592, 142000/254592, 143000/254592, 144000/254592, 145000/254592, 146000/254592, 147000/254592, 148000/254592, 149000/254592, 150000/254592, 151000/254592, 152000/254592, 153000/254592, 154000/254592, 155000/254592, 156000/254592, 157000/254592, 158000/254592, 159000/254592, 160000/254592, 161000/254592, 162000/254592, 163000/254592, 164000/254592, 165000/254592, 166000/254592, 167000/254592, 168000/254592, 169000/254592, 170000/254592, 171000/254592, 172000/254592, 173000/254592, 174000/254592, 175000/254592, 176000/254592, 177000/254592, 178000/254592, 179000/254592, 180000/254592, 181000/254592, 182000/254592, 183000/254592, 184000/254592, 185000/254592, 186000/254592, 187000/254592, 188000/254592, 189000/254592, 190000/254592, 191000/254592, 192000/254592, 193000/254592, 194000/254592, 195000/254592, 196000/254592, 197000/254592, 198000/254592, 199000/254592, 200000/254592, 201000/254592, 202000/254592, 203000/254592, 204000/254592, 205000/254592, 206000/254592, 207000/254592, 208000/254592, 209000/254592, 210000/254592, 211000/254592, 212000/254592, 213000/254592, 214000/254592, 215000/254592, 216000/254592, 217000/254592, 218000/254592, 219000/254592, 220000/254592, 221000/254592, 222000/254592, 223000/254592, 224000/254592, 225000/254592, 226000/254592, 227000/254592, 228000/254592, 229000/254592, 230000/254592, 231000/254592, 232000/254592, 233000/254592, 234000/254592, 235000/254592, 236000/254592, 237000/254592, 238000/254592, 239000/254592, 240000/254592, 241000/254592, 242000/254592, 243000/254592, 244000/254592, 245000/254592, 246000/254592, 247000/254592, 248000/254592, 249000/254592, 250000/254592, 251000/254592, 252000/254592, 253000/254592, 254000/254592, \n",
            "X.shape = (222768, 350), len(Y) = 222768\n"
          ]
        }
      ],
      "source": [
        "# Process features\n",
        "print(\"\\nExtracting time-serials features ...\")\n",
        "X_train3, y_tr, X_train_d3= process_features(x_train_arr3, y_train3, video_indices3, CLASSES)\n",
        "print(f\"X.shape = {X_train3.shape}, len(Y) = {len(y_tr)}\")\n"
      ]
    },
    {
      "cell_type": "code",
      "execution_count": null,
      "metadata": {
        "colab": {
          "base_uri": "https://localhost:8080/"
        },
        "id": "zqvfbSM2aI9F",
        "outputId": "0bf8386f-2365-4292-d715-0a977c2c923e"
      },
      "outputs": [
        {
          "output_type": "stream",
          "name": "stdout",
          "text": [
            "\n",
            "Extracting time-serials features ...\n",
            "0/8480, 1000/8480, 2000/8480, 3000/8480, 4000/8480, 5000/8480, 6000/8480, 7000/8480, 8000/8480, \n",
            "X.shape = (7420, 350), len(Y) = 7420\n",
            "TOTAL TIME:  1.8547394275665283\n"
          ]
        }
      ],
      "source": [
        "# Process features\n",
        "print(\"\\nExtracting time-serials features ...\")\n",
        "time_start = time.time()\n",
        "X_test3, y_te, X_test_d3 = process_features(x_test_arr3, y_test3, video_indices_test3, CLASSES)\n",
        "time_stop = time.time()\n",
        "print(f\"X.shape = {X_test3.shape}, len(Y) = {len(y_te)}\")\n",
        "print(\"TOTAL TIME:  {}\".format(time_stop - time_start))\n"
      ]
    },
    {
      "cell_type": "code",
      "execution_count": null,
      "metadata": {
        "colab": {
          "base_uri": "https://localhost:8080/"
        },
        "id": "3LxpoiK1aI9G",
        "outputId": "593aa0ab-6511-487a-c906-dc2f027c7f40"
      },
      "outputs": [
        {
          "output_type": "stream",
          "name": "stdout",
          "text": [
            "Sum eig values: 0.9908513744966687\n",
            "After PCA, X.shape =  (222768, 100)\n"
          ]
        }
      ],
      "source": [
        "# -- PCA\n",
        "NUM_FEATURES_FROM_PCA = 100\n",
        "\n",
        "n_components = min(NUM_FEATURES_FROM_PCA, X_train3.shape[1])\n",
        "pca = PCA(n_components=n_components, whiten=True)\n",
        "pca.fit(X_train3)\n",
        "# print(\"Sum eig values:\", np.sum(self.pca.singular_values_))\n",
        "print(\"Sum eig values:\", np.sum(pca.explained_variance_ratio_))\n",
        "X_tr3 = pca.transform(X_train3)\n",
        "print(\"After PCA, X.shape = \", X_tr3.shape)"
      ]
    },
    {
      "cell_type": "code",
      "execution_count": null,
      "metadata": {
        "colab": {
          "base_uri": "https://localhost:8080/"
        },
        "id": "Q0s1T3JUaI9G",
        "outputId": "05d09f58-6481-4043-b1d9-f17bcecc4999"
      },
      "outputs": [
        {
          "output_type": "stream",
          "name": "stdout",
          "text": [
            "TOTAL TIME:  0.02756977081298828\n"
          ]
        }
      ],
      "source": [
        "time_start = time.time()\n",
        "X_te3 = pca.transform(X_test3)\n",
        "time_stop = time.time()\n",
        "print(\"TOTAL TIME:  {}\".format(time_stop - time_start))"
      ]
    },
    {
      "cell_type": "code",
      "execution_count": null,
      "metadata": {
        "colab": {
          "base_uri": "https://localhost:8080/"
        },
        "id": "oFH374ncaI9G",
        "outputId": "f8d6d56a-5b24-486d-b94f-47a052fd9827"
      },
      "outputs": [
        {
          "output_type": "stream",
          "name": "stdout",
          "text": [
            "Sum eig values: 0.9605640243310695\n",
            "After PCA, X.shape =  (222768, 50)\n"
          ]
        }
      ],
      "source": [
        "# -- PCA\n",
        "NUM_FEATURES_FROM_PCA = 50\n",
        "\n",
        "n_components = min(NUM_FEATURES_FROM_PCA, X_train_d3.shape[1])\n",
        "pca = PCA(n_components=n_components, whiten=True)\n",
        "pca.fit(X_train_d3)\n",
        "# print(\"Sum eig values:\", np.sum(self.pca.singular_values_))\n",
        "print(\"Sum eig values:\", np.sum(pca.explained_variance_ratio_))\n",
        "X_tr_d3 = pca.transform(X_train_d3)\n",
        "print(\"After PCA, X.shape = \", X_tr_d3.shape)"
      ]
    },
    {
      "cell_type": "code",
      "execution_count": null,
      "metadata": {
        "colab": {
          "base_uri": "https://localhost:8080/"
        },
        "id": "GUHXaWGpaI9H",
        "outputId": "82d13907-a853-4efc-d4e0-47ebe0b51b73"
      },
      "outputs": [
        {
          "output_type": "stream",
          "name": "stdout",
          "text": [
            "TOTAL TIME:  0.023772001266479492\n"
          ]
        }
      ],
      "source": [
        "time_start = time.time()\n",
        "X_te_d3 = pca.transform(X_test_d3)\n",
        "time_stop = time.time()\n",
        "print(\"TOTAL TIME:  {}\".format(time_stop - time_start))"
      ]
    },
    {
      "cell_type": "code",
      "execution_count": null,
      "metadata": {
        "colab": {
          "base_uri": "https://localhost:8080/"
        },
        "id": "xPXEBFtZaI9H",
        "outputId": "f1969683-56b1-4f92-f145-9fc59c5786de"
      },
      "outputs": [
        {
          "output_type": "execute_result",
          "data": {
            "text/plain": [
              "(7420, 150)"
            ]
          },
          "metadata": {},
          "execution_count": 77
        }
      ],
      "source": [
        "X_train3 = np.concatenate((X_tr3, X_tr_d3), axis=1)\n",
        "X_test3 = np.concatenate((X_te3, X_te_d3), axis=1)\n",
        "X_test3.shape"
      ]
    },
    {
      "cell_type": "code",
      "execution_count": null,
      "metadata": {
        "colab": {
          "base_uri": "https://localhost:8080/"
        },
        "id": "dPI32j0raI9H",
        "outputId": "89167a4f-b3f1-43b1-fc6f-349a6582d6a0"
      },
      "outputs": [
        {
          "output_type": "execute_result",
          "data": {
            "text/plain": [
              "(7956, 28, 150)"
            ]
          },
          "metadata": {},
          "execution_count": 78
        }
      ],
      "source": [
        "blocks = int(len(X_train3) / 28)\n",
        "X_train3 = np.array(np.split(X_train3, blocks))\n",
        "\n",
        "blocks = int(len(X_test3) / 28)\n",
        "X_test3 = np.array(np.split(X_test3, blocks))\n",
        "\n",
        "X_train3.shape\n"
      ]
    },
    {
      "cell_type": "markdown",
      "metadata": {
        "id": "bNkBpM9daI9J"
      },
      "source": [
        "# Transformer model"
      ]
    },
    {
      "cell_type": "code",
      "execution_count": null,
      "metadata": {
        "id": "_8SuTHxyaI9K"
      },
      "outputs": [],
      "source": [
        "MAX_SEQ_LENGTH = 28\n",
        "NUM_FEATURES = 150"
      ]
    },
    {
      "cell_type": "code",
      "execution_count": null,
      "metadata": {
        "colab": {
          "base_uri": "https://localhost:8080/",
          "height": 200
        },
        "id": "kkNlWnfzaI9K",
        "outputId": "2c6bfae5-fde3-49b4-a5a1-81bf9a2fe933"
      },
      "outputs": [
        {
          "output_type": "stream",
          "name": "stdout",
          "text": [
            "(X shape, y shape, every X's mean, every X's standard deviation)\n"
          ]
        },
        {
          "output_type": "error",
          "ename": "NameError",
          "evalue": "ignored",
          "traceback": [
            "\u001b[0;31m---------------------------------------------------------------------------\u001b[0m",
            "\u001b[0;31mNameError\u001b[0m                                 Traceback (most recent call last)",
            "\u001b[0;32m<ipython-input-110-053091a12126>\u001b[0m in \u001b[0;36m<cell line: 2>\u001b[0;34m()\u001b[0m\n\u001b[1;32m      1\u001b[0m \u001b[0mprint\u001b[0m\u001b[0;34m(\u001b[0m\u001b[0;34m\"(X shape, y shape, every X's mean, every X's standard deviation)\"\u001b[0m\u001b[0;34m)\u001b[0m\u001b[0;34m\u001b[0m\u001b[0;34m\u001b[0m\u001b[0m\n\u001b[0;32m----> 2\u001b[0;31m \u001b[0mprint\u001b[0m\u001b[0;34m(\u001b[0m\u001b[0mX_train1\u001b[0m\u001b[0;34m.\u001b[0m\u001b[0mshape\u001b[0m\u001b[0;34m,\u001b[0m \u001b[0my_test_arr1\u001b[0m\u001b[0;34m.\u001b[0m\u001b[0mshape\u001b[0m\u001b[0;34m,\u001b[0m \u001b[0mnp\u001b[0m\u001b[0;34m.\u001b[0m\u001b[0mmean\u001b[0m\u001b[0;34m(\u001b[0m\u001b[0mX_test1\u001b[0m\u001b[0;34m)\u001b[0m\u001b[0;34m,\u001b[0m \u001b[0mnp\u001b[0m\u001b[0;34m.\u001b[0m\u001b[0mstd\u001b[0m\u001b[0;34m(\u001b[0m\u001b[0mX_test3\u001b[0m\u001b[0;34m)\u001b[0m\u001b[0;34m)\u001b[0m\u001b[0;34m\u001b[0m\u001b[0;34m\u001b[0m\u001b[0m\n\u001b[0m",
            "\u001b[0;31mNameError\u001b[0m: name 'X_test3' is not defined"
          ]
        }
      ],
      "source": [
        "print(\"(X shape, y shape, every X's mean, every X's standard deviation)\")\n",
        "print(X_train1.shape, y_test_arr1.shape, np.mean(X_test1), np.std(X_test3))"
      ]
    },
    {
      "cell_type": "code",
      "execution_count": null,
      "metadata": {
        "colab": {
          "base_uri": "https://localhost:8080/"
        },
        "id": "74ZAU27qaI9L",
        "outputId": "80ba948f-34c4-4d68-94cb-314734903c7c"
      },
      "outputs": [
        {
          "output_type": "stream",
          "name": "stdout",
          "text": [
            "[0, 1, 2, 3, 4, 5]\n"
          ]
        }
      ],
      "source": [
        "# Label preprocessing with StringLookup.\n",
        "label_processor = tf.keras.layers.IntegerLookup(\n",
        "    num_oov_indices=0, vocabulary=np.unique(y_train_arr1), mask_token=None\n",
        ")\n",
        "print(label_processor.get_vocabulary())"
      ]
    },
    {
      "cell_type": "markdown",
      "source": [
        "Self-attention layers that form the basic blocks of a Transformer are order-agnostic. Since videos are ordered sequences of frames, we need our Transformer model to take into account order information. We do this via positional encoding. We simply embed the positions of the frames present inside videos with an Embedding layer."
      ],
      "metadata": {
        "id": "bNpLNib0ZiXR"
      }
    },
    {
      "cell_type": "code",
      "execution_count": null,
      "metadata": {
        "id": "JB6bchRWaI9M"
      },
      "outputs": [],
      "source": [
        "class PositionalEmbedding(layers.Layer):\n",
        "    def __init__(self, sequence_length, output_dim, **kwargs):\n",
        "        super(PositionalEmbedding, self).__init__()\n",
        "        self.position_embeddings = layers.Embedding(\n",
        "            input_dim=sequence_length, output_dim=output_dim\n",
        "        )\n",
        "        self.sequence_length = sequence_length\n",
        "        self.output_dim = output_dim\n",
        "\n",
        "    def call(self, inputs):\n",
        "        # The inputs are of shape: `(batch_size, frames, num_features)`\n",
        "        length = tf.shape(inputs)[1]\n",
        "        positions = tf.range(start=0, limit=length, delta=1)\n",
        "        embedded_positions = self.position_embeddings(positions)\n",
        "        return inputs + embedded_positions\n",
        "\n",
        "    def compute_mask(self, inputs, mask=None):\n",
        "        mask = tf.reduce_any(tf.cast(inputs, \"bool\"), axis=-1)\n",
        "        return mask\n",
        "\n",
        "    def get_config(self):\n",
        "        config = super(PositionalEmbedding, self).get_config()\n",
        "        config.update({\n",
        "            'position_embeddings': self.position_embeddings,\n",
        "            'sequence_length': self.sequence_length,\n",
        "            'output_dim': self.output_dim\n",
        "        })\n",
        "        return config"
      ]
    },
    {
      "cell_type": "markdown",
      "source": [
        "Encoder layer of Transformer model containing Attention layer, Feed forward layer and normalization layer"
      ],
      "metadata": {
        "id": "IfnTQXJ1Z4F2"
      }
    },
    {
      "cell_type": "code",
      "execution_count": null,
      "metadata": {
        "id": "hp2YUvP5aI9M"
      },
      "outputs": [],
      "source": [
        "class EncoderLayer(layers.Layer):\n",
        "    def __init__(self, embed_dim, dense_dim, num_heads, **kwargs):\n",
        "        super(EncoderLayer, self).__init__()\n",
        "        self.embed_dim = embed_dim\n",
        "        self.dense_dim = dense_dim\n",
        "        self.num_heads = num_heads\n",
        "        self.attention = layers.MultiHeadAttention(\n",
        "            num_heads=num_heads, key_dim=embed_dim, dropout=0.5\n",
        "        )\n",
        "        self.dense_proj = keras.Sequential(\n",
        "            [layers.Dense(dense_dim, activation=tf.nn.gelu), BatchNormalization(), layers.Dropout(0.5),\n",
        "             layers.Dense(embed_dim, kernel_regularizer=l2(0.01), bias_regularizer=l2(0.01)), BatchNormalization(), layers.Dropout(0.5),]\n",
        "        )\n",
        "        self.layernorm_1 = layers.LayerNormalization()\n",
        "        self.layernorm_2 = layers.LayerNormalization()\n",
        "        self.layernorm_3 = layers.LayerNormalization()\n",
        "        self.dropout = layers.Dropout(0.5)\n",
        "\n",
        "    def call(self, inputs, mask=None):\n",
        "        if mask is not None:\n",
        "            mask = mask[:, tf.newaxis, :]\n",
        "\n",
        "        inputs = self.layernorm_3(inputs)\n",
        "\n",
        "        attention_output = self.attention(inputs, inputs, attention_mask=mask)\n",
        "        # attention_output = self.dropout(0.5)(attention_output)\n",
        "        proj_input = self.layernorm_1(inputs + attention_output)\n",
        "        proj_output = self.dense_proj(proj_input)\n",
        "        return self.layernorm_2(proj_input + proj_output)\n",
        "    def get_config(self):\n",
        "        config = super(EncoderLayer, self).get_config()\n",
        "        config.update({\n",
        "            'embed_dim': self.embed_dim,\n",
        "            'dense_dim': self.dense_dim,\n",
        "            'num_heads': self.num_heads,\n",
        "            'attention': self.attention,\n",
        "            'dense_proj': self.dense_proj,\n",
        "            'layernorm_1': self.layernorm_1,\n",
        "            'layernorm_2': self.layernorm_2,\n",
        "\n",
        "        })\n",
        "        return config"
      ]
    },
    {
      "cell_type": "markdown",
      "source": [
        "Encoder block of Transformer model"
      ],
      "metadata": {
        "id": "v3lHWooLaCus"
      }
    },
    {
      "cell_type": "code",
      "execution_count": null,
      "metadata": {
        "id": "JoOtc3M9aI9M"
      },
      "outputs": [],
      "source": [
        "class Encoder(tf.keras.layers.Layer):\n",
        "    def __init__(self, num_layers, embed_dim,dense_dim, num_heads, rate=0.1,**kwargs ):\n",
        "        super(Encoder, self).__init__()\n",
        "\n",
        "        self.embed_dim = embed_dim\n",
        "        self.num_layers = num_layers\n",
        "        self.dense_dim = dense_dim\n",
        "        self.num_heads = num_heads\n",
        "\n",
        "        self.enc_layers = [EncoderLayer(embed_dim, dense_dim, num_heads, name=\"transformer_layer\")\n",
        "                           for _ in range(num_layers)]\n",
        "\n",
        "        self.dropout = tf.keras.layers.Dropout(rate)\n",
        "\n",
        "    def call(self, x, mask=None):\n",
        "        if mask is not None:\n",
        "            mask = mask[:, tf.newaxis, :]\n",
        "\n",
        "\n",
        "        seq_len = tf.shape(x)[1]\n",
        "\n",
        "\n",
        "        for i in range(self.num_layers):\n",
        "            x = self.enc_layers[i](x, mask)\n",
        "\n",
        "        return x  # (batch_size, input_seq_len, d_model)\n",
        "    def get_config(self):\n",
        "        config = super(Encoder, self).get_config()\n",
        "        config.update({\n",
        "            'embed_dim': self.embed_dim,\n",
        "            'num_layers': self.num_layers,\n",
        "            'enc_layers': self.enc_layers,\n",
        "            'dropout': self.dropout,\n",
        "            'dense_dim': self.dense_dim,\n",
        "            'num_heads': self.num_heads\n",
        "        })\n",
        "        return config\n"
      ]
    },
    {
      "cell_type": "markdown",
      "source": [
        "Utility functions for training\n"
      ],
      "metadata": {
        "id": "bTvc3CMOZ0Km"
      }
    },
    {
      "cell_type": "code",
      "execution_count": null,
      "metadata": {
        "id": "FEwdi8eDaI9N"
      },
      "outputs": [],
      "source": [
        "def get_compiled_model():\n",
        "    sequence_length = MAX_SEQ_LENGTH\n",
        "    num_layers = 1\n",
        "    embed_dim = NUM_FEATURES\n",
        "    dense_dim = 2\n",
        "    num_heads = 16\n",
        "    classes = len(label_processor.get_vocabulary())\n",
        "\n",
        "\n",
        "\n",
        "    inputs = keras.Input(shape=(None, None))\n",
        "    x = PositionalEmbedding(\n",
        "        sequence_length, embed_dim, name=\"frame_position_embedding\"\n",
        "    )(inputs)\n",
        "    x = layers.Dropout(0.5)(x)\n",
        "    x = Encoder(num_layers, embed_dim, dense_dim, num_heads, name=\"transformer_layer\")(x)\n",
        "    x = layers.Dropout(0.5)(x)\n",
        "    x = layers.GlobalMaxPooling1D()(x)\n",
        "    x = layers.Dropout(0.5)(x)\n",
        "    x = layers.Flatten()(x)\n",
        "    outputs = layers.Dense(classes, activation=\"softmax\")(x)\n",
        "    model = keras.Model(inputs, outputs)\n",
        "\n",
        "    lr_schedule = keras.optimizers.schedules.ExponentialDecay(\n",
        "      initial_learning_rate=0.00035, decay_steps=10000, decay_rate=0.9)\n",
        "    optimizer = keras.optimizers.Adam(learning_rate=lr_schedule)\n",
        "\n",
        "    model.compile(\n",
        "\n",
        "\n",
        "        optimizer=optimizer, loss=\"sparse_categorical_crossentropy\", metrics=[\"accuracy\"]\n",
        "    )\n",
        "\n",
        "\n",
        "    return model"
      ]
    },
    {
      "cell_type": "code",
      "execution_count": null,
      "metadata": {
        "id": "TFJIDJ-waI9N"
      },
      "outputs": [],
      "source": [
        "def run_experiment(X_train, y_train_arr, X_test, y_test_arr):\n",
        "    filepath = \"Assanali/tmp/video_classifier/\"\n",
        "    checkpoint = keras.callbacks.ModelCheckpoint(\n",
        "        filepath, save_weights_only=True, monitor='val_accuracy', save_best_only=True, verbose=1\n",
        "    )\n",
        "\n",
        "    model = get_compiled_model()\n",
        "    history = model.fit(\n",
        "        X_train,\n",
        "        y_train_arr,\n",
        "        batch_size=64,\n",
        "        #shuffle = True,\n",
        "        validation_data=(X_test,\n",
        "                        y_test_arr),\n",
        "        # validation_split=0.15,\n",
        "        epochs=150,\n",
        "        callbacks=[checkpoint],\n",
        "    )\n",
        "\n",
        "    acc = history.history['accuracy']\n",
        "    epochs = range(1, len(acc) + 1)\n",
        "    loss = history.history['loss']\n",
        "    val_loss = history.history['val_loss']\n",
        "    val_acc = history.history['val_accuracy']\n",
        "    plt.plot(epochs, acc, 'bo', label='Training accuracy')\n",
        "    plt.plot(epochs, val_acc, 'b', label='Validation accuracy')\n",
        "    plt.legend()\n",
        "    plt.show()\n",
        "\n",
        "    print('filepath after', os.listdir(filepath))\n",
        "    print('filepath after', model.load_weights(filepath))\n",
        "    model.load_weights(filepath)\n",
        "    # _, accuracy_train = model.evaluate(X_train, y_train_arr)\n",
        "    _, accuracy = model.evaluate(X_test, y_test_arr)\n",
        "    time_start = time.time()\n",
        "    predictions =  model.predict(X_test)\n",
        "    time_stop = time.time()\n",
        "\n",
        "\n",
        "\n",
        "\n",
        "\n",
        "\n",
        "    print(f\"Test accuracy: {round(accuracy * 100, 2)}%\")\n",
        "\n",
        "    print(\"TOTAL TIME:  {}\".format(time_stop - time_start))\n",
        "\n",
        "    return model, predictions"
      ]
    },
    {
      "cell_type": "code",
      "execution_count": null,
      "metadata": {
        "colab": {
          "base_uri": "https://localhost:8080/",
          "height": 1000
        },
        "id": "SjtoDAjlaI9N",
        "outputId": "9f0e638c-e449-470c-89dc-d0539b316636"
      },
      "outputs": [
        {
          "output_type": "stream",
          "name": "stdout",
          "text": [
            "Epoch 1/150\n",
            "5/6 [========================>.....] - ETA: 0s - loss: 7.0912 - accuracy: 0.2219\n",
            "Epoch 00001: val_accuracy improved from -inf to 0.34722, saving model to Assanali/tmp/video_classifier/\n",
            "6/6 [==============================] - 2s 127ms/step - loss: 7.2491 - accuracy: 0.2115 - val_loss: 1.9591 - val_accuracy: 0.3472\n",
            "Epoch 2/150\n",
            "4/6 [===================>..........] - ETA: 0s - loss: 6.1975 - accuracy: 0.2305\n",
            "Epoch 00002: val_accuracy improved from 0.34722 to 0.53241, saving model to Assanali/tmp/video_classifier/\n",
            "6/6 [==============================] - 0s 61ms/step - loss: 5.9962 - accuracy: 0.2559 - val_loss: 1.2864 - val_accuracy: 0.5324\n",
            "Epoch 3/150\n",
            "4/6 [===================>..........] - ETA: 0s - loss: 4.7590 - accuracy: 0.3789\n",
            "Epoch 00003: val_accuracy improved from 0.53241 to 0.69907, saving model to Assanali/tmp/video_classifier/\n",
            "6/6 [==============================] - 0s 58ms/step - loss: 4.6032 - accuracy: 0.3864 - val_loss: 0.8805 - val_accuracy: 0.6991\n",
            "Epoch 4/150\n",
            "6/6 [==============================] - ETA: 0s - loss: 4.1519 - accuracy: 0.4204\n",
            "Epoch 00004: val_accuracy improved from 0.69907 to 0.82407, saving model to Assanali/tmp/video_classifier/\n",
            "6/6 [==============================] - 0s 67ms/step - loss: 4.1519 - accuracy: 0.4204 - val_loss: 0.6490 - val_accuracy: 0.8241\n",
            "Epoch 5/150\n",
            "6/6 [==============================] - ETA: 0s - loss: 3.4827 - accuracy: 0.4909\n",
            "Epoch 00005: val_accuracy improved from 0.82407 to 0.84259, saving model to Assanali/tmp/video_classifier/\n",
            "6/6 [==============================] - 0s 58ms/step - loss: 3.4827 - accuracy: 0.4909 - val_loss: 0.5409 - val_accuracy: 0.8426\n",
            "Epoch 6/150\n",
            "4/6 [===================>..........] - ETA: 0s - loss: 2.6095 - accuracy: 0.6094\n",
            "Epoch 00006: val_accuracy improved from 0.84259 to 0.85185, saving model to Assanali/tmp/video_classifier/\n",
            "6/6 [==============================] - 0s 63ms/step - loss: 2.5226 - accuracy: 0.6084 - val_loss: 0.4963 - val_accuracy: 0.8519\n",
            "Epoch 7/150\n",
            "4/6 [===================>..........] - ETA: 0s - loss: 1.9826 - accuracy: 0.6406\n",
            "Epoch 00007: val_accuracy improved from 0.85185 to 0.87500, saving model to Assanali/tmp/video_classifier/\n",
            "6/6 [==============================] - 0s 58ms/step - loss: 2.0508 - accuracy: 0.6162 - val_loss: 0.4749 - val_accuracy: 0.8750\n",
            "Epoch 8/150\n",
            "4/6 [===================>..........] - ETA: 0s - loss: 2.0058 - accuracy: 0.6250\n",
            "Epoch 00008: val_accuracy improved from 0.87500 to 0.87963, saving model to Assanali/tmp/video_classifier/\n",
            "6/6 [==============================] - 0s 61ms/step - loss: 1.8154 - accuracy: 0.6423 - val_loss: 0.4545 - val_accuracy: 0.8796\n",
            "Epoch 9/150\n",
            "4/6 [===================>..........] - ETA: 0s - loss: 1.7037 - accuracy: 0.7227\n",
            "Epoch 00009: val_accuracy improved from 0.87963 to 0.88426, saving model to Assanali/tmp/video_classifier/\n",
            "6/6 [==============================] - 0s 52ms/step - loss: 1.5856 - accuracy: 0.7128 - val_loss: 0.4455 - val_accuracy: 0.8843\n",
            "Epoch 10/150\n",
            "4/6 [===================>..........] - ETA: 0s - loss: 1.1782 - accuracy: 0.7305\n",
            "Epoch 00010: val_accuracy improved from 0.88426 to 0.89352, saving model to Assanali/tmp/video_classifier/\n",
            "6/6 [==============================] - 0s 65ms/step - loss: 1.2569 - accuracy: 0.7441 - val_loss: 0.4462 - val_accuracy: 0.8935\n",
            "Epoch 11/150\n",
            "4/6 [===================>..........] - ETA: 0s - loss: 1.2009 - accuracy: 0.7734\n",
            "Epoch 00011: val_accuracy did not improve from 0.89352\n",
            "6/6 [==============================] - 0s 40ms/step - loss: 1.2464 - accuracy: 0.7676 - val_loss: 0.4563 - val_accuracy: 0.8750\n",
            "Epoch 12/150\n",
            "4/6 [===================>..........] - ETA: 0s - loss: 1.3321 - accuracy: 0.7344\n",
            "Epoch 00012: val_accuracy did not improve from 0.89352\n",
            "6/6 [==============================] - 0s 40ms/step - loss: 1.2211 - accuracy: 0.7676 - val_loss: 0.4762 - val_accuracy: 0.8704\n",
            "Epoch 13/150\n",
            "5/6 [========================>.....] - ETA: 0s - loss: 1.0605 - accuracy: 0.8000\n",
            "Epoch 00013: val_accuracy did not improve from 0.89352\n",
            "6/6 [==============================] - 0s 43ms/step - loss: 1.0017 - accuracy: 0.8016 - val_loss: 0.4829 - val_accuracy: 0.8611\n",
            "Epoch 14/150\n",
            "4/6 [===================>..........] - ETA: 0s - loss: 0.8393 - accuracy: 0.8320\n",
            "Epoch 00014: val_accuracy did not improve from 0.89352\n",
            "6/6 [==============================] - 0s 40ms/step - loss: 0.9561 - accuracy: 0.8094 - val_loss: 0.4951 - val_accuracy: 0.8657\n",
            "Epoch 15/150\n",
            "6/6 [==============================] - ETA: 0s - loss: 1.0470 - accuracy: 0.8225\n",
            "Epoch 00015: val_accuracy did not improve from 0.89352\n",
            "6/6 [==============================] - 0s 40ms/step - loss: 1.0470 - accuracy: 0.8225 - val_loss: 0.5176 - val_accuracy: 0.8611\n",
            "Epoch 16/150\n",
            "4/6 [===================>..........] - ETA: 0s - loss: 1.1996 - accuracy: 0.7695\n",
            "Epoch 00016: val_accuracy did not improve from 0.89352\n",
            "6/6 [==============================] - 0s 46ms/step - loss: 1.0853 - accuracy: 0.7937 - val_loss: 0.5322 - val_accuracy: 0.8472\n",
            "Epoch 17/150\n",
            "4/6 [===================>..........] - ETA: 0s - loss: 0.7776 - accuracy: 0.8203\n",
            "Epoch 00017: val_accuracy did not improve from 0.89352\n",
            "6/6 [==============================] - 0s 41ms/step - loss: 0.7989 - accuracy: 0.8225 - val_loss: 0.5275 - val_accuracy: 0.8472\n",
            "Epoch 18/150\n",
            "4/6 [===================>..........] - ETA: 0s - loss: 0.8494 - accuracy: 0.8242\n",
            "Epoch 00018: val_accuracy did not improve from 0.89352\n",
            "6/6 [==============================] - 0s 41ms/step - loss: 0.8335 - accuracy: 0.8146 - val_loss: 0.5262 - val_accuracy: 0.8611\n",
            "Epoch 19/150\n",
            "4/6 [===================>..........] - ETA: 0s - loss: 0.8852 - accuracy: 0.8125\n",
            "Epoch 00019: val_accuracy did not improve from 0.89352\n",
            "6/6 [==============================] - 0s 37ms/step - loss: 0.9199 - accuracy: 0.8016 - val_loss: 0.5210 - val_accuracy: 0.8611\n",
            "Epoch 20/150\n",
            "4/6 [===================>..........] - ETA: 0s - loss: 0.6390 - accuracy: 0.8789\n",
            "Epoch 00020: val_accuracy did not improve from 0.89352\n",
            "6/6 [==============================] - 0s 41ms/step - loss: 0.6707 - accuracy: 0.8642 - val_loss: 0.5093 - val_accuracy: 0.8704\n",
            "Epoch 21/150\n",
            "4/6 [===================>..........] - ETA: 0s - loss: 0.5708 - accuracy: 0.8516\n",
            "Epoch 00021: val_accuracy did not improve from 0.89352\n",
            "6/6 [==============================] - 0s 37ms/step - loss: 0.6897 - accuracy: 0.8407 - val_loss: 0.4998 - val_accuracy: 0.8704\n",
            "Epoch 22/150\n",
            "4/6 [===================>..........] - ETA: 0s - loss: 0.4837 - accuracy: 0.8789\n",
            "Epoch 00022: val_accuracy did not improve from 0.89352\n",
            "6/6 [==============================] - 0s 41ms/step - loss: 0.6187 - accuracy: 0.8590 - val_loss: 0.4931 - val_accuracy: 0.8704\n",
            "Epoch 23/150\n",
            "4/6 [===================>..........] - ETA: 0s - loss: 0.5300 - accuracy: 0.9023\n",
            "Epoch 00023: val_accuracy did not improve from 0.89352\n",
            "6/6 [==============================] - 0s 35ms/step - loss: 0.4831 - accuracy: 0.9086 - val_loss: 0.4967 - val_accuracy: 0.8704\n",
            "Epoch 24/150\n",
            "4/6 [===================>..........] - ETA: 0s - loss: 0.5296 - accuracy: 0.8789\n",
            "Epoch 00024: val_accuracy did not improve from 0.89352\n",
            "6/6 [==============================] - 0s 44ms/step - loss: 0.6002 - accuracy: 0.8747 - val_loss: 0.5065 - val_accuracy: 0.8611\n",
            "Epoch 25/150\n",
            "4/6 [===================>..........] - ETA: 0s - loss: 0.5693 - accuracy: 0.8984\n",
            "Epoch 00025: val_accuracy did not improve from 0.89352\n",
            "6/6 [==============================] - 0s 41ms/step - loss: 0.5034 - accuracy: 0.8930 - val_loss: 0.5156 - val_accuracy: 0.8611\n",
            "Epoch 26/150\n",
            "4/6 [===================>..........] - ETA: 0s - loss: 0.5101 - accuracy: 0.8789\n",
            "Epoch 00026: val_accuracy did not improve from 0.89352\n",
            "6/6 [==============================] - 0s 41ms/step - loss: 0.7284 - accuracy: 0.8590 - val_loss: 0.5234 - val_accuracy: 0.8704\n",
            "Epoch 27/150\n",
            "4/6 [===================>..........] - ETA: 0s - loss: 0.6093 - accuracy: 0.8711\n",
            "Epoch 00027: val_accuracy did not improve from 0.89352\n",
            "6/6 [==============================] - 0s 44ms/step - loss: 0.5488 - accuracy: 0.8773 - val_loss: 0.5259 - val_accuracy: 0.8704\n",
            "Epoch 28/150\n",
            "4/6 [===================>..........] - ETA: 0s - loss: 0.5733 - accuracy: 0.8555\n",
            "Epoch 00028: val_accuracy did not improve from 0.89352\n",
            "6/6 [==============================] - 0s 39ms/step - loss: 0.4887 - accuracy: 0.8799 - val_loss: 0.5312 - val_accuracy: 0.8704\n",
            "Epoch 29/150\n",
            "4/6 [===================>..........] - ETA: 0s - loss: 0.6195 - accuracy: 0.8750\n",
            "Epoch 00029: val_accuracy did not improve from 0.89352\n",
            "6/6 [==============================] - 0s 43ms/step - loss: 0.5845 - accuracy: 0.8799 - val_loss: 0.5243 - val_accuracy: 0.8704\n",
            "Epoch 30/150\n",
            "4/6 [===================>..........] - ETA: 0s - loss: 0.4924 - accuracy: 0.9141\n",
            "Epoch 00030: val_accuracy did not improve from 0.89352\n",
            "6/6 [==============================] - 0s 38ms/step - loss: 0.5001 - accuracy: 0.9060 - val_loss: 0.5122 - val_accuracy: 0.8750\n",
            "Epoch 31/150\n",
            "4/6 [===================>..........] - ETA: 0s - loss: 0.5457 - accuracy: 0.8984\n",
            "Epoch 00031: val_accuracy did not improve from 0.89352\n",
            "6/6 [==============================] - 0s 32ms/step - loss: 0.5937 - accuracy: 0.8903 - val_loss: 0.5211 - val_accuracy: 0.8657\n",
            "Epoch 32/150\n",
            "4/6 [===================>..........] - ETA: 0s - loss: 0.5629 - accuracy: 0.8750\n",
            "Epoch 00032: val_accuracy did not improve from 0.89352\n",
            "6/6 [==============================] - 0s 34ms/step - loss: 0.5887 - accuracy: 0.8721 - val_loss: 0.5268 - val_accuracy: 0.8657\n",
            "Epoch 33/150\n",
            "4/6 [===================>..........] - ETA: 0s - loss: 0.5403 - accuracy: 0.8672\n",
            "Epoch 00033: val_accuracy did not improve from 0.89352\n",
            "6/6 [==============================] - 0s 33ms/step - loss: 0.5470 - accuracy: 0.8799 - val_loss: 0.5308 - val_accuracy: 0.8750\n",
            "Epoch 34/150\n",
            "4/6 [===================>..........] - ETA: 0s - loss: 0.3892 - accuracy: 0.8984\n",
            "Epoch 00034: val_accuracy did not improve from 0.89352\n",
            "6/6 [==============================] - 0s 37ms/step - loss: 0.5156 - accuracy: 0.8877 - val_loss: 0.5320 - val_accuracy: 0.8796\n",
            "Epoch 35/150\n",
            "4/6 [===================>..........] - ETA: 0s - loss: 0.4670 - accuracy: 0.9023\n",
            "Epoch 00035: val_accuracy did not improve from 0.89352\n",
            "6/6 [==============================] - 0s 32ms/step - loss: 0.4983 - accuracy: 0.8982 - val_loss: 0.5263 - val_accuracy: 0.8704\n",
            "Epoch 36/150\n",
            "4/6 [===================>..........] - ETA: 0s - loss: 0.4048 - accuracy: 0.9180\n",
            "Epoch 00036: val_accuracy did not improve from 0.89352\n",
            "6/6 [==============================] - 0s 37ms/step - loss: 0.3822 - accuracy: 0.9164 - val_loss: 0.4970 - val_accuracy: 0.8796\n",
            "Epoch 37/150\n",
            "4/6 [===================>..........] - ETA: 0s - loss: 0.4666 - accuracy: 0.8867\n",
            "Epoch 00037: val_accuracy did not improve from 0.89352\n",
            "6/6 [==============================] - 0s 37ms/step - loss: 0.4352 - accuracy: 0.8877 - val_loss: 0.4819 - val_accuracy: 0.8796\n",
            "Epoch 38/150\n",
            "4/6 [===================>..........] - ETA: 0s - loss: 0.4200 - accuracy: 0.8906\n",
            "Epoch 00038: val_accuracy did not improve from 0.89352\n",
            "6/6 [==============================] - 0s 39ms/step - loss: 0.3861 - accuracy: 0.8982 - val_loss: 0.4720 - val_accuracy: 0.8796\n",
            "Epoch 39/150\n",
            "4/6 [===================>..........] - ETA: 0s - loss: 0.4772 - accuracy: 0.8906\n",
            "Epoch 00039: val_accuracy did not improve from 0.89352\n",
            "6/6 [==============================] - 0s 33ms/step - loss: 0.4653 - accuracy: 0.8956 - val_loss: 0.4842 - val_accuracy: 0.8704\n",
            "Epoch 40/150\n",
            "4/6 [===================>..........] - ETA: 0s - loss: 0.4921 - accuracy: 0.8711\n",
            "Epoch 00040: val_accuracy did not improve from 0.89352\n",
            "6/6 [==============================] - 0s 33ms/step - loss: 0.4986 - accuracy: 0.8799 - val_loss: 0.4925 - val_accuracy: 0.8750\n",
            "Epoch 41/150\n",
            "4/6 [===================>..........] - ETA: 0s - loss: 0.4680 - accuracy: 0.8945\n",
            "Epoch 00041: val_accuracy did not improve from 0.89352\n",
            "6/6 [==============================] - 0s 40ms/step - loss: 0.4173 - accuracy: 0.9060 - val_loss: 0.4893 - val_accuracy: 0.8796\n",
            "Epoch 42/150\n",
            "4/6 [===================>..........] - ETA: 0s - loss: 0.4791 - accuracy: 0.9023\n",
            "Epoch 00042: val_accuracy did not improve from 0.89352\n",
            "6/6 [==============================] - 0s 40ms/step - loss: 0.4602 - accuracy: 0.9086 - val_loss: 0.4858 - val_accuracy: 0.8796\n",
            "Epoch 43/150\n",
            "4/6 [===================>..........] - ETA: 0s - loss: 0.4249 - accuracy: 0.8984\n",
            "Epoch 00043: val_accuracy did not improve from 0.89352\n",
            "6/6 [==============================] - 0s 33ms/step - loss: 0.3534 - accuracy: 0.9112 - val_loss: 0.4915 - val_accuracy: 0.8796\n",
            "Epoch 44/150\n",
            "6/6 [==============================] - ETA: 0s - loss: 0.4050 - accuracy: 0.9086\n",
            "Epoch 00044: val_accuracy did not improve from 0.89352\n",
            "6/6 [==============================] - 0s 36ms/step - loss: 0.4050 - accuracy: 0.9086 - val_loss: 0.4972 - val_accuracy: 0.8843\n",
            "Epoch 45/150\n",
            "4/6 [===================>..........] - ETA: 0s - loss: 0.3461 - accuracy: 0.9102\n",
            "Epoch 00045: val_accuracy did not improve from 0.89352\n",
            "6/6 [==============================] - 0s 37ms/step - loss: 0.3771 - accuracy: 0.9034 - val_loss: 0.4900 - val_accuracy: 0.8796\n",
            "Epoch 46/150\n",
            "5/6 [========================>.....] - ETA: 0s - loss: 0.4202 - accuracy: 0.9000\n",
            "Epoch 00046: val_accuracy did not improve from 0.89352\n",
            "6/6 [==============================] - 0s 24ms/step - loss: 0.3907 - accuracy: 0.9060 - val_loss: 0.4832 - val_accuracy: 0.8843\n",
            "Epoch 47/150\n",
            "5/6 [========================>.....] - ETA: 0s - loss: 0.5226 - accuracy: 0.8906\n",
            "Epoch 00047: val_accuracy did not improve from 0.89352\n",
            "6/6 [==============================] - 0s 32ms/step - loss: 0.5025 - accuracy: 0.8930 - val_loss: 0.4856 - val_accuracy: 0.8843\n",
            "Epoch 48/150\n",
            "4/6 [===================>..........] - ETA: 0s - loss: 0.3080 - accuracy: 0.9219\n",
            "Epoch 00048: val_accuracy did not improve from 0.89352\n",
            "6/6 [==============================] - 0s 26ms/step - loss: 0.2826 - accuracy: 0.9217 - val_loss: 0.4857 - val_accuracy: 0.8843\n",
            "Epoch 49/150\n",
            "5/6 [========================>.....] - ETA: 0s - loss: 0.3634 - accuracy: 0.9062\n",
            "Epoch 00049: val_accuracy did not improve from 0.89352\n",
            "6/6 [==============================] - 0s 25ms/step - loss: 0.4336 - accuracy: 0.8982 - val_loss: 0.4849 - val_accuracy: 0.8843\n",
            "Epoch 50/150\n",
            "5/6 [========================>.....] - ETA: 0s - loss: 0.4467 - accuracy: 0.8938\n",
            "Epoch 00050: val_accuracy did not improve from 0.89352\n",
            "6/6 [==============================] - 0s 25ms/step - loss: 0.4058 - accuracy: 0.9034 - val_loss: 0.4975 - val_accuracy: 0.8843\n",
            "Epoch 51/150\n",
            "5/6 [========================>.....] - ETA: 0s - loss: 0.3168 - accuracy: 0.9187\n",
            "Epoch 00051: val_accuracy did not improve from 0.89352\n",
            "6/6 [==============================] - 0s 24ms/step - loss: 0.3707 - accuracy: 0.9138 - val_loss: 0.5093 - val_accuracy: 0.8843\n",
            "Epoch 52/150\n",
            "5/6 [========================>.....] - ETA: 0s - loss: 0.4141 - accuracy: 0.9031\n",
            "Epoch 00052: val_accuracy did not improve from 0.89352\n",
            "6/6 [==============================] - 0s 33ms/step - loss: 0.4349 - accuracy: 0.9034 - val_loss: 0.5173 - val_accuracy: 0.8843\n",
            "Epoch 53/150\n",
            "4/6 [===================>..........] - ETA: 0s - loss: 0.3552 - accuracy: 0.9375\n",
            "Epoch 00053: val_accuracy did not improve from 0.89352\n",
            "6/6 [==============================] - 0s 34ms/step - loss: 0.3438 - accuracy: 0.9373 - val_loss: 0.5183 - val_accuracy: 0.8843\n",
            "Epoch 54/150\n",
            "5/6 [========================>.....] - ETA: 0s - loss: 0.2894 - accuracy: 0.9344\n",
            "Epoch 00054: val_accuracy did not improve from 0.89352\n",
            "6/6 [==============================] - 0s 27ms/step - loss: 0.3159 - accuracy: 0.9269 - val_loss: 0.5160 - val_accuracy: 0.8889\n",
            "Epoch 55/150\n",
            "4/6 [===================>..........] - ETA: 0s - loss: 0.3317 - accuracy: 0.9141\n",
            "Epoch 00055: val_accuracy did not improve from 0.89352\n",
            "6/6 [==============================] - 0s 28ms/step - loss: 0.3468 - accuracy: 0.9164 - val_loss: 0.5045 - val_accuracy: 0.8843\n",
            "Epoch 56/150\n",
            "5/6 [========================>.....] - ETA: 0s - loss: 0.3476 - accuracy: 0.9250\n",
            "Epoch 00056: val_accuracy did not improve from 0.89352\n",
            "6/6 [==============================] - 0s 27ms/step - loss: 0.3240 - accuracy: 0.9321 - val_loss: 0.4961 - val_accuracy: 0.8889\n",
            "Epoch 57/150\n",
            "4/6 [===================>..........] - ETA: 0s - loss: 0.2130 - accuracy: 0.9297\n",
            "Epoch 00057: val_accuracy did not improve from 0.89352\n",
            "6/6 [==============================] - 0s 28ms/step - loss: 0.2687 - accuracy: 0.9243 - val_loss: 0.5031 - val_accuracy: 0.8843\n",
            "Epoch 58/150\n",
            "5/6 [========================>.....] - ETA: 0s - loss: 0.3557 - accuracy: 0.9062\n",
            "Epoch 00058: val_accuracy did not improve from 0.89352\n",
            "6/6 [==============================] - 0s 34ms/step - loss: 0.3182 - accuracy: 0.9164 - val_loss: 0.5110 - val_accuracy: 0.8843\n",
            "Epoch 59/150\n",
            "4/6 [===================>..........] - ETA: 0s - loss: 0.3038 - accuracy: 0.9336\n",
            "Epoch 00059: val_accuracy did not improve from 0.89352\n",
            "6/6 [==============================] - 0s 27ms/step - loss: 0.3416 - accuracy: 0.9269 - val_loss: 0.5220 - val_accuracy: 0.8796\n",
            "Epoch 60/150\n",
            "4/6 [===================>..........] - ETA: 0s - loss: 0.3051 - accuracy: 0.9102\n",
            "Epoch 00060: val_accuracy did not improve from 0.89352\n",
            "6/6 [==============================] - 0s 30ms/step - loss: 0.2905 - accuracy: 0.9191 - val_loss: 0.5285 - val_accuracy: 0.8796\n",
            "Epoch 61/150\n",
            "5/6 [========================>.....] - ETA: 0s - loss: 0.3361 - accuracy: 0.9062\n",
            "Epoch 00061: val_accuracy did not improve from 0.89352\n",
            "6/6 [==============================] - 0s 28ms/step - loss: 0.3072 - accuracy: 0.9112 - val_loss: 0.5147 - val_accuracy: 0.8843\n",
            "Epoch 62/150\n",
            "5/6 [========================>.....] - ETA: 0s - loss: 0.3302 - accuracy: 0.9156\n",
            "Epoch 00062: val_accuracy did not improve from 0.89352\n",
            "6/6 [==============================] - 0s 34ms/step - loss: 0.3291 - accuracy: 0.9138 - val_loss: 0.4852 - val_accuracy: 0.8843\n",
            "Epoch 63/150\n",
            "5/6 [========================>.....] - ETA: 0s - loss: 0.2799 - accuracy: 0.9344\n",
            "Epoch 00063: val_accuracy did not improve from 0.89352\n",
            "6/6 [==============================] - 0s 25ms/step - loss: 0.2999 - accuracy: 0.9295 - val_loss: 0.4726 - val_accuracy: 0.8796\n",
            "Epoch 64/150\n",
            "5/6 [========================>.....] - ETA: 0s - loss: 0.2781 - accuracy: 0.9187\n",
            "Epoch 00064: val_accuracy did not improve from 0.89352\n",
            "6/6 [==============================] - 0s 25ms/step - loss: 0.2880 - accuracy: 0.9164 - val_loss: 0.4637 - val_accuracy: 0.8843\n",
            "Epoch 65/150\n",
            "5/6 [========================>.....] - ETA: 0s - loss: 0.3030 - accuracy: 0.9281\n",
            "Epoch 00065: val_accuracy did not improve from 0.89352\n",
            "6/6 [==============================] - 0s 33ms/step - loss: 0.3021 - accuracy: 0.9243 - val_loss: 0.4643 - val_accuracy: 0.8796\n",
            "Epoch 66/150\n",
            "5/6 [========================>.....] - ETA: 0s - loss: 0.2776 - accuracy: 0.9250\n",
            "Epoch 00066: val_accuracy did not improve from 0.89352\n",
            "6/6 [==============================] - 0s 26ms/step - loss: 0.2745 - accuracy: 0.9295 - val_loss: 0.4730 - val_accuracy: 0.8935\n",
            "Epoch 67/150\n",
            "5/6 [========================>.....] - ETA: 0s - loss: 0.2310 - accuracy: 0.9250\n",
            "Epoch 00067: val_accuracy did not improve from 0.89352\n",
            "6/6 [==============================] - 0s 33ms/step - loss: 0.2242 - accuracy: 0.9321 - val_loss: 0.4983 - val_accuracy: 0.8889\n",
            "Epoch 68/150\n",
            "5/6 [========================>.....] - ETA: 0s - loss: 0.2838 - accuracy: 0.9219\n",
            "Epoch 00068: val_accuracy did not improve from 0.89352\n",
            "6/6 [==============================] - 0s 25ms/step - loss: 0.2909 - accuracy: 0.9217 - val_loss: 0.5193 - val_accuracy: 0.8843\n",
            "Epoch 69/150\n",
            "4/6 [===================>..........] - ETA: 0s - loss: 0.2411 - accuracy: 0.9375\n",
            "Epoch 00069: val_accuracy did not improve from 0.89352\n",
            "6/6 [==============================] - 0s 33ms/step - loss: 0.2114 - accuracy: 0.9373 - val_loss: 0.5210 - val_accuracy: 0.8843\n",
            "Epoch 70/150\n",
            "5/6 [========================>.....] - ETA: 0s - loss: 0.1992 - accuracy: 0.9500\n",
            "Epoch 00070: val_accuracy did not improve from 0.89352\n",
            "6/6 [==============================] - 0s 33ms/step - loss: 0.1791 - accuracy: 0.9530 - val_loss: 0.5167 - val_accuracy: 0.8889\n",
            "Epoch 71/150\n",
            "5/6 [========================>.....] - ETA: 0s - loss: 0.2380 - accuracy: 0.9438\n",
            "Epoch 00071: val_accuracy did not improve from 0.89352\n",
            "6/6 [==============================] - 0s 33ms/step - loss: 0.2409 - accuracy: 0.9373 - val_loss: 0.5122 - val_accuracy: 0.8889\n",
            "Epoch 72/150\n",
            "4/6 [===================>..........] - ETA: 0s - loss: 0.2650 - accuracy: 0.9258\n",
            "Epoch 00072: val_accuracy did not improve from 0.89352\n",
            "6/6 [==============================] - 0s 31ms/step - loss: 0.2146 - accuracy: 0.9373 - val_loss: 0.4992 - val_accuracy: 0.8889\n",
            "Epoch 73/150\n",
            "4/6 [===================>..........] - ETA: 0s - loss: 0.2269 - accuracy: 0.9297\n",
            "Epoch 00073: val_accuracy did not improve from 0.89352\n",
            "6/6 [==============================] - 0s 26ms/step - loss: 0.2413 - accuracy: 0.9269 - val_loss: 0.4959 - val_accuracy: 0.8889\n",
            "Epoch 74/150\n",
            "4/6 [===================>..........] - ETA: 0s - loss: 0.1684 - accuracy: 0.9531\n",
            "Epoch 00074: val_accuracy did not improve from 0.89352\n",
            "6/6 [==============================] - 0s 33ms/step - loss: 0.2267 - accuracy: 0.9426 - val_loss: 0.4910 - val_accuracy: 0.8889\n",
            "Epoch 75/150\n",
            "4/6 [===================>..........] - ETA: 0s - loss: 0.1799 - accuracy: 0.9336\n",
            "Epoch 00075: val_accuracy did not improve from 0.89352\n",
            "6/6 [==============================] - 0s 26ms/step - loss: 0.2159 - accuracy: 0.9295 - val_loss: 0.4829 - val_accuracy: 0.8889\n",
            "Epoch 76/150\n",
            "4/6 [===================>..........] - ETA: 0s - loss: 0.1681 - accuracy: 0.9570\n",
            "Epoch 00076: val_accuracy did not improve from 0.89352\n",
            "6/6 [==============================] - 0s 26ms/step - loss: 0.1840 - accuracy: 0.9608 - val_loss: 0.4812 - val_accuracy: 0.8889\n",
            "Epoch 77/150\n",
            "4/6 [===================>..........] - ETA: 0s - loss: 0.2591 - accuracy: 0.9219\n",
            "Epoch 00077: val_accuracy did not improve from 0.89352\n",
            "6/6 [==============================] - 0s 34ms/step - loss: 0.2231 - accuracy: 0.9321 - val_loss: 0.4676 - val_accuracy: 0.8889\n",
            "Epoch 78/150\n",
            "5/6 [========================>.....] - ETA: 0s - loss: 0.1563 - accuracy: 0.9531\n",
            "Epoch 00078: val_accuracy improved from 0.89352 to 0.89815, saving model to Assanali/tmp/video_classifier/\n",
            "6/6 [==============================] - 0s 50ms/step - loss: 0.1776 - accuracy: 0.9452 - val_loss: 0.4564 - val_accuracy: 0.8981\n",
            "Epoch 79/150\n",
            "4/6 [===================>..........] - ETA: 0s - loss: 0.2647 - accuracy: 0.9336\n",
            "Epoch 00079: val_accuracy did not improve from 0.89815\n",
            "6/6 [==============================] - 0s 26ms/step - loss: 0.2807 - accuracy: 0.9243 - val_loss: 0.4575 - val_accuracy: 0.8981\n",
            "Epoch 80/150\n",
            "4/6 [===================>..........] - ETA: 0s - loss: 0.1571 - accuracy: 0.9609\n",
            "Epoch 00080: val_accuracy did not improve from 0.89815\n",
            "6/6 [==============================] - 0s 27ms/step - loss: 0.1798 - accuracy: 0.9504 - val_loss: 0.4596 - val_accuracy: 0.8981\n",
            "Epoch 81/150\n",
            "5/6 [========================>.....] - ETA: 0s - loss: 0.2385 - accuracy: 0.9250\n",
            "Epoch 00081: val_accuracy did not improve from 0.89815\n",
            "6/6 [==============================] - 0s 24ms/step - loss: 0.2179 - accuracy: 0.9321 - val_loss: 0.4581 - val_accuracy: 0.8935\n",
            "Epoch 82/150\n",
            "5/6 [========================>.....] - ETA: 0s - loss: 0.2124 - accuracy: 0.9469\n",
            "Epoch 00082: val_accuracy did not improve from 0.89815\n",
            "6/6 [==============================] - 0s 25ms/step - loss: 0.2043 - accuracy: 0.9426 - val_loss: 0.4830 - val_accuracy: 0.8889\n",
            "Epoch 83/150\n",
            "5/6 [========================>.....] - ETA: 0s - loss: 0.1727 - accuracy: 0.9469\n",
            "Epoch 00083: val_accuracy did not improve from 0.89815\n",
            "6/6 [==============================] - 0s 26ms/step - loss: 0.1764 - accuracy: 0.9478 - val_loss: 0.4986 - val_accuracy: 0.8889\n",
            "Epoch 84/150\n",
            "5/6 [========================>.....] - ETA: 0s - loss: 0.2081 - accuracy: 0.9438\n",
            "Epoch 00084: val_accuracy did not improve from 0.89815\n",
            "6/6 [==============================] - 0s 27ms/step - loss: 0.2019 - accuracy: 0.9478 - val_loss: 0.5050 - val_accuracy: 0.8889\n",
            "Epoch 85/150\n",
            "4/6 [===================>..........] - ETA: 0s - loss: 0.1875 - accuracy: 0.9492\n",
            "Epoch 00085: val_accuracy did not improve from 0.89815\n",
            "6/6 [==============================] - 0s 28ms/step - loss: 0.1793 - accuracy: 0.9530 - val_loss: 0.4989 - val_accuracy: 0.8889\n",
            "Epoch 86/150\n",
            "4/6 [===================>..........] - ETA: 0s - loss: 0.1415 - accuracy: 0.9648\n",
            "Epoch 00086: val_accuracy did not improve from 0.89815\n",
            "6/6 [==============================] - 0s 27ms/step - loss: 0.1811 - accuracy: 0.9426 - val_loss: 0.4818 - val_accuracy: 0.8889\n",
            "Epoch 87/150\n",
            "4/6 [===================>..........] - ETA: 0s - loss: 0.1431 - accuracy: 0.9609\n",
            "Epoch 00087: val_accuracy did not improve from 0.89815\n",
            "6/6 [==============================] - 0s 33ms/step - loss: 0.1586 - accuracy: 0.9582 - val_loss: 0.4727 - val_accuracy: 0.8935\n",
            "Epoch 88/150\n",
            "4/6 [===================>..........] - ETA: 0s - loss: 0.1202 - accuracy: 0.9609\n",
            "Epoch 00088: val_accuracy did not improve from 0.89815\n",
            "6/6 [==============================] - 0s 33ms/step - loss: 0.1480 - accuracy: 0.9530 - val_loss: 0.4740 - val_accuracy: 0.8935\n",
            "Epoch 89/150\n",
            "4/6 [===================>..........] - ETA: 0s - loss: 0.2124 - accuracy: 0.9414\n",
            "Epoch 00089: val_accuracy did not improve from 0.89815\n",
            "6/6 [==============================] - 0s 37ms/step - loss: 0.2184 - accuracy: 0.9321 - val_loss: 0.4785 - val_accuracy: 0.8935\n",
            "Epoch 90/150\n",
            "4/6 [===================>..........] - ETA: 0s - loss: 0.1659 - accuracy: 0.9414\n",
            "Epoch 00090: val_accuracy did not improve from 0.89815\n",
            "6/6 [==============================] - 0s 40ms/step - loss: 0.1440 - accuracy: 0.9504 - val_loss: 0.4927 - val_accuracy: 0.8935\n",
            "Epoch 91/150\n",
            "4/6 [===================>..........] - ETA: 0s - loss: 0.1723 - accuracy: 0.9609\n",
            "Epoch 00091: val_accuracy did not improve from 0.89815\n",
            "6/6 [==============================] - 0s 34ms/step - loss: 0.1774 - accuracy: 0.9582 - val_loss: 0.5077 - val_accuracy: 0.8935\n",
            "Epoch 92/150\n",
            "4/6 [===================>..........] - ETA: 0s - loss: 0.1465 - accuracy: 0.9688\n",
            "Epoch 00092: val_accuracy did not improve from 0.89815\n",
            "6/6 [==============================] - 0s 39ms/step - loss: 0.1867 - accuracy: 0.9582 - val_loss: 0.4921 - val_accuracy: 0.8981\n",
            "Epoch 93/150\n",
            "4/6 [===================>..........] - ETA: 0s - loss: 0.1265 - accuracy: 0.9648\n",
            "Epoch 00093: val_accuracy did not improve from 0.89815\n",
            "6/6 [==============================] - 0s 31ms/step - loss: 0.1421 - accuracy: 0.9634 - val_loss: 0.4796 - val_accuracy: 0.8981\n",
            "Epoch 94/150\n",
            "4/6 [===================>..........] - ETA: 0s - loss: 0.1740 - accuracy: 0.9648\n",
            "Epoch 00094: val_accuracy did not improve from 0.89815\n",
            "6/6 [==============================] - 0s 34ms/step - loss: 0.1560 - accuracy: 0.9634 - val_loss: 0.4793 - val_accuracy: 0.8981\n",
            "Epoch 95/150\n",
            "4/6 [===================>..........] - ETA: 0s - loss: 0.1733 - accuracy: 0.9492\n",
            "Epoch 00095: val_accuracy improved from 0.89815 to 0.90278, saving model to Assanali/tmp/video_classifier/\n",
            "6/6 [==============================] - 0s 56ms/step - loss: 0.2157 - accuracy: 0.9452 - val_loss: 0.4851 - val_accuracy: 0.9028\n",
            "Epoch 96/150\n",
            "4/6 [===================>..........] - ETA: 0s - loss: 0.1305 - accuracy: 0.9688\n",
            "Epoch 00096: val_accuracy improved from 0.90278 to 0.90741, saving model to Assanali/tmp/video_classifier/\n",
            "6/6 [==============================] - 0s 50ms/step - loss: 0.1460 - accuracy: 0.9634 - val_loss: 0.4825 - val_accuracy: 0.9074\n",
            "Epoch 97/150\n",
            "4/6 [===================>..........] - ETA: 0s - loss: 0.1250 - accuracy: 0.9648\n",
            "Epoch 00097: val_accuracy did not improve from 0.90741\n",
            "6/6 [==============================] - 0s 35ms/step - loss: 0.1563 - accuracy: 0.9556 - val_loss: 0.4943 - val_accuracy: 0.9074\n",
            "Epoch 98/150\n",
            "4/6 [===================>..........] - ETA: 0s - loss: 0.1461 - accuracy: 0.9727\n",
            "Epoch 00098: val_accuracy did not improve from 0.90741\n",
            "6/6 [==============================] - 0s 39ms/step - loss: 0.1273 - accuracy: 0.9765 - val_loss: 0.4917 - val_accuracy: 0.9028\n",
            "Epoch 99/150\n",
            "4/6 [===================>..........] - ETA: 0s - loss: 0.0682 - accuracy: 0.9805\n",
            "Epoch 00099: val_accuracy did not improve from 0.90741\n",
            "6/6 [==============================] - 0s 35ms/step - loss: 0.0910 - accuracy: 0.9739 - val_loss: 0.4870 - val_accuracy: 0.9028\n",
            "Epoch 100/150\n",
            "4/6 [===================>..........] - ETA: 0s - loss: 0.0963 - accuracy: 0.9727\n",
            "Epoch 00100: val_accuracy did not improve from 0.90741\n",
            "6/6 [==============================] - 0s 35ms/step - loss: 0.0929 - accuracy: 0.9765 - val_loss: 0.4794 - val_accuracy: 0.9028\n",
            "Epoch 101/150\n",
            "4/6 [===================>..........] - ETA: 0s - loss: 0.1017 - accuracy: 0.9727\n",
            "Epoch 00101: val_accuracy did not improve from 0.90741\n",
            "6/6 [==============================] - 0s 38ms/step - loss: 0.1051 - accuracy: 0.9687 - val_loss: 0.4749 - val_accuracy: 0.9028\n",
            "Epoch 102/150\n",
            "4/6 [===================>..........] - ETA: 0s - loss: 0.1531 - accuracy: 0.9492\n",
            "Epoch 00102: val_accuracy did not improve from 0.90741\n",
            "6/6 [==============================] - 0s 33ms/step - loss: 0.1373 - accuracy: 0.9530 - val_loss: 0.4842 - val_accuracy: 0.8935\n",
            "Epoch 103/150\n",
            "4/6 [===================>..........] - ETA: 0s - loss: 0.1982 - accuracy: 0.9570\n",
            "Epoch 00103: val_accuracy did not improve from 0.90741\n",
            "6/6 [==============================] - 0s 33ms/step - loss: 0.1516 - accuracy: 0.9687 - val_loss: 0.4883 - val_accuracy: 0.8935\n",
            "Epoch 104/150\n",
            "4/6 [===================>..........] - ETA: 0s - loss: 0.1348 - accuracy: 0.9844\n",
            "Epoch 00104: val_accuracy did not improve from 0.90741\n",
            "6/6 [==============================] - 0s 35ms/step - loss: 0.1392 - accuracy: 0.9791 - val_loss: 0.4874 - val_accuracy: 0.8935\n",
            "Epoch 105/150\n",
            "4/6 [===================>..........] - ETA: 0s - loss: 0.1335 - accuracy: 0.9688\n",
            "Epoch 00105: val_accuracy did not improve from 0.90741\n",
            "6/6 [==============================] - 0s 35ms/step - loss: 0.1471 - accuracy: 0.9634 - val_loss: 0.4853 - val_accuracy: 0.8935\n",
            "Epoch 106/150\n",
            "4/6 [===================>..........] - ETA: 0s - loss: 0.0890 - accuracy: 0.9766\n",
            "Epoch 00106: val_accuracy did not improve from 0.90741\n",
            "6/6 [==============================] - 0s 33ms/step - loss: 0.1314 - accuracy: 0.9634 - val_loss: 0.4858 - val_accuracy: 0.8981\n",
            "Epoch 107/150\n",
            "4/6 [===================>..........] - ETA: 0s - loss: 0.1072 - accuracy: 0.9688\n",
            "Epoch 00107: val_accuracy did not improve from 0.90741\n",
            "6/6 [==============================] - 0s 39ms/step - loss: 0.1370 - accuracy: 0.9634 - val_loss: 0.4924 - val_accuracy: 0.8981\n",
            "Epoch 108/150\n",
            "4/6 [===================>..........] - ETA: 0s - loss: 0.1003 - accuracy: 0.9609\n",
            "Epoch 00108: val_accuracy did not improve from 0.90741\n",
            "6/6 [==============================] - 0s 32ms/step - loss: 0.0897 - accuracy: 0.9713 - val_loss: 0.4974 - val_accuracy: 0.9028\n",
            "Epoch 109/150\n",
            "4/6 [===================>..........] - ETA: 0s - loss: 0.0863 - accuracy: 0.9766\n",
            "Epoch 00109: val_accuracy did not improve from 0.90741\n",
            "6/6 [==============================] - 0s 32ms/step - loss: 0.1084 - accuracy: 0.9713 - val_loss: 0.4892 - val_accuracy: 0.9028\n",
            "Epoch 110/150\n",
            "4/6 [===================>..........] - ETA: 0s - loss: 0.1342 - accuracy: 0.9570\n",
            "Epoch 00110: val_accuracy did not improve from 0.90741\n",
            "6/6 [==============================] - 0s 38ms/step - loss: 0.1259 - accuracy: 0.9608 - val_loss: 0.4775 - val_accuracy: 0.9074\n",
            "Epoch 111/150\n",
            "4/6 [===================>..........] - ETA: 0s - loss: 0.0872 - accuracy: 0.9727\n",
            "Epoch 00111: val_accuracy did not improve from 0.90741\n",
            "6/6 [==============================] - 0s 31ms/step - loss: 0.0772 - accuracy: 0.9791 - val_loss: 0.4827 - val_accuracy: 0.9028\n",
            "Epoch 112/150\n",
            "4/6 [===================>..........] - ETA: 0s - loss: 0.1044 - accuracy: 0.9727\n",
            "Epoch 00112: val_accuracy did not improve from 0.90741\n",
            "6/6 [==============================] - 0s 32ms/step - loss: 0.0910 - accuracy: 0.9791 - val_loss: 0.4940 - val_accuracy: 0.9074\n",
            "Epoch 113/150\n",
            "6/6 [==============================] - ETA: 0s - loss: 0.1119 - accuracy: 0.9739\n",
            "Epoch 00113: val_accuracy did not improve from 0.90741\n",
            "6/6 [==============================] - 0s 38ms/step - loss: 0.1119 - accuracy: 0.9739 - val_loss: 0.5055 - val_accuracy: 0.9074\n",
            "Epoch 114/150\n",
            "4/6 [===================>..........] - ETA: 0s - loss: 0.0816 - accuracy: 0.9805\n",
            "Epoch 00114: val_accuracy did not improve from 0.90741\n",
            "6/6 [==============================] - 0s 36ms/step - loss: 0.0738 - accuracy: 0.9843 - val_loss: 0.5021 - val_accuracy: 0.9074\n",
            "Epoch 115/150\n",
            "4/6 [===================>..........] - ETA: 0s - loss: 0.0998 - accuracy: 0.9727\n",
            "Epoch 00115: val_accuracy did not improve from 0.90741\n",
            "6/6 [==============================] - 0s 38ms/step - loss: 0.1111 - accuracy: 0.9661 - val_loss: 0.4942 - val_accuracy: 0.8981\n",
            "Epoch 116/150\n",
            "4/6 [===================>..........] - ETA: 0s - loss: 0.1036 - accuracy: 0.9766\n",
            "Epoch 00116: val_accuracy did not improve from 0.90741\n",
            "6/6 [==============================] - 0s 36ms/step - loss: 0.0925 - accuracy: 0.9817 - val_loss: 0.5063 - val_accuracy: 0.9028\n",
            "Epoch 117/150\n",
            "4/6 [===================>..........] - ETA: 0s - loss: 0.1502 - accuracy: 0.9688\n",
            "Epoch 00117: val_accuracy did not improve from 0.90741\n",
            "6/6 [==============================] - 0s 26ms/step - loss: 0.1264 - accuracy: 0.9687 - val_loss: 0.4987 - val_accuracy: 0.8981\n",
            "Epoch 118/150\n",
            "4/6 [===================>..........] - ETA: 0s - loss: 0.0862 - accuracy: 0.9766\n",
            "Epoch 00118: val_accuracy did not improve from 0.90741\n",
            "6/6 [==============================] - 0s 34ms/step - loss: 0.1058 - accuracy: 0.9713 - val_loss: 0.4902 - val_accuracy: 0.8935\n",
            "Epoch 119/150\n",
            "4/6 [===================>..........] - ETA: 0s - loss: 0.0840 - accuracy: 0.9727\n",
            "Epoch 00119: val_accuracy did not improve from 0.90741\n",
            "6/6 [==============================] - 0s 27ms/step - loss: 0.0843 - accuracy: 0.9739 - val_loss: 0.4731 - val_accuracy: 0.9074\n",
            "Epoch 120/150\n",
            "4/6 [===================>..........] - ETA: 0s - loss: 0.1002 - accuracy: 0.9727\n",
            "Epoch 00120: val_accuracy did not improve from 0.90741\n",
            "6/6 [==============================] - 0s 27ms/step - loss: 0.1086 - accuracy: 0.9713 - val_loss: 0.4624 - val_accuracy: 0.9074\n",
            "Epoch 121/150\n",
            "4/6 [===================>..........] - ETA: 0s - loss: 0.0629 - accuracy: 0.9922\n",
            "Epoch 00121: val_accuracy did not improve from 0.90741\n",
            "6/6 [==============================] - 0s 25ms/step - loss: 0.0783 - accuracy: 0.9843 - val_loss: 0.4542 - val_accuracy: 0.9074\n",
            "Epoch 122/150\n",
            "5/6 [========================>.....] - ETA: 0s - loss: 0.0666 - accuracy: 0.9937\n",
            "Epoch 00122: val_accuracy improved from 0.90741 to 0.91204, saving model to Assanali/tmp/video_classifier/\n",
            "6/6 [==============================] - 0s 40ms/step - loss: 0.0716 - accuracy: 0.9896 - val_loss: 0.4516 - val_accuracy: 0.9120\n",
            "Epoch 123/150\n",
            "5/6 [========================>.....] - ETA: 0s - loss: 0.0948 - accuracy: 0.9781\n",
            "Epoch 00123: val_accuracy did not improve from 0.91204\n",
            "6/6 [==============================] - 0s 26ms/step - loss: 0.1026 - accuracy: 0.9791 - val_loss: 0.4545 - val_accuracy: 0.9074\n",
            "Epoch 124/150\n",
            "5/6 [========================>.....] - ETA: 0s - loss: 0.0564 - accuracy: 0.9844\n",
            "Epoch 00124: val_accuracy did not improve from 0.91204\n",
            "6/6 [==============================] - 0s 25ms/step - loss: 0.0589 - accuracy: 0.9843 - val_loss: 0.4664 - val_accuracy: 0.9028\n",
            "Epoch 125/150\n",
            "5/6 [========================>.....] - ETA: 0s - loss: 0.0586 - accuracy: 0.9906\n",
            "Epoch 00125: val_accuracy did not improve from 0.91204\n",
            "6/6 [==============================] - 0s 27ms/step - loss: 0.0590 - accuracy: 0.9896 - val_loss: 0.4822 - val_accuracy: 0.9028\n",
            "Epoch 126/150\n",
            "4/6 [===================>..........] - ETA: 0s - loss: 0.1168 - accuracy: 0.9688\n",
            "Epoch 00126: val_accuracy did not improve from 0.91204\n",
            "6/6 [==============================] - 0s 33ms/step - loss: 0.1208 - accuracy: 0.9661 - val_loss: 0.4871 - val_accuracy: 0.8981\n",
            "Epoch 127/150\n",
            "5/6 [========================>.....] - ETA: 0s - loss: 0.0582 - accuracy: 0.9906\n",
            "Epoch 00127: val_accuracy did not improve from 0.91204\n",
            "6/6 [==============================] - 0s 27ms/step - loss: 0.0543 - accuracy: 0.9922 - val_loss: 0.4689 - val_accuracy: 0.8981\n",
            "Epoch 128/150\n",
            "4/6 [===================>..........] - ETA: 0s - loss: 0.0671 - accuracy: 0.9844\n",
            "Epoch 00128: val_accuracy did not improve from 0.91204\n",
            "6/6 [==============================] - 0s 28ms/step - loss: 0.0580 - accuracy: 0.9896 - val_loss: 0.4592 - val_accuracy: 0.9120\n",
            "Epoch 129/150\n",
            "4/6 [===================>..........] - ETA: 0s - loss: 0.0607 - accuracy: 0.9844\n",
            "Epoch 00129: val_accuracy did not improve from 0.91204\n",
            "6/6 [==============================] - 0s 27ms/step - loss: 0.0701 - accuracy: 0.9791 - val_loss: 0.4521 - val_accuracy: 0.9120\n",
            "Epoch 130/150\n",
            "4/6 [===================>..........] - ETA: 0s - loss: 0.0423 - accuracy: 0.9922\n",
            "Epoch 00130: val_accuracy improved from 0.91204 to 0.91667, saving model to Assanali/tmp/video_classifier/\n",
            "6/6 [==============================] - 0s 42ms/step - loss: 0.0421 - accuracy: 0.9948 - val_loss: 0.4529 - val_accuracy: 0.9167\n",
            "Epoch 131/150\n",
            "4/6 [===================>..........] - ETA: 0s - loss: 0.1107 - accuracy: 0.9727\n",
            "Epoch 00131: val_accuracy did not improve from 0.91667\n",
            "6/6 [==============================] - 0s 27ms/step - loss: 0.0832 - accuracy: 0.9817 - val_loss: 0.4670 - val_accuracy: 0.9120\n",
            "Epoch 132/150\n",
            "4/6 [===================>..........] - ETA: 0s - loss: 0.0770 - accuracy: 0.9766\n",
            "Epoch 00132: val_accuracy did not improve from 0.91667\n",
            "6/6 [==============================] - 0s 26ms/step - loss: 0.0930 - accuracy: 0.9765 - val_loss: 0.4772 - val_accuracy: 0.9074\n",
            "Epoch 133/150\n",
            "4/6 [===================>..........] - ETA: 0s - loss: 0.0711 - accuracy: 0.9844\n",
            "Epoch 00133: val_accuracy did not improve from 0.91667\n",
            "6/6 [==============================] - 0s 27ms/step - loss: 0.0562 - accuracy: 0.9896 - val_loss: 0.4918 - val_accuracy: 0.9074\n",
            "Epoch 134/150\n",
            "4/6 [===================>..........] - ETA: 0s - loss: 0.0637 - accuracy: 0.9766\n",
            "Epoch 00134: val_accuracy did not improve from 0.91667\n",
            "6/6 [==============================] - 0s 35ms/step - loss: 0.0528 - accuracy: 0.9843 - val_loss: 0.5008 - val_accuracy: 0.9028\n",
            "Epoch 135/150\n",
            "4/6 [===================>..........] - ETA: 0s - loss: 0.0631 - accuracy: 0.9844\n",
            "Epoch 00135: val_accuracy did not improve from 0.91667\n",
            "6/6 [==============================] - 0s 34ms/step - loss: 0.0539 - accuracy: 0.9869 - val_loss: 0.4929 - val_accuracy: 0.8981\n",
            "Epoch 136/150\n",
            "4/6 [===================>..........] - ETA: 0s - loss: 0.0399 - accuracy: 0.9922\n",
            "Epoch 00136: val_accuracy did not improve from 0.91667\n",
            "6/6 [==============================] - 0s 27ms/step - loss: 0.0487 - accuracy: 0.9922 - val_loss: 0.4816 - val_accuracy: 0.9028\n",
            "Epoch 137/150\n",
            "4/6 [===================>..........] - ETA: 0s - loss: 0.0518 - accuracy: 0.9883\n",
            "Epoch 00137: val_accuracy did not improve from 0.91667\n",
            "6/6 [==============================] - 0s 34ms/step - loss: 0.0620 - accuracy: 0.9843 - val_loss: 0.4745 - val_accuracy: 0.9028\n",
            "Epoch 138/150\n",
            "4/6 [===================>..........] - ETA: 0s - loss: 0.0606 - accuracy: 0.9844\n",
            "Epoch 00138: val_accuracy did not improve from 0.91667\n",
            "6/6 [==============================] - 0s 27ms/step - loss: 0.0635 - accuracy: 0.9869 - val_loss: 0.4805 - val_accuracy: 0.9074\n",
            "Epoch 139/150\n",
            "4/6 [===================>..........] - ETA: 0s - loss: 0.0293 - accuracy: 1.0000\n",
            "Epoch 00139: val_accuracy did not improve from 0.91667\n",
            "6/6 [==============================] - 0s 26ms/step - loss: 0.0385 - accuracy: 0.9974 - val_loss: 0.4820 - val_accuracy: 0.9028\n",
            "Epoch 140/150\n",
            "5/6 [========================>.....] - ETA: 0s - loss: 0.1013 - accuracy: 0.9719\n",
            "Epoch 00140: val_accuracy did not improve from 0.91667\n",
            "6/6 [==============================] - 0s 27ms/step - loss: 0.1177 - accuracy: 0.9739 - val_loss: 0.5025 - val_accuracy: 0.9074\n",
            "Epoch 141/150\n",
            "5/6 [========================>.....] - ETA: 0s - loss: 0.0893 - accuracy: 0.9844\n",
            "Epoch 00141: val_accuracy did not improve from 0.91667\n",
            "6/6 [==============================] - 0s 33ms/step - loss: 0.0908 - accuracy: 0.9843 - val_loss: 0.5158 - val_accuracy: 0.8935\n",
            "Epoch 142/150\n",
            "4/6 [===================>..........] - ETA: 0s - loss: 0.0689 - accuracy: 0.9844\n",
            "Epoch 00142: val_accuracy did not improve from 0.91667\n",
            "6/6 [==============================] - 0s 34ms/step - loss: 0.0583 - accuracy: 0.9869 - val_loss: 0.5057 - val_accuracy: 0.8981\n",
            "Epoch 143/150\n",
            "5/6 [========================>.....] - ETA: 0s - loss: 0.0790 - accuracy: 0.9875\n",
            "Epoch 00143: val_accuracy did not improve from 0.91667\n",
            "6/6 [==============================] - 0s 27ms/step - loss: 0.0882 - accuracy: 0.9869 - val_loss: 0.4947 - val_accuracy: 0.9028\n",
            "Epoch 144/150\n",
            "4/6 [===================>..........] - ETA: 0s - loss: 0.0588 - accuracy: 0.9805\n",
            "Epoch 00144: val_accuracy did not improve from 0.91667\n",
            "6/6 [==============================] - 0s 28ms/step - loss: 0.0513 - accuracy: 0.9869 - val_loss: 0.4911 - val_accuracy: 0.9028\n",
            "Epoch 145/150\n",
            "4/6 [===================>..........] - ETA: 0s - loss: 0.0794 - accuracy: 0.9883\n",
            "Epoch 00145: val_accuracy did not improve from 0.91667\n",
            "6/6 [==============================] - 0s 28ms/step - loss: 0.0734 - accuracy: 0.9843 - val_loss: 0.4840 - val_accuracy: 0.9028\n",
            "Epoch 146/150\n",
            "4/6 [===================>..........] - ETA: 0s - loss: 0.0349 - accuracy: 0.9922\n",
            "Epoch 00146: val_accuracy did not improve from 0.91667\n",
            "6/6 [==============================] - 0s 34ms/step - loss: 0.0729 - accuracy: 0.9869 - val_loss: 0.4846 - val_accuracy: 0.9074\n",
            "Epoch 147/150\n",
            "4/6 [===================>..........] - ETA: 0s - loss: 0.0603 - accuracy: 0.9844\n",
            "Epoch 00147: val_accuracy did not improve from 0.91667\n",
            "6/6 [==============================] - 0s 27ms/step - loss: 0.0549 - accuracy: 0.9869 - val_loss: 0.4894 - val_accuracy: 0.8981\n",
            "Epoch 148/150\n",
            "4/6 [===================>..........] - ETA: 0s - loss: 0.0424 - accuracy: 0.9883\n",
            "Epoch 00148: val_accuracy did not improve from 0.91667\n",
            "6/6 [==============================] - 0s 34ms/step - loss: 0.0493 - accuracy: 0.9869 - val_loss: 0.4896 - val_accuracy: 0.8981\n",
            "Epoch 149/150\n",
            "4/6 [===================>..........] - ETA: 0s - loss: 0.0767 - accuracy: 0.9883\n",
            "Epoch 00149: val_accuracy did not improve from 0.91667\n",
            "6/6 [==============================] - 0s 28ms/step - loss: 0.0700 - accuracy: 0.9869 - val_loss: 0.4867 - val_accuracy: 0.9028\n",
            "Epoch 150/150\n",
            "5/6 [========================>.....] - ETA: 0s - loss: 0.0590 - accuracy: 0.9844\n",
            "Epoch 00150: val_accuracy did not improve from 0.91667\n",
            "6/6 [==============================] - 0s 34ms/step - loss: 0.0683 - accuracy: 0.9843 - val_loss: 0.4766 - val_accuracy: 0.9028\n"
          ]
        },
        {
          "output_type": "display_data",
          "data": {
            "text/plain": [
              "<Figure size 640x480 with 1 Axes>"
            ],
            "image/png": "[encoded data removed]"
          },
          "metadata": {}
        },
        {
          "output_type": "stream",
          "name": "stdout",
          "text": [
            "filepath after ['.data-00000-of-00001', 'checkpoint', '.index']\n",
            "filepath after <tensorflow.python.training.tracking.util.CheckpointLoadStatus object at 0x7fab19d15ac0>\n",
            "7/7 [==============================] - 0s 6ms/step - loss: 0.4529 - accuracy: 0.9167\n",
            "Test accuracy: 91.67%\n",
            "TOTAL TIME:  0.3385152816772461\n"
          ]
        }
      ],
      "source": [
        "trained_model, predictions= run_experiment(X_train1, y_train_arr1, X_test1, y_test_arr1)\n"
      ]
    },
    {
      "cell_type": "code",
      "source": [],
      "metadata": {
        "id": "nruYX_2HFBDU"
      },
      "execution_count": null,
      "outputs": []
    },
    {
      "cell_type": "code",
      "source": [
        "trained_model.summary()"
      ],
      "metadata": {
        "id": "jhq138sLFKNU",
        "colab": {
          "base_uri": "https://localhost:8080/"
        },
        "outputId": "aa54aaca-e2d0-455c-d689-292ebbe9a4e9"
      },
      "execution_count": null,
      "outputs": [
        {
          "output_type": "stream",
          "name": "stdout",
          "text": [
            "Model: \"model\"\n",
            "_________________________________________________________________\n",
            " Layer (type)                Output Shape              Param #   \n",
            "=================================================================\n",
            " input_1 (InputLayer)        [(None, None, None)]      0         \n",
            "                                                                 \n",
            " positional_embedding (Posit  (None, None, 150)        4200      \n",
            " ionalEmbedding)                                                 \n",
            "                                                                 \n",
            " dropout (Dropout)           (None, None, 150)         0         \n",
            "                                                                 \n",
            " encoder (Encoder)           (None, None, 150)         1449610   \n",
            "                                                                 \n",
            " dropout_5 (Dropout)         (None, None, 150)         0         \n",
            "                                                                 \n",
            " global_max_pooling1d (Globa  (None, 150)              0         \n",
            " lMaxPooling1D)                                                  \n",
            "                                                                 \n",
            " dropout_6 (Dropout)         (None, 150)               0         \n",
            "                                                                 \n",
            " flatten (Flatten)           (None, 150)               0         \n",
            "                                                                 \n",
            " dense_2 (Dense)             (None, 6)                 906       \n",
            "                                                                 \n",
            "=================================================================\n",
            "Total params: 1,454,716\n",
            "Trainable params: 1,454,412\n",
            "Non-trainable params: 304\n",
            "_________________________________________________________________\n"
          ]
        }
      ]
    },
    {
      "cell_type": "code",
      "source": [],
      "metadata": {
        "id": "jx4g_n9JFKQX"
      },
      "execution_count": null,
      "outputs": []
    },
    {
      "cell_type": "code",
      "source": [],
      "metadata": {
        "id": "uHAc0BUmFKTT"
      },
      "execution_count": null,
      "outputs": []
    },
    {
      "cell_type": "code",
      "source": [],
      "metadata": {
        "id": "RZPWR_JfFKV2"
      },
      "execution_count": null,
      "outputs": []
    },
    {
      "cell_type": "code",
      "source": [
        "import pickle\n",
        "with open(\"/content/drive/MyDrive/HRNET/Train_cut\", \"rb\") as fp:   # Unpickling\n",
        "  train = pickle.load(fp)\n",
        "\n",
        "with open(\"/content/drive/MyDrive/HRNET/Val_cut\", \"rb\") as fp:   # Unpickling\n",
        "  val = pickle.load(fp)\n",
        "\n",
        "with open(\"/content/drive/MyDrive/HRNET/Test_cut\", \"rb\") as fp:   # Unpickling\n",
        "  test = pickle.load(fp)"
      ],
      "metadata": {
        "id": "M965Pn4XFKYh"
      },
      "execution_count": null,
      "outputs": []
    },
    {
      "cell_type": "code",
      "source": [
        "train_videos = pickle.load(open(\"/content/drive/My Drive/KTH_Private/train.p\", \"rb\"))\n",
        "valid_videos = pickle.load(open(\"/content/drive/My Drive/KTH_Private/dev.p\", \"rb\"))\n",
        "test_videos = pickle.load(open(\"/content/drive/My Drive/KTH_Private/test.p\", \"rb\"))"
      ],
      "metadata": {
        "id": "eRYDucB9FKa9"
      },
      "execution_count": null,
      "outputs": []
    },
    {
      "cell_type": "code",
      "source": [
        "train_labels = []\n",
        "for video in train_videos:\n",
        "  train_labels.append(video['category'])\n",
        "print(len(train_labels))\n",
        "# train = train_poses\n",
        "\n",
        "\n",
        "val_labels = []\n",
        "for video in valid_videos:\n",
        "  val_labels.append(video['category'])\n",
        "print(len(val_labels))\n",
        "# val = val_poses\n",
        "\n",
        "test_labels = []\n",
        "for video in test_videos:\n",
        "  test_labels.append(video['category'])\n",
        "print(len(test_labels))"
      ],
      "metadata": {
        "id": "gGUCJDmfFKdZ",
        "colab": {
          "base_uri": "https://localhost:8080/"
        },
        "outputId": "8f5aa285-e1c3-4a99-fa9b-07903c6e2711"
      },
      "execution_count": null,
      "outputs": [
        {
          "output_type": "stream",
          "name": "stdout",
          "text": [
            "191\n",
            "192\n",
            "216\n"
          ]
        }
      ]
    },
    {
      "cell_type": "code",
      "source": [
        "train_labels = new_train_labels\n",
        "test_labels = new_test_labels"
      ],
      "metadata": {
        "id": "dYMReoxt0GBM"
      },
      "execution_count": null,
      "outputs": []
    },
    {
      "cell_type": "code",
      "source": [
        "import numpy as np\n",
        "import torch\n",
        "\n",
        "# Example list of numpy arrays representing video frames\n",
        "video_frames_list = train  # Replace with your own list of numpy arrays\n",
        "# Example list of labels\n",
        "labels_list = train_labels  # Replace with your own list of labels\n",
        "\n",
        "# Convert list of video frames into a single numpy array\n",
        "x_np = np.concatenate(video_frames_list, axis=0)  # Shape: (total_frames, 17, 2)\n",
        "\n",
        "# Convert numpy array into PyTorch tensor\n",
        "x_train = torch.from_numpy(x_np)  # Shape: (total_frames, 17, 2)\n",
        "\n",
        "# Convert list of labels into a single numpy array\n",
        "y_np = np.array(labels_list)  # Shape: (total_videos,)\n",
        "\n",
        "# Convert numpy array into PyTorch tensor\n",
        "y_train = torch.from_numpy(y_np)  #"
      ],
      "metadata": {
        "id": "tRitcAXlFKf4"
      },
      "execution_count": null,
      "outputs": []
    },
    {
      "cell_type": "code",
      "source": [
        "import numpy as np\n",
        "import torch\n",
        "\n",
        "# Example list of numpy arrays representing video frames\n",
        "video_frames_list = test  # Replace with your own list of numpy arrays\n",
        "# Example list of labels\n",
        "labels_list = test_labels  # Replace with your own list of labels\n",
        "\n",
        "# Convert list of video frames into a single numpy array\n",
        "x_np = np.concatenate(video_frames_list, axis=0)  # Shape: (total_frames, 17, 2)\n",
        "\n",
        "# Convert numpy array into PyTorch tensor\n",
        "x_test = torch.from_numpy(x_np)  # Shape: (total_frames, 17, 2)\n",
        "\n",
        "# Convert list of labels into a single numpy array\n",
        "y_np = np.array(labels_list)  # Shape: (total_videos,)\n",
        "\n",
        "# Convert numpy array into PyTorch tensor\n",
        "y_test = torch.from_numpy(y_np)  #"
      ],
      "metadata": {
        "id": "SY2u2ipB0USl"
      },
      "execution_count": null,
      "outputs": []
    },
    {
      "cell_type": "code",
      "source": [
        "x_train.shape"
      ],
      "metadata": {
        "colab": {
          "base_uri": "https://localhost:8080/"
        },
        "id": "MWxxA4CR1AoY",
        "outputId": "744ebd62-6e77-49d1-d6fa-495282116144"
      },
      "execution_count": null,
      "outputs": [
        {
          "output_type": "execute_result",
          "data": {
            "text/plain": [
              "torch.Size([7555, 17, 2])"
            ]
          },
          "metadata": {},
          "execution_count": 16
        }
      ]
    },
    {
      "cell_type": "code",
      "source": [
        "import tensorflow as tf\n",
        "\n",
        "class PositionalEncoding(tf.keras.layers.Layer):\n",
        "    def __init__(self, input_dim, max_frames, dropout_rate=0.1):\n",
        "        super(PositionalEncoding, self).__init__()\n",
        "        self.input_dim = input_dim\n",
        "        self.max_frames = max_frames\n",
        "        self.dropout_rate = dropout_rate\n",
        "\n",
        "    def build(self, input_shape):\n",
        "        self.pos_enc = self.add_weight(shape=(self.max_frames, self.input_dim),\n",
        "                                       initializer=tf.keras.initializers.RandomNormal(),\n",
        "                                       trainable=True)\n",
        "\n",
        "    def call(self, x):\n",
        "        pos_enc = self.pos_enc[0:x.shape[1], :]\n",
        "        x = x + pos_enc\n",
        "        return x\n",
        "\n",
        "class TransformerModel(tf.keras.Model):\n",
        "    def __init__(self, input_dim, num_frames, d_model, num_heads, dff, output_dim, max_positional_encoding=1000, dropout_rate=0.1):\n",
        "        super(TransformerModel, self).__init__()\n",
        "        self.input_dim = input_dim\n",
        "        self.num_frames = num_frames\n",
        "        self.d_model = d_model\n",
        "        self.num_heads = num_heads\n",
        "        self.dff = dff\n",
        "        self.output_dim = output_dim\n",
        "        self.max_positional_encoding = max_positional_encoding\n",
        "        self.dropout_rate = dropout_rate\n",
        "\n",
        "        self.pos_enc_layer = PositionalEncoding(input_dim=self.input_dim, max_frames=self.max_positional_encoding, dropout_rate=self.dropout_rate)\n",
        "        self.flatten = tf.keras.layers.Flatten()\n",
        "        self.fc1 = tf.keras.layers.Dense(self.d_model, activation='relu')\n",
        "        self.transformer_block = TransformerBlock(d_model=self.d_model, num_heads=self.num_heads, dff=self.dff, dropout_rate=self.dropout_rate)\n",
        "        self.fc2 = tf.keras.layers.Dense(self.output_dim)\n",
        "\n",
        "    def call(self, x):\n",
        "        x = self.pos_enc_layer(x)\n",
        "        x = self.flatten(x)\n",
        "        x = self.fc1(x)\n",
        "        x = self.transformer_block(x)\n",
        "        x = self.fc2(x)\n",
        "        return x\n",
        "\n",
        "class TransformerBlock(tf.keras.layers.Layer):\n",
        "    def __init__(self, d_model, num_heads, dff, dropout_rate=0.1):\n",
        "        super(TransformerBlock, self).__init__()\n",
        "        self.mha = tf.keras.layers.MultiHeadAttention(num_heads=num_heads, key_dim=d_model)\n",
        "        self.ffn = tf.keras.Sequential([\n",
        "            tf.keras.layers.Dense(dff, activation='relu'),\n",
        "            tf.keras.layers.Dense(d_model)\n",
        "        ])\n",
        "        self.layernorm1 = tf.keras.layers.LayerNormalization(epsilon=1e-6)\n",
        "        self.layernorm2 = tf.keras.layers.LayerNormalization(epsilon=1e-6)\n",
        "        self.dropout = tf.keras.layers.Dropout(dropout_rate)\n",
        "\n",
        "    def call(self, inputs):\n",
        "        attn_output = self.mha(inputs, inputs)\n",
        "        attn_output = self.dropout(attn_output)\n",
        "        out1 = self.layernorm1(inputs + attn_output)\n",
        "        ffn_output = self.ffn(out1)\n",
        "        ffn_output = self.dropout(ffn_output)\n",
        "        out2 = self.layernorm2(out1 + ffn_output)\n",
        "        return out2\n",
        "\n"
      ],
      "metadata": {
        "id": "U-TwkzigzpR0"
      },
      "execution_count": null,
      "outputs": []
    },
    {
      "cell_type": "code",
      "source": [],
      "metadata": {
        "id": "vWzPI6dp5zYe"
      },
      "execution_count": null,
      "outputs": []
    },
    {
      "cell_type": "code",
      "source": [
        "import numpy as np\n",
        "import tensorflow as tf\n",
        "from sklearn.model_selection import train_test_split\n",
        "\n",
        "# Load and preprocess data\n",
        "# Assuming you have separate lists of numpy arrays for x and y, where each array represents a video\n",
        "# x_videos_data = np.concatenate(x_train, x_test) # Replace with your own list of numpy arrays for x\n",
        "# y_videos_data = [...]  # Replace with your own list of numpy arrays for y\n",
        "# x_train, x_test, y_train, y_test = train_test_split(x_videos_data, y_videos_data, test_size=0.2, random_state=42)  # Split data into train and test sets\n",
        "# Define positional encoding layer\n",
        "import numpy as np\n",
        "import tensorflow as tf\n",
        "\n",
        "# Define your data\n",
        "\n",
        "\n",
        "# Convert your data into TensorFlow tensors\n",
        "x_train = [tf.constant(video, dtype=tf.float32) for video in x_train]\n",
        "y_train = [tf.constant(label, dtype=tf.float32) for label in y_train]\n",
        "\n",
        "# Define the Transformer model\n",
        "class TransformerModel(tf.keras.Model):\n",
        "    def __init__(self, input_dim, num_frames, d_model, num_heads, dff, output_dim, max_positional_encoding, dropout_rate):\n",
        "        super(TransformerModel, self).__init__()\n",
        "        self.pos_enc = self.positional_encoding(max_positional_encoding, d_model)\n",
        "        self.d_model = d_model\n",
        "        self.num_frames = num_frames\n",
        "        self.transformer_block = self.transformer_block(d_model, num_heads, dff, dropout_rate)\n",
        "        self.flatten = tf.keras.layers.Flatten()\n",
        "        self.fc = tf.keras.layers.Dense(output_dim)\n",
        "\n",
        "    def positional_encoding(self, position, d_model):\n",
        "        angle_rates = 1 / np.power(10000, (2 * (np.arange(d_model)[np.newaxis, :] // 2)) / np.float32(d_model))\n",
        "        angle_rads = np.arange(position)[:, np.newaxis] * angle_rates\n",
        "        pos_enc = np.zeros((position, d_model), dtype=np.float32)\n",
        "        pos_enc[:, 0::2] = np.sin(angle_rads[:, 0::2])\n",
        "        pos_enc[:, 1::2] = np.cos(angle_rads[:, 1::2])\n",
        "        return tf.constant(pos_enc, dtype=tf.float32)\n",
        "\n",
        "    def transformer_block(self, d_model, num_heads, dff, dropout_rate):\n",
        "        inputs = tf.keras.Input(shape=(self.num_frames, 17, 2))\n",
        "\n",
        "        x = tf.keras.layers.LayerNormalization(epsilon=1e-6)(inputs)\n",
        "        x = tf.keras.layers.Dropout(dropout_rate)(x)\n",
        "\n",
        "        # Multi-head self-attention\n",
        "        attn_output = tf.keras.layers.MultiHeadAttention(\n",
        "            key_dim=d_model, num_heads=num_heads, dropout=dropout_rate\n",
        "        )(x, x)\n",
        "        x = tf.keras.layers.Add()([x, attn_output])\n",
        "        x = tf.keras.layers.LayerNormalization(epsilon=1e-6)(x)\n",
        "        x = tf.keras.layers.Dropout(dropout_rate)(x)\n",
        "\n",
        "        # Point-wise feed forward networks\n",
        "        ffn_output = tf.keras.layers.Conv1D(filters=dff, kernel_size=1, activation=\"relu\")(x)\n",
        "        ffn_output = tf.keras.layers.Conv1D(filters=d_model, kernel_size=1)(ffn_output)\n",
        "        x = tf.keras.layers.Add()([x, ffn_output])\n",
        "        x = tf.keras.layers.LayerNormalization(epsilon=1e-6)(x)\n",
        "        x = tf.keras.layers.Dropout(dropout_rate)(x)\n",
        "\n",
        "        return tf.keras.Model(inputs=inputs, outputs=x)\n",
        "\n",
        "    def call(self, x):\n",
        "        # Add positional encoding\n",
        "        pos_enc = self.pos_enc[tf.newaxis, : self.num_frames, :, :]\n",
        "        x = x + pos_enc\n",
        "\n",
        "        # Reshape and pass through transformer block\n",
        "        x = self.flatten(x)\n",
        "        x = self.transformer_block(x)\n",
        "        x = self.fc(x)\n",
        "\n",
        "        return x\n",
        "\n",
        "# Create Transformer model instance\n",
        "input_dim = 2\n",
        "num_frames = 7\n",
        "d_model = 2\n",
        "num_heads = 4\n",
        "dff = 256\n",
        "output_dim = 10\n",
        "max_positional_encoding = 1000\n",
        "dropout_rate = 0.1\n",
        "\n",
        "model = TransformerModel(\n",
        "    input_dim=input_dim,\n",
        "    num_frames=num_frames,\n",
        "    d_model=d_model,\n",
        "    num_heads=num_heads,\n",
        "    dff=dff,\n",
        "    output_dim=output_dim,\n",
        "    max_positional_encoding=max_positional_encoding,\n",
        "    dropout_rate=dropout_rate\n",
        ")\n",
        "\n",
        "# Compile the model\n",
        "optimizer = tf.keras.optimizers.Adam(learning_rate=0.001)\n",
        "loss_object = tf.keras.losses.MeanSquaredError()\n",
        "metric = tf.keras.metrics.MeanSquaredError()\n",
        "model.compile(optimizer=optimizer, loss=loss_object, metrics=[metric])\n",
        "\n",
        "max_frames = max([video.shape[0] for video in x_train])\n",
        "\n",
        "# Pad the videos to the maximum number of frames\n",
        "x_train_padded = []\n",
        "for video in x_train:\n",
        "    padding = max_frames - video.shape[0]\n",
        "    padded_video = np.pad(video, ((0, padding), (0, 0), (0, 0)), mode='constant')\n",
        "    x_train_padded.append(padded_video)\n",
        "x_train_padded = np.array(x_train_padded)\n",
        "\n",
        "# Convert x_train_padded and y_train to TensorFlow datasets\n",
        "x_train_dataset = tf.data.Dataset.from_tensor_slices(x_train_padded)\n",
        "y_train_dataset = tf.data.Dataset.from_tensor_slices(y_train)\n",
        "\n",
        "# Zip the x_train_padded and y_train datasets together\n",
        "train_dataset = tf.data.Dataset.zip((x_train_dataset, y_train_dataset))\n",
        "\n",
        "# Shuffle and batch the train_dataset\n",
        "batch_size = 32\n",
        "train_dataset = train_dataset.shuffle(buffer_size=len(x_train_padded)).batch(batch_size)\n",
        "\n",
        "# Train the model\n",
        "batch_size = 32  # Replace with your desired batch size\n",
        "epochs = 10  # Replace with your desired number of epochs\n",
        "history = model.fit(train_dataset, epochs=epochs)\n",
        "\n",
        "\n"
      ],
      "metadata": {
        "id": "VpMOWkRpFKiQ",
        "colab": {
          "base_uri": "https://localhost:8080/",
          "height": 866
        },
        "outputId": "50c2600d-f44b-46d2-f81d-7433246b5fb4"
      },
      "execution_count": null,
      "outputs": [
        {
          "output_type": "stream",
          "name": "stdout",
          "text": [
            "Epoch 1/10\n"
          ]
        },
        {
          "output_type": "error",
          "ename": "ValueError",
          "evalue": "ignored",
          "traceback": [
            "\u001b[0;31m---------------------------------------------------------------------------\u001b[0m",
            "\u001b[0;31mValueError\u001b[0m                                Traceback (most recent call last)",
            "\u001b[0;32m<ipython-input-68-14aa42877a90>\u001b[0m in \u001b[0;36m<cell line: 128>\u001b[0;34m()\u001b[0m\n\u001b[1;32m    126\u001b[0m \u001b[0mbatch_size\u001b[0m \u001b[0;34m=\u001b[0m \u001b[0;36m32\u001b[0m  \u001b[0;31m# Replace with your desired batch size\u001b[0m\u001b[0;34m\u001b[0m\u001b[0;34m\u001b[0m\u001b[0m\n\u001b[1;32m    127\u001b[0m \u001b[0mepochs\u001b[0m \u001b[0;34m=\u001b[0m \u001b[0;36m10\u001b[0m  \u001b[0;31m# Replace with your desired number of epochs\u001b[0m\u001b[0;34m\u001b[0m\u001b[0;34m\u001b[0m\u001b[0m\n\u001b[0;32m--> 128\u001b[0;31m \u001b[0mhistory\u001b[0m \u001b[0;34m=\u001b[0m \u001b[0mmodel\u001b[0m\u001b[0;34m.\u001b[0m\u001b[0mfit\u001b[0m\u001b[0;34m(\u001b[0m\u001b[0mtrain_dataset\u001b[0m\u001b[0;34m,\u001b[0m \u001b[0mepochs\u001b[0m\u001b[0;34m=\u001b[0m\u001b[0mepochs\u001b[0m\u001b[0;34m)\u001b[0m\u001b[0;34m\u001b[0m\u001b[0;34m\u001b[0m\u001b[0m\n\u001b[0m\u001b[1;32m    129\u001b[0m \u001b[0;34m\u001b[0m\u001b[0m\n\u001b[1;32m    130\u001b[0m \u001b[0;34m\u001b[0m\u001b[0m\n",
            "\u001b[0;32m/usr/local/lib/python3.9/dist-packages/keras/utils/traceback_utils.py\u001b[0m in \u001b[0;36merror_handler\u001b[0;34m(*args, **kwargs)\u001b[0m\n\u001b[1;32m     65\u001b[0m     \u001b[0;32mexcept\u001b[0m \u001b[0mException\u001b[0m \u001b[0;32mas\u001b[0m \u001b[0me\u001b[0m\u001b[0;34m:\u001b[0m  \u001b[0;31m# pylint: disable=broad-except\u001b[0m\u001b[0;34m\u001b[0m\u001b[0;34m\u001b[0m\u001b[0m\n\u001b[1;32m     66\u001b[0m       \u001b[0mfiltered_tb\u001b[0m \u001b[0;34m=\u001b[0m \u001b[0m_process_traceback_frames\u001b[0m\u001b[0;34m(\u001b[0m\u001b[0me\u001b[0m\u001b[0;34m.\u001b[0m\u001b[0m__traceback__\u001b[0m\u001b[0;34m)\u001b[0m\u001b[0;34m\u001b[0m\u001b[0;34m\u001b[0m\u001b[0m\n\u001b[0;32m---> 67\u001b[0;31m       \u001b[0;32mraise\u001b[0m \u001b[0me\u001b[0m\u001b[0;34m.\u001b[0m\u001b[0mwith_traceback\u001b[0m\u001b[0;34m(\u001b[0m\u001b[0mfiltered_tb\u001b[0m\u001b[0;34m)\u001b[0m \u001b[0;32mfrom\u001b[0m \u001b[0;32mNone\u001b[0m\u001b[0;34m\u001b[0m\u001b[0;34m\u001b[0m\u001b[0m\n\u001b[0m\u001b[1;32m     68\u001b[0m     \u001b[0;32mfinally\u001b[0m\u001b[0;34m:\u001b[0m\u001b[0;34m\u001b[0m\u001b[0;34m\u001b[0m\u001b[0m\n\u001b[1;32m     69\u001b[0m       \u001b[0;32mdel\u001b[0m \u001b[0mfiltered_tb\u001b[0m\u001b[0;34m\u001b[0m\u001b[0;34m\u001b[0m\u001b[0m\n",
            "\u001b[0;32m/usr/local/lib/python3.9/dist-packages/tensorflow/python/framework/func_graph.py\u001b[0m in \u001b[0;36mautograph_handler\u001b[0;34m(*args, **kwargs)\u001b[0m\n\u001b[1;32m   1127\u001b[0m           \u001b[0;32mexcept\u001b[0m \u001b[0mException\u001b[0m \u001b[0;32mas\u001b[0m \u001b[0me\u001b[0m\u001b[0;34m:\u001b[0m  \u001b[0;31m# pylint:disable=broad-except\u001b[0m\u001b[0;34m\u001b[0m\u001b[0;34m\u001b[0m\u001b[0m\n\u001b[1;32m   1128\u001b[0m             \u001b[0;32mif\u001b[0m \u001b[0mhasattr\u001b[0m\u001b[0;34m(\u001b[0m\u001b[0me\u001b[0m\u001b[0;34m,\u001b[0m \u001b[0;34m\"ag_error_metadata\"\u001b[0m\u001b[0;34m)\u001b[0m\u001b[0;34m:\u001b[0m\u001b[0;34m\u001b[0m\u001b[0;34m\u001b[0m\u001b[0m\n\u001b[0;32m-> 1129\u001b[0;31m               \u001b[0;32mraise\u001b[0m \u001b[0me\u001b[0m\u001b[0;34m.\u001b[0m\u001b[0mag_error_metadata\u001b[0m\u001b[0;34m.\u001b[0m\u001b[0mto_exception\u001b[0m\u001b[0;34m(\u001b[0m\u001b[0me\u001b[0m\u001b[0;34m)\u001b[0m\u001b[0;34m\u001b[0m\u001b[0;34m\u001b[0m\u001b[0m\n\u001b[0m\u001b[1;32m   1130\u001b[0m             \u001b[0;32melse\u001b[0m\u001b[0;34m:\u001b[0m\u001b[0;34m\u001b[0m\u001b[0;34m\u001b[0m\u001b[0m\n\u001b[1;32m   1131\u001b[0m               \u001b[0;32mraise\u001b[0m\u001b[0;34m\u001b[0m\u001b[0;34m\u001b[0m\u001b[0m\n",
            "\u001b[0;31mValueError\u001b[0m: in user code:\n\n    File \"/usr/local/lib/python3.9/dist-packages/keras/engine/training.py\", line 878, in train_function  *\n        return step_function(self, iterator)\n    File \"/usr/local/lib/python3.9/dist-packages/keras/engine/training.py\", line 867, in step_function  **\n        outputs = model.distribute_strategy.run(run_step, args=(data,))\n    File \"/usr/local/lib/python3.9/dist-packages/keras/engine/training.py\", line 860, in run_step  **\n        outputs = model.train_step(data)\n    File \"/usr/local/lib/python3.9/dist-packages/keras/engine/training.py\", line 808, in train_step\n        y_pred = self(x, training=True)\n    File \"/usr/local/lib/python3.9/dist-packages/keras/utils/traceback_utils.py\", line 67, in error_handler\n        raise e.with_traceback(filtered_tb) from None\n\n    ValueError: Exception encountered when calling layer \"transformer_model_24\" (type TransformerModel).\n    \n    in user code:\n    \n        File \"<ipython-input-68-14aa42877a90>\", line 67, in call  *\n            pos_enc = self.pos_enc[tf.newaxis, :7555, :, :]\n    \n        ValueError: Index out of range using input dim 2; input has only 2 dims for '{{node transformer_model_24/strided_slice_2}} = StridedSlice[Index=DT_INT32, T=DT_FLOAT, begin_mask=14, ellipsis_mask=0, end_mask=12, new_axis_mask=1, shrink_axis_mask=0](transformer_model_24/9583, transformer_model_24/strided_slice_2/stack, transformer_model_24/strided_slice_2/stack_1, transformer_model_24/strided_slice_2/stack_2)' with input shapes: [1000,2], [4], [4], [4] and with computed input tensors: input[3] = <1 1 1 1>.\n    \n    \n    Call arguments received:\n      • x=tf.Tensor(shape=(None, 71, 17, 2), dtype=float32)\n"
          ]
        }
      ]
    },
    {
      "cell_type": "code",
      "source": [
        "for a in x_test:\n",
        "  print(a.shape[0])"
      ],
      "metadata": {
        "id": "kzcjPm05FKk2",
        "colab": {
          "base_uri": "https://localhost:8080/"
        },
        "outputId": "032f9e9e-63ad-4105-dffb-dfc5d407abeb"
      },
      "execution_count": null,
      "outputs": [
        {
          "output_type": "stream",
          "name": "stdout",
          "text": [
            "36\n",
            "35\n",
            "47\n",
            "31\n",
            "33\n",
            "48\n",
            "39\n",
            "38\n",
            "35\n",
            "47\n",
            "45\n",
            "42\n",
            "39\n",
            "48\n",
            "50\n",
            "42\n",
            "37\n",
            "41\n",
            "47\n",
            "47\n",
            "40\n",
            "50\n",
            "45\n",
            "37\n",
            "37\n",
            "43\n",
            "39\n",
            "39\n",
            "40\n",
            "46\n",
            "48\n",
            "46\n",
            "38\n",
            "48\n",
            "43\n",
            "39\n",
            "40\n",
            "46\n",
            "39\n",
            "42\n",
            "42\n",
            "41\n",
            "46\n",
            "39\n",
            "43\n",
            "43\n",
            "51\n",
            "49\n",
            "50\n",
            "56\n",
            "43\n",
            "51\n",
            "44\n",
            "46\n",
            "49\n",
            "45\n",
            "38\n",
            "39\n",
            "41\n",
            "35\n",
            "42\n",
            "49\n",
            "44\n",
            "50\n",
            "47\n",
            "41\n",
            "46\n",
            "49\n",
            "61\n",
            "57\n",
            "54\n",
            "46\n",
            "66\n",
            "57\n",
            "64\n",
            "60\n",
            "54\n",
            "51\n",
            "51\n",
            "51\n",
            "61\n",
            "67\n",
            "54\n",
            "55\n",
            "58\n",
            "50\n",
            "49\n",
            "53\n",
            "59\n",
            "51\n",
            "52\n",
            "53\n",
            "48\n",
            "49\n",
            "51\n",
            "48\n",
            "21\n",
            "29\n",
            "20\n",
            "28\n",
            "22\n",
            "40\n",
            "21\n",
            "28\n",
            "25\n",
            "39\n",
            "22\n",
            "28\n",
            "23\n",
            "36\n",
            "19\n",
            "26\n",
            "19\n",
            "39\n",
            "18\n",
            "28\n",
            "20\n",
            "46\n",
            "19\n",
            "26\n",
            "23\n",
            "43\n",
            "24\n",
            "33\n",
            "22\n",
            "38\n",
            "24\n",
            "27\n",
            "15\n",
            "22\n",
            "15\n",
            "19\n",
            "16\n",
            "27\n",
            "15\n",
            "21\n",
            "18\n",
            "29\n",
            "17\n",
            "22\n",
            "13\n",
            "23\n",
            "14\n",
            "19\n",
            "15\n",
            "30\n",
            "15\n",
            "20\n",
            "12\n",
            "28\n",
            "13\n",
            "18\n",
            "14\n",
            "33\n",
            "17\n",
            "23\n",
            "17\n",
            "30\n",
            "19\n",
            "22\n",
            "30\n",
            "49\n",
            "33\n",
            "46\n",
            "36\n",
            "63\n",
            "33\n",
            "38\n",
            "36\n",
            "58\n",
            "34\n",
            "48\n",
            "39\n",
            "62\n",
            "31\n",
            "42\n",
            "34\n",
            "63\n",
            "29\n",
            "48\n",
            "37\n",
            "75\n",
            "33\n",
            "39\n",
            "31\n",
            "70\n",
            "32\n",
            "36\n",
            "40\n",
            "66\n",
            "43\n",
            "43\n"
          ]
        }
      ]
    },
    {
      "cell_type": "code",
      "source": [],
      "metadata": {
        "id": "3_UqdtoKFKnS",
        "colab": {
          "base_uri": "https://localhost:8080/",
          "height": 165
        },
        "outputId": "ab7ec282-a350-496c-aead-d36822967809"
      },
      "execution_count": null,
      "outputs": [
        {
          "output_type": "error",
          "ename": "AttributeError",
          "evalue": "ignored",
          "traceback": [
            "\u001b[0;31m---------------------------------------------------------------------------\u001b[0m",
            "\u001b[0;31mAttributeError\u001b[0m                            Traceback (most recent call last)",
            "\u001b[0;32m<ipython-input-41-2132a220a582>\u001b[0m in \u001b[0;36m<cell line: 1>\u001b[0;34m()\u001b[0m\n\u001b[0;32m----> 1\u001b[0;31m \u001b[0mx_train\u001b[0m\u001b[0;34m.\u001b[0m\u001b[0mshape\u001b[0m\u001b[0;34m\u001b[0m\u001b[0;34m\u001b[0m\u001b[0m\n\u001b[0m",
            "\u001b[0;31mAttributeError\u001b[0m: 'list' object has no attribute 'shape'"
          ]
        }
      ]
    },
    {
      "cell_type": "code",
      "source": [
        "x_train = train\n",
        "x_test = val"
      ],
      "metadata": {
        "id": "dap4WHXXFKpc"
      },
      "execution_count": null,
      "outputs": []
    },
    {
      "cell_type": "code",
      "source": [],
      "metadata": {
        "id": "dTM3D4azFKr2"
      },
      "execution_count": null,
      "outputs": []
    },
    {
      "cell_type": "code",
      "source": [],
      "metadata": {
        "id": "HE5H6O5eFKx9"
      },
      "execution_count": null,
      "outputs": []
    },
    {
      "cell_type": "code",
      "source": [],
      "metadata": {
        "id": "ImmYnFVKFK0c"
      },
      "execution_count": null,
      "outputs": []
    },
    {
      "cell_type": "code",
      "source": [],
      "metadata": {
        "id": "123oB83oFK2f"
      },
      "execution_count": null,
      "outputs": []
    },
    {
      "cell_type": "code",
      "execution_count": null,
      "metadata": {
        "id": "G9ndSGopaI9N",
        "colab": {
          "base_uri": "https://localhost:8080/",
          "height": 1000
        },
        "outputId": "a9ada602-dfdb-4693-f058-99b120ef726b"
      },
      "outputs": [
        {
          "output_type": "stream",
          "name": "stdout",
          "text": [
            "Epoch 1/30\n",
            "121/124 [============================>.] - ETA: 0s - loss: 2.0301 - accuracy: 0.4712\n",
            "Epoch 1: val_accuracy improved from -inf to 0.54815, saving model to /tmp/video_classifier/\n",
            "124/124 [==============================] - 4s 17ms/step - loss: 2.0080 - accuracy: 0.4771 - val_loss: 1.4639 - val_accuracy: 0.5481\n",
            "Epoch 2/30\n",
            "121/124 [============================>.] - ETA: 0s - loss: 0.8034 - accuracy: 0.7774\n",
            "Epoch 2: val_accuracy improved from 0.54815 to 0.59630, saving model to /tmp/video_classifier/\n",
            "124/124 [==============================] - 2s 14ms/step - loss: 0.8015 - accuracy: 0.7786 - val_loss: 1.3246 - val_accuracy: 0.5963\n",
            "Epoch 3/30\n",
            "121/124 [============================>.] - ETA: 0s - loss: 0.5663 - accuracy: 0.8503\n",
            "Epoch 3: val_accuracy improved from 0.59630 to 0.60370, saving model to /tmp/video_classifier/\n",
            "124/124 [==============================] - 2s 14ms/step - loss: 0.5654 - accuracy: 0.8503 - val_loss: 1.3032 - val_accuracy: 0.6037\n",
            "Epoch 4/30\n",
            "121/124 [============================>.] - ETA: 0s - loss: 0.4409 - accuracy: 0.8852\n",
            "Epoch 4: val_accuracy improved from 0.60370 to 0.63704, saving model to /tmp/video_classifier/\n",
            "124/124 [==============================] - 2s 15ms/step - loss: 0.4389 - accuracy: 0.8855 - val_loss: 1.2105 - val_accuracy: 0.6370\n",
            "Epoch 5/30\n",
            "121/124 [============================>.] - ETA: 0s - loss: 0.3592 - accuracy: 0.9103\n",
            "Epoch 5: val_accuracy improved from 0.63704 to 0.67037, saving model to /tmp/video_classifier/\n",
            "124/124 [==============================] - 2s 16ms/step - loss: 0.3586 - accuracy: 0.9105 - val_loss: 1.2102 - val_accuracy: 0.6704\n",
            "Epoch 6/30\n",
            "121/124 [============================>.] - ETA: 0s - loss: 0.2819 - accuracy: 0.9330\n",
            "Epoch 6: val_accuracy did not improve from 0.67037\n",
            "124/124 [==============================] - 2s 14ms/step - loss: 0.2810 - accuracy: 0.9335 - val_loss: 1.1506 - val_accuracy: 0.6630\n",
            "Epoch 7/30\n",
            "121/124 [============================>.] - ETA: 0s - loss: 0.2296 - accuracy: 0.9471\n",
            "Epoch 7: val_accuracy improved from 0.67037 to 0.67778, saving model to /tmp/video_classifier/\n",
            "124/124 [==============================] - 2s 15ms/step - loss: 0.2295 - accuracy: 0.9472 - val_loss: 1.1816 - val_accuracy: 0.6778\n",
            "Epoch 8/30\n",
            "121/124 [============================>.] - ETA: 0s - loss: 0.1850 - accuracy: 0.9620\n",
            "Epoch 8: val_accuracy improved from 0.67778 to 0.68889, saving model to /tmp/video_classifier/\n",
            "124/124 [==============================] - 2s 15ms/step - loss: 0.1844 - accuracy: 0.9623 - val_loss: 1.2401 - val_accuracy: 0.6889\n",
            "Epoch 9/30\n",
            "121/124 [============================>.] - ETA: 0s - loss: 0.1522 - accuracy: 0.9698\n",
            "Epoch 9: val_accuracy did not improve from 0.68889\n",
            "124/124 [==============================] - 2s 14ms/step - loss: 0.1519 - accuracy: 0.9699 - val_loss: 1.2407 - val_accuracy: 0.6815\n",
            "Epoch 10/30\n",
            "121/124 [============================>.] - ETA: 0s - loss: 0.1318 - accuracy: 0.9729\n",
            "Epoch 10: val_accuracy did not improve from 0.68889\n",
            "124/124 [==============================] - 2s 14ms/step - loss: 0.1316 - accuracy: 0.9728 - val_loss: 1.3137 - val_accuracy: 0.6778\n",
            "Epoch 11/30\n",
            "121/124 [============================>.] - ETA: 0s - loss: 0.1118 - accuracy: 0.9790\n",
            "Epoch 11: val_accuracy did not improve from 0.68889\n",
            "124/124 [==============================] - 2s 14ms/step - loss: 0.1119 - accuracy: 0.9789 - val_loss: 1.2994 - val_accuracy: 0.6815\n",
            "Epoch 12/30\n",
            "120/124 [============================>.] - ETA: 0s - loss: 0.0917 - accuracy: 0.9828\n",
            "Epoch 12: val_accuracy improved from 0.68889 to 0.70000, saving model to /tmp/video_classifier/\n",
            "124/124 [==============================] - 2s 15ms/step - loss: 0.0912 - accuracy: 0.9832 - val_loss: 1.3159 - val_accuracy: 0.7000\n",
            "Epoch 13/30\n",
            "121/124 [============================>.] - ETA: 0s - loss: 0.0843 - accuracy: 0.9842\n",
            "Epoch 13: val_accuracy did not improve from 0.70000\n",
            "124/124 [==============================] - 2s 14ms/step - loss: 0.0841 - accuracy: 0.9842 - val_loss: 1.2560 - val_accuracy: 0.6963\n",
            "Epoch 14/30\n",
            "121/124 [============================>.] - ETA: 0s - loss: 0.0770 - accuracy: 0.9840\n",
            "Epoch 14: val_accuracy did not improve from 0.70000\n",
            "124/124 [==============================] - 2s 14ms/step - loss: 0.0768 - accuracy: 0.9840 - val_loss: 1.3690 - val_accuracy: 0.6926\n",
            "Epoch 15/30\n",
            "121/124 [============================>.] - ETA: 0s - loss: 0.0624 - accuracy: 0.9893\n",
            "Epoch 15: val_accuracy improved from 0.70000 to 0.70741, saving model to /tmp/video_classifier/\n",
            "124/124 [==============================] - 2s 15ms/step - loss: 0.0626 - accuracy: 0.9892 - val_loss: 1.3594 - val_accuracy: 0.7074\n",
            "Epoch 16/30\n",
            "121/124 [============================>.] - ETA: 0s - loss: 0.0564 - accuracy: 0.9904\n",
            "Epoch 16: val_accuracy did not improve from 0.70741\n",
            "124/124 [==============================] - 2s 14ms/step - loss: 0.0562 - accuracy: 0.9905 - val_loss: 1.3647 - val_accuracy: 0.7074\n",
            "Epoch 17/30\n",
            "121/124 [============================>.] - ETA: 0s - loss: 0.0492 - accuracy: 0.9904\n",
            "Epoch 17: val_accuracy did not improve from 0.70741\n",
            "124/124 [==============================] - 2s 14ms/step - loss: 0.0499 - accuracy: 0.9900 - val_loss: 1.3319 - val_accuracy: 0.7074\n",
            "Epoch 18/30\n",
            "121/124 [============================>.] - ETA: 0s - loss: 0.0454 - accuracy: 0.9920\n",
            "Epoch 18: val_accuracy improved from 0.70741 to 0.71852, saving model to /tmp/video_classifier/\n",
            "124/124 [==============================] - 2s 15ms/step - loss: 0.0453 - accuracy: 0.9920 - val_loss: 1.2643 - val_accuracy: 0.7185\n",
            "Epoch 19/30\n",
            "121/124 [============================>.] - ETA: 0s - loss: 0.0399 - accuracy: 0.9938\n",
            "Epoch 19: val_accuracy did not improve from 0.71852\n",
            "124/124 [==============================] - 2s 14ms/step - loss: 0.0398 - accuracy: 0.9939 - val_loss: 1.4182 - val_accuracy: 0.6963\n",
            "Epoch 20/30\n",
            "121/124 [============================>.] - ETA: 0s - loss: 0.0341 - accuracy: 0.9944\n",
            "Epoch 20: val_accuracy did not improve from 0.71852\n",
            "124/124 [==============================] - 2s 14ms/step - loss: 0.0341 - accuracy: 0.9944 - val_loss: 1.3714 - val_accuracy: 0.7148\n",
            "Epoch 21/30\n",
            "121/124 [============================>.] - ETA: 0s - loss: 0.0322 - accuracy: 0.9948\n",
            "Epoch 21: val_accuracy did not improve from 0.71852\n",
            "124/124 [==============================] - 2s 14ms/step - loss: 0.0322 - accuracy: 0.9949 - val_loss: 1.4215 - val_accuracy: 0.7000\n",
            "Epoch 22/30\n",
            "121/124 [============================>.] - ETA: 0s - loss: 0.0293 - accuracy: 0.9946\n",
            "Epoch 22: val_accuracy did not improve from 0.71852\n",
            "124/124 [==============================] - 2s 14ms/step - loss: 0.0291 - accuracy: 0.9947 - val_loss: 1.3469 - val_accuracy: 0.7037\n",
            "Epoch 23/30\n",
            "121/124 [============================>.] - ETA: 0s - loss: 0.0303 - accuracy: 0.9939\n",
            "Epoch 23: val_accuracy did not improve from 0.71852\n",
            "124/124 [==============================] - 2s 14ms/step - loss: 0.0303 - accuracy: 0.9940 - val_loss: 1.4101 - val_accuracy: 0.7000\n",
            "Epoch 24/30\n",
            "121/124 [============================>.] - ETA: 0s - loss: 0.0265 - accuracy: 0.9957\n",
            "Epoch 24: val_accuracy improved from 0.71852 to 0.72593, saving model to /tmp/video_classifier/\n",
            "124/124 [==============================] - 2s 15ms/step - loss: 0.0274 - accuracy: 0.9953 - val_loss: 1.4537 - val_accuracy: 0.7259\n",
            "Epoch 25/30\n",
            "121/124 [============================>.] - ETA: 0s - loss: 0.0245 - accuracy: 0.9965\n",
            "Epoch 25: val_accuracy did not improve from 0.72593\n",
            "124/124 [==============================] - 2s 14ms/step - loss: 0.0244 - accuracy: 0.9965 - val_loss: 1.5154 - val_accuracy: 0.7037\n",
            "Epoch 26/30\n",
            "121/124 [============================>.] - ETA: 0s - loss: 0.0216 - accuracy: 0.9966\n",
            "Epoch 26: val_accuracy did not improve from 0.72593\n",
            "124/124 [==============================] - 2s 14ms/step - loss: 0.0219 - accuracy: 0.9966 - val_loss: 1.4781 - val_accuracy: 0.7148\n",
            "Epoch 27/30\n",
            "121/124 [============================>.] - ETA: 0s - loss: 0.0201 - accuracy: 0.9965\n",
            "Epoch 27: val_accuracy did not improve from 0.72593\n",
            "124/124 [==============================] - 2s 14ms/step - loss: 0.0203 - accuracy: 0.9963 - val_loss: 1.4731 - val_accuracy: 0.7037\n",
            "Epoch 28/30\n",
            "121/124 [============================>.] - ETA: 0s - loss: 0.0201 - accuracy: 0.9961\n",
            "Epoch 28: val_accuracy did not improve from 0.72593\n",
            "124/124 [==============================] - 2s 14ms/step - loss: 0.0204 - accuracy: 0.9959 - val_loss: 1.5132 - val_accuracy: 0.7074\n",
            "Epoch 29/30\n",
            "121/124 [============================>.] - ETA: 0s - loss: 0.0186 - accuracy: 0.9966\n",
            "Epoch 29: val_accuracy improved from 0.72593 to 0.72963, saving model to /tmp/video_classifier/\n",
            "124/124 [==============================] - 2s 15ms/step - loss: 0.0185 - accuracy: 0.9967 - val_loss: 1.4012 - val_accuracy: 0.7296\n",
            "Epoch 30/30\n",
            "121/124 [============================>.] - ETA: 0s - loss: 0.0157 - accuracy: 0.9973\n",
            "Epoch 30: val_accuracy did not improve from 0.72963\n",
            "124/124 [==============================] - 2s 14ms/step - loss: 0.0157 - accuracy: 0.9973 - val_loss: 1.5176 - val_accuracy: 0.7259\n"
          ]
        },
        {
          "output_type": "display_data",
          "data": {
            "text/plain": [
              "<Figure size 432x288 with 1 Axes>"
            ],
            "image/png": "[encoded data removed]"
          },
          "metadata": {
            "needs_background": "light"
          }
        },
        {
          "output_type": "stream",
          "name": "stdout",
          "text": [
            "filepath after ['checkpoint', '.data-00000-of-00001', '.index']\n",
            "filepath after <tensorflow.python.training.tracking.util.CheckpointLoadStatus object at 0x7fba12dcc210>\n",
            "9/9 [==============================] - 0s 5ms/step - loss: 1.4012 - accuracy: 0.7296\n",
            "Test accuracy: 72.96%\n",
            "TOTAL TIME:  0.3048262596130371\n"
          ]
        }
      ],
      "source": [
        "trained_model, predictions= run_experiment(X_train2, y_train_arr2, X_test2, y_test_arr2)\n"
      ]
    },
    {
      "cell_type": "code",
      "execution_count": null,
      "metadata": {
        "colab": {
          "base_uri": "https://localhost:8080/",
          "height": 1000
        },
        "id": "XqMdw1anaI9O",
        "outputId": "166b69b2-d76a-4076-95ac-93fe8061a54e"
      },
      "outputs": [
        {
          "output_type": "stream",
          "name": "stdout",
          "text": [
            "Epoch 1/30\n",
            "121/125 [============================>.] - ETA: 0s - loss: 2.2705 - accuracy: 0.4400\n",
            "Epoch 1: val_accuracy improved from -inf to 0.52075, saving model to /tmp/video_classifier/\n",
            "125/125 [==============================] - 4s 17ms/step - loss: 2.2388 - accuracy: 0.4472 - val_loss: 1.6227 - val_accuracy: 0.5208\n",
            "Epoch 2/30\n",
            "121/125 [============================>.] - ETA: 0s - loss: 0.8077 - accuracy: 0.7856\n",
            "Epoch 2: val_accuracy improved from 0.52075 to 0.59245, saving model to /tmp/video_classifier/\n",
            "125/125 [==============================] - 2s 15ms/step - loss: 0.8060 - accuracy: 0.7852 - val_loss: 1.4039 - val_accuracy: 0.5925\n",
            "Epoch 3/30\n",
            "125/125 [==============================] - ETA: 0s - loss: 0.5557 - accuracy: 0.8522\n",
            "Epoch 3: val_accuracy improved from 0.59245 to 0.60755, saving model to /tmp/video_classifier/\n",
            "125/125 [==============================] - 2s 15ms/step - loss: 0.5557 - accuracy: 0.8522 - val_loss: 1.2915 - val_accuracy: 0.6075\n",
            "Epoch 4/30\n",
            "121/125 [============================>.] - ETA: 0s - loss: 0.4191 - accuracy: 0.8939\n",
            "Epoch 4: val_accuracy improved from 0.60755 to 0.65283, saving model to /tmp/video_classifier/\n",
            "125/125 [==============================] - 2s 15ms/step - loss: 0.4182 - accuracy: 0.8944 - val_loss: 1.2395 - val_accuracy: 0.6528\n",
            "Epoch 5/30\n",
            "121/125 [============================>.] - ETA: 0s - loss: 0.3362 - accuracy: 0.9128\n",
            "Epoch 5: val_accuracy improved from 0.65283 to 0.66415, saving model to /tmp/video_classifier/\n",
            "125/125 [==============================] - 2s 15ms/step - loss: 0.3364 - accuracy: 0.9128 - val_loss: 1.2276 - val_accuracy: 0.6642\n",
            "Epoch 6/30\n",
            "125/125 [==============================] - ETA: 0s - loss: 0.2690 - accuracy: 0.9364\n",
            "Epoch 6: val_accuracy did not improve from 0.66415\n",
            "125/125 [==============================] - 2s 14ms/step - loss: 0.2690 - accuracy: 0.9364 - val_loss: 1.2157 - val_accuracy: 0.6566\n",
            "Epoch 7/30\n",
            "121/125 [============================>.] - ETA: 0s - loss: 0.2169 - accuracy: 0.9540\n",
            "Epoch 7: val_accuracy improved from 0.66415 to 0.68302, saving model to /tmp/video_classifier/\n",
            "125/125 [==============================] - 2s 15ms/step - loss: 0.2149 - accuracy: 0.9544 - val_loss: 1.1968 - val_accuracy: 0.6830\n",
            "Epoch 8/30\n",
            "125/125 [==============================] - ETA: 0s - loss: 0.1756 - accuracy: 0.9632\n",
            "Epoch 8: val_accuracy improved from 0.68302 to 0.69057, saving model to /tmp/video_classifier/\n",
            "125/125 [==============================] - 2s 15ms/step - loss: 0.1756 - accuracy: 0.9632 - val_loss: 1.1754 - val_accuracy: 0.6906\n",
            "Epoch 9/30\n",
            "121/125 [============================>.] - ETA: 0s - loss: 0.1444 - accuracy: 0.9693\n",
            "Epoch 9: val_accuracy improved from 0.69057 to 0.70566, saving model to /tmp/video_classifier/\n",
            "125/125 [==============================] - 2s 15ms/step - loss: 0.1438 - accuracy: 0.9693 - val_loss: 1.1646 - val_accuracy: 0.7057\n",
            "Epoch 10/30\n",
            "121/125 [============================>.] - ETA: 0s - loss: 0.1202 - accuracy: 0.9760\n",
            "Epoch 10: val_accuracy improved from 0.70566 to 0.71698, saving model to /tmp/video_classifier/\n",
            "125/125 [==============================] - 2s 15ms/step - loss: 0.1207 - accuracy: 0.9761 - val_loss: 1.1810 - val_accuracy: 0.7170\n",
            "Epoch 11/30\n",
            "125/125 [==============================] - ETA: 0s - loss: 0.0986 - accuracy: 0.9822\n",
            "Epoch 11: val_accuracy did not improve from 0.71698\n",
            "125/125 [==============================] - 2s 14ms/step - loss: 0.0986 - accuracy: 0.9822 - val_loss: 1.2221 - val_accuracy: 0.6943\n",
            "Epoch 12/30\n",
            "121/125 [============================>.] - ETA: 0s - loss: 0.0804 - accuracy: 0.9868\n",
            "Epoch 12: val_accuracy did not improve from 0.71698\n",
            "125/125 [==============================] - 2s 14ms/step - loss: 0.0804 - accuracy: 0.9868 - val_loss: 1.2063 - val_accuracy: 0.7094\n",
            "Epoch 13/30\n",
            "121/125 [============================>.] - ETA: 0s - loss: 0.0722 - accuracy: 0.9862\n",
            "Epoch 13: val_accuracy did not improve from 0.71698\n",
            "125/125 [==============================] - 2s 14ms/step - loss: 0.0726 - accuracy: 0.9860 - val_loss: 1.2385 - val_accuracy: 0.7057\n",
            "Epoch 14/30\n",
            "121/125 [============================>.] - ETA: 0s - loss: 0.0645 - accuracy: 0.9888\n",
            "Epoch 14: val_accuracy did not improve from 0.71698\n",
            "125/125 [==============================] - 2s 14ms/step - loss: 0.0638 - accuracy: 0.9891 - val_loss: 1.2512 - val_accuracy: 0.7132\n",
            "Epoch 15/30\n",
            "121/125 [============================>.] - ETA: 0s - loss: 0.0568 - accuracy: 0.9895\n",
            "Epoch 15: val_accuracy did not improve from 0.71698\n",
            "125/125 [==============================] - 2s 14ms/step - loss: 0.0569 - accuracy: 0.9893 - val_loss: 1.2955 - val_accuracy: 0.6906\n",
            "Epoch 16/30\n",
            "121/125 [============================>.] - ETA: 0s - loss: 0.0535 - accuracy: 0.9901\n",
            "Epoch 16: val_accuracy improved from 0.71698 to 0.73962, saving model to /tmp/video_classifier/\n",
            "125/125 [==============================] - 2s 15ms/step - loss: 0.0532 - accuracy: 0.9902 - val_loss: 1.2448 - val_accuracy: 0.7396\n",
            "Epoch 17/30\n",
            "121/125 [============================>.] - ETA: 0s - loss: 0.0466 - accuracy: 0.9907\n",
            "Epoch 17: val_accuracy did not improve from 0.73962\n",
            "125/125 [==============================] - 2s 14ms/step - loss: 0.0463 - accuracy: 0.9910 - val_loss: 1.3117 - val_accuracy: 0.7057\n",
            "Epoch 18/30\n",
            "121/125 [============================>.] - ETA: 0s - loss: 0.0397 - accuracy: 0.9932\n",
            "Epoch 18: val_accuracy did not improve from 0.73962\n",
            "125/125 [==============================] - 2s 14ms/step - loss: 0.0400 - accuracy: 0.9931 - val_loss: 1.2937 - val_accuracy: 0.6868\n",
            "Epoch 19/30\n",
            "121/125 [============================>.] - ETA: 0s - loss: 0.0362 - accuracy: 0.9942\n",
            "Epoch 19: val_accuracy did not improve from 0.73962\n",
            "125/125 [==============================] - 2s 14ms/step - loss: 0.0369 - accuracy: 0.9938 - val_loss: 1.3245 - val_accuracy: 0.7019\n",
            "Epoch 20/30\n",
            "121/125 [============================>.] - ETA: 0s - loss: 0.0339 - accuracy: 0.9939\n",
            "Epoch 20: val_accuracy did not improve from 0.73962\n",
            "125/125 [==============================] - 2s 14ms/step - loss: 0.0340 - accuracy: 0.9938 - val_loss: 1.3944 - val_accuracy: 0.6792\n",
            "Epoch 21/30\n",
            "125/125 [==============================] - ETA: 0s - loss: 0.0310 - accuracy: 0.9952\n",
            "Epoch 21: val_accuracy did not improve from 0.73962\n",
            "125/125 [==============================] - 2s 14ms/step - loss: 0.0310 - accuracy: 0.9952 - val_loss: 1.3343 - val_accuracy: 0.6943\n",
            "Epoch 22/30\n",
            "121/125 [============================>.] - ETA: 0s - loss: 0.0315 - accuracy: 0.9946\n",
            "Epoch 22: val_accuracy did not improve from 0.73962\n",
            "125/125 [==============================] - 2s 14ms/step - loss: 0.0313 - accuracy: 0.9946 - val_loss: 1.4446 - val_accuracy: 0.6981\n",
            "Epoch 23/30\n",
            "121/125 [============================>.] - ETA: 0s - loss: 0.0249 - accuracy: 0.9964\n",
            "Epoch 23: val_accuracy did not improve from 0.73962\n",
            "125/125 [==============================] - 2s 14ms/step - loss: 0.0248 - accuracy: 0.9965 - val_loss: 1.4191 - val_accuracy: 0.7019\n",
            "Epoch 24/30\n",
            "125/125 [==============================] - ETA: 0s - loss: 0.0253 - accuracy: 0.9956\n",
            "Epoch 24: val_accuracy did not improve from 0.73962\n",
            "125/125 [==============================] - 2s 14ms/step - loss: 0.0253 - accuracy: 0.9956 - val_loss: 1.3784 - val_accuracy: 0.7019\n",
            "Epoch 25/30\n",
            "121/125 [============================>.] - ETA: 0s - loss: 0.0231 - accuracy: 0.9959\n",
            "Epoch 25: val_accuracy did not improve from 0.73962\n",
            "125/125 [==============================] - 2s 14ms/step - loss: 0.0232 - accuracy: 0.9959 - val_loss: 1.3414 - val_accuracy: 0.7132\n",
            "Epoch 26/30\n",
            "121/125 [============================>.] - ETA: 0s - loss: 0.0210 - accuracy: 0.9965\n",
            "Epoch 26: val_accuracy did not improve from 0.73962\n",
            "125/125 [==============================] - 2s 14ms/step - loss: 0.0214 - accuracy: 0.9962 - val_loss: 1.3591 - val_accuracy: 0.7245\n",
            "Epoch 27/30\n",
            "121/125 [============================>.] - ETA: 0s - loss: 0.0193 - accuracy: 0.9968\n",
            "Epoch 27: val_accuracy did not improve from 0.73962\n",
            "125/125 [==============================] - 2s 14ms/step - loss: 0.0195 - accuracy: 0.9967 - val_loss: 1.3682 - val_accuracy: 0.6981\n",
            "Epoch 28/30\n",
            "121/125 [============================>.] - ETA: 0s - loss: 0.0196 - accuracy: 0.9965\n",
            "Epoch 28: val_accuracy did not improve from 0.73962\n",
            "125/125 [==============================] - 2s 14ms/step - loss: 0.0195 - accuracy: 0.9965 - val_loss: 1.3894 - val_accuracy: 0.6943\n",
            "Epoch 29/30\n",
            "121/125 [============================>.] - ETA: 0s - loss: 0.0189 - accuracy: 0.9968\n",
            "Epoch 29: val_accuracy did not improve from 0.73962\n",
            "125/125 [==============================] - 2s 14ms/step - loss: 0.0196 - accuracy: 0.9965 - val_loss: 1.4273 - val_accuracy: 0.7019\n",
            "Epoch 30/30\n",
            "121/125 [============================>.] - ETA: 0s - loss: 0.0170 - accuracy: 0.9975\n",
            "Epoch 30: val_accuracy did not improve from 0.73962\n",
            "125/125 [==============================] - 2s 14ms/step - loss: 0.0171 - accuracy: 0.9975 - val_loss: 1.4605 - val_accuracy: 0.7019\n"
          ]
        },
        {
          "output_type": "display_data",
          "data": {
            "text/plain": [
              "<Figure size 432x288 with 1 Axes>"
            ],
            "image/png": "[encoded data removed]"
          },
          "metadata": {
            "needs_background": "light"
          }
        },
        {
          "output_type": "stream",
          "name": "stdout",
          "text": [
            "filepath after ['checkpoint', '.data-00000-of-00001', '.index']\n",
            "filepath after <tensorflow.python.training.tracking.util.CheckpointLoadStatus object at 0x7fba14135150>\n",
            "9/9 [==============================] - 0s 5ms/step - loss: 1.2448 - accuracy: 0.7396\n",
            "Test accuracy: 73.96%\n",
            "TOTAL TIME:  0.303314208984375\n"
          ]
        }
      ],
      "source": [
        "trained_model, predictions= run_experiment(X_train3, y_train_arr3, X_test3, y_test_arr3)\n"
      ]
    },
    {
      "cell_type": "code",
      "execution_count": null,
      "metadata": {
        "id": "Bi3gU4toaI9O",
        "outputId": "4568e58c-9d1d-420f-91c5-12a263d34144",
        "colab": {
          "base_uri": "https://localhost:8080/"
        }
      },
      "outputs": [
        {
          "output_type": "stream",
          "name": "stdout",
          "text": [
            "Model: \"model_2\"\n",
            "_________________________________________________________________\n",
            " Layer (type)                Output Shape              Param #   \n",
            "=================================================================\n",
            " input_3 (InputLayer)        [(None, None, None)]      0         \n",
            "                                                                 \n",
            " positional_embedding_2 (Pos  (None, None, 150)        4200      \n",
            " itionalEmbedding)                                               \n",
            "                                                                 \n",
            " dropout_10 (Dropout)        (None, None, 150)         0         \n",
            "                                                                 \n",
            " encoder_2 (Encoder)         (None, None, 150)         1449610   \n",
            "                                                                 \n",
            " global_max_pooling1d_2 (Glo  (None, 150)              0         \n",
            " balMaxPooling1D)                                                \n",
            "                                                                 \n",
            " flatten_2 (Flatten)         (None, 150)               0         \n",
            "                                                                 \n",
            " dense_8 (Dense)             (None, 21)                3171      \n",
            "                                                                 \n",
            "=================================================================\n",
            "Total params: 1,456,981\n",
            "Trainable params: 1,456,677\n",
            "Non-trainable params: 304\n",
            "_________________________________________________________________\n"
          ]
        }
      ],
      "source": [
        "trained_model.summary()"
      ]
    },
    {
      "cell_type": "code",
      "execution_count": null,
      "metadata": {
        "id": "-mt7UuEUaI9P",
        "colab": {
          "base_uri": "https://localhost:8080/",
          "height": 164
        },
        "outputId": "a7cbf97f-3bf8-4d14-ef54-cdcf8c101583"
      },
      "outputs": [
        {
          "output_type": "error",
          "ename": "NameError",
          "evalue": "ignored",
          "traceback": [
            "\u001b[0;31m---------------------------------------------------------------------------\u001b[0m",
            "\u001b[0;31mNameError\u001b[0m                                 Traceback (most recent call last)",
            "\u001b[0;32m<ipython-input-91-e007672bdcda>\u001b[0m in \u001b[0;36m<module>\u001b[0;34m()\u001b[0m\n\u001b[0;32m----> 1\u001b[0;31m \u001b[0mconfusion_matrix\u001b[0m \u001b[0;34m=\u001b[0m \u001b[0mmetrics\u001b[0m\u001b[0;34m.\u001b[0m\u001b[0mconfusion_matrix\u001b[0m\u001b[0;34m(\u001b[0m\u001b[0my_test_arr1\u001b[0m\u001b[0;34m,\u001b[0m \u001b[0my_pred\u001b[0m\u001b[0;34m.\u001b[0m\u001b[0margmax\u001b[0m\u001b[0;34m(\u001b[0m\u001b[0maxis\u001b[0m\u001b[0;34m=\u001b[0m\u001b[0;36m1\u001b[0m\u001b[0;34m)\u001b[0m\u001b[0;34m)\u001b[0m\u001b[0;34m\u001b[0m\u001b[0;34m\u001b[0m\u001b[0m\n\u001b[0m",
            "\u001b[0;31mNameError\u001b[0m: name 'y_pred' is not defined"
          ]
        }
      ],
      "source": [
        "confusion_matrix = metrics.confusion_matrix(y_test_arr1, y_pred1.argmax(axis=1))\n"
      ]
    },
    {
      "cell_type": "code",
      "execution_count": null,
      "metadata": {
        "id": "XhsuhGs0aI9P"
      },
      "outputs": [],
      "source": [
        "#print(confusion_matrix)\n",
        "normalised_confusion_matrix = np.array(confusion_matrix, dtype=np.float32)/np.sum(confusion_matrix)*100\n",
        "\n",
        "\n",
        "# Plot Results:\n",
        "width = 12\n",
        "height = 12\n",
        "plt.figure(figsize=(width, height))\n",
        "plt.imshow(\n",
        "    normalised_confusion_matrix,\n",
        "    interpolation='nearest',\n",
        "    cmap=plt.cm.Blues\n",
        ")\n",
        "plt.title(\"Confusion matrix \\n(normalised to % of total test data)\")\n",
        "plt.colorbar()\n",
        "tick_marks = np.arange(21)\n",
        "plt.xticks(tick_marks, LABELS, rotation=90)\n",
        "plt.yticks(tick_marks, LABELS)\n",
        "plt.tight_layout()\n",
        "plt.ylabel('True label')\n",
        "plt.xlabel('Predicted label')\n",
        "plt.show()"
      ]
    }
  ],
  "metadata": {
    "hide_input": false,
    "kernelspec": {
      "display_name": "Python 3",
      "language": "python",
      "name": "python3"
    },
    "language_info": {
      "codemirror_mode": {
        "name": "ipython",
        "version": 3
      },
      "file_extension": ".py",
      "mimetype": "text/x-python",
      "name": "python",
      "nbconvert_exporter": "python",
      "pygments_lexer": "ipython3",
      "version": "3.8.2"
    },
    "colab": {
      "provenance": [],
      "collapsed_sections": [
        "fWtFXCr9aI8l",
        "-w8R_mutaI9B"
      ],
      "machine_shape": "hm"
    },
    "accelerator": "GPU",
    "gpuClass": "standard"
  },
  "nbformat": 4,
  "nbformat_minor": 0
}